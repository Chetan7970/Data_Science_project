{
 "cells": [
  {
   "cell_type": "markdown",
   "metadata": {},
   "source": [
    "# Problem Statement \n",
    "### Predict on Crab Age"
   ]
  },
  {
   "cell_type": "code",
   "execution_count": 89,
   "metadata": {
    "_cell_guid": "b1076dfc-b9ad-4769-8c92-a6c4dae69d19",
    "_uuid": "8f2839f25d086af736a60e9eeb907d3b93b6e0e5",
    "execution": {
     "iopub.execute_input": "2023-07-14T19:34:29.692826Z",
     "iopub.status.busy": "2023-07-14T19:34:29.692444Z",
     "iopub.status.idle": "2023-07-14T19:34:29.698047Z",
     "shell.execute_reply": "2023-07-14T19:34:29.696842Z",
     "shell.execute_reply.started": "2023-07-14T19:34:29.692792Z"
    }
   },
   "outputs": [],
   "source": [
    "import numpy as np\n",
    "import pandas as pd\n",
    "import matplotlib.pyplot as plt\n",
    "import seaborn as sns"
   ]
  },
  {
   "cell_type": "code",
   "execution_count": 90,
   "metadata": {
    "execution": {
     "iopub.execute_input": "2023-07-14T19:34:29.875568Z",
     "iopub.status.busy": "2023-07-14T19:34:29.874966Z",
     "iopub.status.idle": "2023-07-14T19:34:29.946340Z",
     "shell.execute_reply": "2023-07-14T19:34:29.945683Z",
     "shell.execute_reply.started": "2023-07-14T19:34:29.875530Z"
    }
   },
   "outputs": [],
   "source": [
    "train=pd.read_csv(r\"E:\\Data_science_Project\\Crab_Age_Prediction\\train.csv\")"
   ]
  },
  {
   "cell_type": "code",
   "execution_count": 91,
   "metadata": {
    "execution": {
     "iopub.execute_input": "2023-07-14T19:34:30.047651Z",
     "iopub.status.busy": "2023-07-14T19:34:30.047041Z",
     "iopub.status.idle": "2023-07-14T19:34:30.063011Z",
     "shell.execute_reply": "2023-07-14T19:34:30.062160Z",
     "shell.execute_reply.started": "2023-07-14T19:34:30.047617Z"
    }
   },
   "outputs": [
    {
     "data": {
      "text/html": [
       "<div>\n",
       "<style scoped>\n",
       "    .dataframe tbody tr th:only-of-type {\n",
       "        vertical-align: middle;\n",
       "    }\n",
       "\n",
       "    .dataframe tbody tr th {\n",
       "        vertical-align: top;\n",
       "    }\n",
       "\n",
       "    .dataframe thead th {\n",
       "        text-align: right;\n",
       "    }\n",
       "</style>\n",
       "<table border=\"1\" class=\"dataframe\">\n",
       "  <thead>\n",
       "    <tr style=\"text-align: right;\">\n",
       "      <th></th>\n",
       "      <th>id</th>\n",
       "      <th>Sex</th>\n",
       "      <th>Length</th>\n",
       "      <th>Diameter</th>\n",
       "      <th>Height</th>\n",
       "      <th>Weight</th>\n",
       "      <th>Shucked Weight</th>\n",
       "      <th>Viscera Weight</th>\n",
       "      <th>Shell Weight</th>\n",
       "      <th>Age</th>\n",
       "    </tr>\n",
       "  </thead>\n",
       "  <tbody>\n",
       "    <tr>\n",
       "      <th>0</th>\n",
       "      <td>0</td>\n",
       "      <td>I</td>\n",
       "      <td>1.5250</td>\n",
       "      <td>1.1750</td>\n",
       "      <td>0.3750</td>\n",
       "      <td>28.973189</td>\n",
       "      <td>12.728926</td>\n",
       "      <td>6.647958</td>\n",
       "      <td>8.348928</td>\n",
       "      <td>9</td>\n",
       "    </tr>\n",
       "    <tr>\n",
       "      <th>1</th>\n",
       "      <td>1</td>\n",
       "      <td>I</td>\n",
       "      <td>1.1000</td>\n",
       "      <td>0.8250</td>\n",
       "      <td>0.2750</td>\n",
       "      <td>10.418441</td>\n",
       "      <td>4.521745</td>\n",
       "      <td>2.324659</td>\n",
       "      <td>3.401940</td>\n",
       "      <td>8</td>\n",
       "    </tr>\n",
       "    <tr>\n",
       "      <th>2</th>\n",
       "      <td>2</td>\n",
       "      <td>M</td>\n",
       "      <td>1.3875</td>\n",
       "      <td>1.1125</td>\n",
       "      <td>0.3750</td>\n",
       "      <td>24.777463</td>\n",
       "      <td>11.339800</td>\n",
       "      <td>5.556502</td>\n",
       "      <td>6.662133</td>\n",
       "      <td>9</td>\n",
       "    </tr>\n",
       "    <tr>\n",
       "      <th>3</th>\n",
       "      <td>3</td>\n",
       "      <td>F</td>\n",
       "      <td>1.7000</td>\n",
       "      <td>1.4125</td>\n",
       "      <td>0.5000</td>\n",
       "      <td>50.660556</td>\n",
       "      <td>20.354941</td>\n",
       "      <td>10.991839</td>\n",
       "      <td>14.996885</td>\n",
       "      <td>11</td>\n",
       "    </tr>\n",
       "    <tr>\n",
       "      <th>4</th>\n",
       "      <td>4</td>\n",
       "      <td>I</td>\n",
       "      <td>1.2500</td>\n",
       "      <td>1.0125</td>\n",
       "      <td>0.3375</td>\n",
       "      <td>23.289114</td>\n",
       "      <td>11.977664</td>\n",
       "      <td>4.507570</td>\n",
       "      <td>5.953395</td>\n",
       "      <td>8</td>\n",
       "    </tr>\n",
       "  </tbody>\n",
       "</table>\n",
       "</div>"
      ],
      "text/plain": [
       "   id Sex  Length  Diameter  Height     Weight  Shucked Weight  \\\n",
       "0   0   I  1.5250    1.1750  0.3750  28.973189       12.728926   \n",
       "1   1   I  1.1000    0.8250  0.2750  10.418441        4.521745   \n",
       "2   2   M  1.3875    1.1125  0.3750  24.777463       11.339800   \n",
       "3   3   F  1.7000    1.4125  0.5000  50.660556       20.354941   \n",
       "4   4   I  1.2500    1.0125  0.3375  23.289114       11.977664   \n",
       "\n",
       "   Viscera Weight  Shell Weight  Age  \n",
       "0        6.647958      8.348928    9  \n",
       "1        2.324659      3.401940    8  \n",
       "2        5.556502      6.662133    9  \n",
       "3       10.991839     14.996885   11  \n",
       "4        4.507570      5.953395    8  "
      ]
     },
     "execution_count": 91,
     "metadata": {},
     "output_type": "execute_result"
    }
   ],
   "source": [
    "train.head()"
   ]
  },
  {
   "cell_type": "code",
   "execution_count": 92,
   "metadata": {
    "execution": {
     "iopub.execute_input": "2023-07-14T19:34:30.200239Z",
     "iopub.status.busy": "2023-07-14T19:34:30.199715Z",
     "iopub.status.idle": "2023-07-14T19:34:30.224617Z",
     "shell.execute_reply": "2023-07-14T19:34:30.222967Z",
     "shell.execute_reply.started": "2023-07-14T19:34:30.200206Z"
    }
   },
   "outputs": [
    {
     "name": "stdout",
     "output_type": "stream",
     "text": [
      "<class 'pandas.core.frame.DataFrame'>\n",
      "RangeIndex: 74051 entries, 0 to 74050\n",
      "Data columns (total 10 columns):\n",
      " #   Column          Non-Null Count  Dtype  \n",
      "---  ------          --------------  -----  \n",
      " 0   id              74051 non-null  int64  \n",
      " 1   Sex             74051 non-null  object \n",
      " 2   Length          74051 non-null  float64\n",
      " 3   Diameter        74051 non-null  float64\n",
      " 4   Height          74051 non-null  float64\n",
      " 5   Weight          74051 non-null  float64\n",
      " 6   Shucked Weight  74051 non-null  float64\n",
      " 7   Viscera Weight  74051 non-null  float64\n",
      " 8   Shell Weight    74051 non-null  float64\n",
      " 9   Age             74051 non-null  int64  \n",
      "dtypes: float64(7), int64(2), object(1)\n",
      "memory usage: 5.6+ MB\n"
     ]
    }
   ],
   "source": [
    "train.info()"
   ]
  },
  {
   "cell_type": "code",
   "execution_count": 93,
   "metadata": {
    "execution": {
     "iopub.execute_input": "2023-07-14T19:34:30.357459Z",
     "iopub.status.busy": "2023-07-14T19:34:30.356142Z",
     "iopub.status.idle": "2023-07-14T19:34:30.407974Z",
     "shell.execute_reply": "2023-07-14T19:34:30.405991Z",
     "shell.execute_reply.started": "2023-07-14T19:34:30.357410Z"
    }
   },
   "outputs": [
    {
     "data": {
      "text/html": [
       "<div>\n",
       "<style scoped>\n",
       "    .dataframe tbody tr th:only-of-type {\n",
       "        vertical-align: middle;\n",
       "    }\n",
       "\n",
       "    .dataframe tbody tr th {\n",
       "        vertical-align: top;\n",
       "    }\n",
       "\n",
       "    .dataframe thead th {\n",
       "        text-align: right;\n",
       "    }\n",
       "</style>\n",
       "<table border=\"1\" class=\"dataframe\">\n",
       "  <thead>\n",
       "    <tr style=\"text-align: right;\">\n",
       "      <th></th>\n",
       "      <th>id</th>\n",
       "      <th>Length</th>\n",
       "      <th>Diameter</th>\n",
       "      <th>Height</th>\n",
       "      <th>Weight</th>\n",
       "      <th>Shucked Weight</th>\n",
       "      <th>Viscera Weight</th>\n",
       "      <th>Shell Weight</th>\n",
       "      <th>Age</th>\n",
       "    </tr>\n",
       "  </thead>\n",
       "  <tbody>\n",
       "    <tr>\n",
       "      <th>count</th>\n",
       "      <td>74051.000000</td>\n",
       "      <td>74051.000000</td>\n",
       "      <td>74051.000000</td>\n",
       "      <td>74051.000000</td>\n",
       "      <td>74051.000000</td>\n",
       "      <td>74051.000000</td>\n",
       "      <td>74051.000000</td>\n",
       "      <td>74051.000000</td>\n",
       "      <td>74051.000000</td>\n",
       "    </tr>\n",
       "    <tr>\n",
       "      <th>mean</th>\n",
       "      <td>37025.000000</td>\n",
       "      <td>1.317460</td>\n",
       "      <td>1.024496</td>\n",
       "      <td>0.348089</td>\n",
       "      <td>23.385217</td>\n",
       "      <td>10.104270</td>\n",
       "      <td>5.058386</td>\n",
       "      <td>6.723870</td>\n",
       "      <td>9.967806</td>\n",
       "    </tr>\n",
       "    <tr>\n",
       "      <th>std</th>\n",
       "      <td>21376.826729</td>\n",
       "      <td>0.287757</td>\n",
       "      <td>0.237396</td>\n",
       "      <td>0.092034</td>\n",
       "      <td>12.648153</td>\n",
       "      <td>5.618025</td>\n",
       "      <td>2.792729</td>\n",
       "      <td>3.584372</td>\n",
       "      <td>3.175189</td>\n",
       "    </tr>\n",
       "    <tr>\n",
       "      <th>min</th>\n",
       "      <td>0.000000</td>\n",
       "      <td>0.187500</td>\n",
       "      <td>0.137500</td>\n",
       "      <td>0.000000</td>\n",
       "      <td>0.056699</td>\n",
       "      <td>0.028349</td>\n",
       "      <td>0.042524</td>\n",
       "      <td>0.042524</td>\n",
       "      <td>1.000000</td>\n",
       "    </tr>\n",
       "    <tr>\n",
       "      <th>25%</th>\n",
       "      <td>18512.500000</td>\n",
       "      <td>1.150000</td>\n",
       "      <td>0.887500</td>\n",
       "      <td>0.300000</td>\n",
       "      <td>13.437663</td>\n",
       "      <td>5.712424</td>\n",
       "      <td>2.863300</td>\n",
       "      <td>3.968930</td>\n",
       "      <td>8.000000</td>\n",
       "    </tr>\n",
       "    <tr>\n",
       "      <th>50%</th>\n",
       "      <td>37025.000000</td>\n",
       "      <td>1.375000</td>\n",
       "      <td>1.075000</td>\n",
       "      <td>0.362500</td>\n",
       "      <td>23.799405</td>\n",
       "      <td>9.908150</td>\n",
       "      <td>4.989512</td>\n",
       "      <td>6.931453</td>\n",
       "      <td>10.000000</td>\n",
       "    </tr>\n",
       "    <tr>\n",
       "      <th>75%</th>\n",
       "      <td>55537.500000</td>\n",
       "      <td>1.537500</td>\n",
       "      <td>1.200000</td>\n",
       "      <td>0.412500</td>\n",
       "      <td>32.162508</td>\n",
       "      <td>14.033003</td>\n",
       "      <td>6.988152</td>\n",
       "      <td>9.071840</td>\n",
       "      <td>11.000000</td>\n",
       "    </tr>\n",
       "    <tr>\n",
       "      <th>max</th>\n",
       "      <td>74050.000000</td>\n",
       "      <td>2.012815</td>\n",
       "      <td>1.612500</td>\n",
       "      <td>2.825000</td>\n",
       "      <td>80.101512</td>\n",
       "      <td>42.184056</td>\n",
       "      <td>21.545620</td>\n",
       "      <td>28.491248</td>\n",
       "      <td>29.000000</td>\n",
       "    </tr>\n",
       "  </tbody>\n",
       "</table>\n",
       "</div>"
      ],
      "text/plain": [
       "                 id        Length      Diameter        Height        Weight  \\\n",
       "count  74051.000000  74051.000000  74051.000000  74051.000000  74051.000000   \n",
       "mean   37025.000000      1.317460      1.024496      0.348089     23.385217   \n",
       "std    21376.826729      0.287757      0.237396      0.092034     12.648153   \n",
       "min        0.000000      0.187500      0.137500      0.000000      0.056699   \n",
       "25%    18512.500000      1.150000      0.887500      0.300000     13.437663   \n",
       "50%    37025.000000      1.375000      1.075000      0.362500     23.799405   \n",
       "75%    55537.500000      1.537500      1.200000      0.412500     32.162508   \n",
       "max    74050.000000      2.012815      1.612500      2.825000     80.101512   \n",
       "\n",
       "       Shucked Weight  Viscera Weight  Shell Weight           Age  \n",
       "count    74051.000000    74051.000000  74051.000000  74051.000000  \n",
       "mean        10.104270        5.058386      6.723870      9.967806  \n",
       "std          5.618025        2.792729      3.584372      3.175189  \n",
       "min          0.028349        0.042524      0.042524      1.000000  \n",
       "25%          5.712424        2.863300      3.968930      8.000000  \n",
       "50%          9.908150        4.989512      6.931453     10.000000  \n",
       "75%         14.033003        6.988152      9.071840     11.000000  \n",
       "max         42.184056       21.545620     28.491248     29.000000  "
      ]
     },
     "execution_count": 93,
     "metadata": {},
     "output_type": "execute_result"
    }
   ],
   "source": [
    "train.describe()"
   ]
  },
  {
   "cell_type": "code",
   "execution_count": 94,
   "metadata": {
    "execution": {
     "iopub.execute_input": "2023-07-14T19:34:30.488939Z",
     "iopub.status.busy": "2023-07-14T19:34:30.488569Z",
     "iopub.status.idle": "2023-07-14T19:34:30.509859Z",
     "shell.execute_reply": "2023-07-14T19:34:30.508793Z",
     "shell.execute_reply.started": "2023-07-14T19:34:30.488909Z"
    }
   },
   "outputs": [
    {
     "data": {
      "text/plain": [
       "id                0\n",
       "Sex               0\n",
       "Length            0\n",
       "Diameter          0\n",
       "Height            0\n",
       "Weight            0\n",
       "Shucked Weight    0\n",
       "Viscera Weight    0\n",
       "Shell Weight      0\n",
       "Age               0\n",
       "dtype: int64"
      ]
     },
     "execution_count": 94,
     "metadata": {},
     "output_type": "execute_result"
    }
   ],
   "source": [
    "train.isna().sum()"
   ]
  },
  {
   "cell_type": "code",
   "execution_count": 95,
   "metadata": {
    "execution": {
     "iopub.execute_input": "2023-07-14T19:34:30.623379Z",
     "iopub.status.busy": "2023-07-14T19:34:30.623030Z",
     "iopub.status.idle": "2023-07-14T19:34:30.652806Z",
     "shell.execute_reply": "2023-07-14T19:34:30.651680Z",
     "shell.execute_reply.started": "2023-07-14T19:34:30.623350Z"
    }
   },
   "outputs": [
    {
     "data": {
      "text/plain": [
       "0"
      ]
     },
     "execution_count": 95,
     "metadata": {},
     "output_type": "execute_result"
    }
   ],
   "source": [
    "train.duplicated().sum()"
   ]
  },
  {
   "cell_type": "markdown",
   "metadata": {},
   "source": [
    "#### Here we can see that Id column is different from tarin and test column so we drop it"
   ]
  },
  {
   "cell_type": "code",
   "execution_count": 96,
   "metadata": {
    "execution": {
     "iopub.execute_input": "2023-07-14T19:34:30.904893Z",
     "iopub.status.busy": "2023-07-14T19:34:30.904541Z",
     "iopub.status.idle": "2023-07-14T19:34:30.912898Z",
     "shell.execute_reply": "2023-07-14T19:34:30.911576Z",
     "shell.execute_reply.started": "2023-07-14T19:34:30.904868Z"
    }
   },
   "outputs": [],
   "source": [
    "train.drop([\"id\"],axis=1,inplace=True)"
   ]
  },
  {
   "cell_type": "code",
   "execution_count": 97,
   "metadata": {
    "execution": {
     "iopub.execute_input": "2023-07-14T19:34:31.048064Z",
     "iopub.status.busy": "2023-07-14T19:34:31.047661Z",
     "iopub.status.idle": "2023-07-14T19:34:31.351708Z",
     "shell.execute_reply": "2023-07-14T19:34:31.350827Z",
     "shell.execute_reply.started": "2023-07-14T19:34:31.048033Z"
    }
   },
   "outputs": [
    {
     "ename": "TypeError",
     "evalue": "corr() got an unexpected keyword argument 'numeric_only'",
     "output_type": "error",
     "traceback": [
      "\u001b[1;31m---------------------------------------------------------------------------\u001b[0m",
      "\u001b[1;31mTypeError\u001b[0m                                 Traceback (most recent call last)",
      "\u001b[1;32m~\\AppData\\Local\\Temp\\ipykernel_19864\\4291125648.py\u001b[0m in \u001b[0;36m<module>\u001b[1;34m\u001b[0m\n\u001b[1;32m----> 1\u001b[1;33m \u001b[0mcorr\u001b[0m\u001b[1;33m=\u001b[0m\u001b[0mtrain\u001b[0m\u001b[1;33m.\u001b[0m\u001b[0mcorr\u001b[0m\u001b[1;33m(\u001b[0m\u001b[0mnumeric_only\u001b[0m\u001b[1;33m=\u001b[0m\u001b[1;32mTrue\u001b[0m\u001b[1;33m)\u001b[0m\u001b[1;33m\u001b[0m\u001b[1;33m\u001b[0m\u001b[0m\n\u001b[0m\u001b[0;32m      2\u001b[0m \u001b[0msns\u001b[0m\u001b[1;33m.\u001b[0m\u001b[0mheatmap\u001b[0m\u001b[1;33m(\u001b[0m\u001b[0mcorr\u001b[0m\u001b[1;33m)\u001b[0m\u001b[1;33m\u001b[0m\u001b[1;33m\u001b[0m\u001b[0m\n",
      "\u001b[1;31mTypeError\u001b[0m: corr() got an unexpected keyword argument 'numeric_only'"
     ]
    }
   ],
   "source": [
    "corr=train.corr(numeric_only=True)\n",
    "sns.heatmap(corr)"
   ]
  },
  {
   "cell_type": "code",
   "execution_count": 98,
   "metadata": {
    "execution": {
     "iopub.execute_input": "2023-07-14T19:34:31.353563Z",
     "iopub.status.busy": "2023-07-14T19:34:31.353113Z",
     "iopub.status.idle": "2023-07-14T19:34:31.367945Z",
     "shell.execute_reply": "2023-07-14T19:34:31.366498Z",
     "shell.execute_reply.started": "2023-07-14T19:34:31.353536Z"
    }
   },
   "outputs": [
    {
     "ename": "NameError",
     "evalue": "name 'corr' is not defined",
     "output_type": "error",
     "traceback": [
      "\u001b[1;31m---------------------------------------------------------------------------\u001b[0m",
      "\u001b[1;31mNameError\u001b[0m                                 Traceback (most recent call last)",
      "\u001b[1;32m~\\AppData\\Local\\Temp\\ipykernel_19864\\3596738644.py\u001b[0m in \u001b[0;36m<module>\u001b[1;34m\u001b[0m\n\u001b[1;32m----> 1\u001b[1;33m \u001b[0mcorr\u001b[0m\u001b[1;33m\u001b[0m\u001b[1;33m\u001b[0m\u001b[0m\n\u001b[0m",
      "\u001b[1;31mNameError\u001b[0m: name 'corr' is not defined"
     ]
    }
   ],
   "source": [
    "corr"
   ]
  },
  {
   "cell_type": "markdown",
   "metadata": {},
   "source": [
    "### We can see that there is a coolinearity problem\n",
    "#### Creat coorelation matrix"
   ]
  },
  {
   "cell_type": "code",
   "execution_count": 99,
   "metadata": {
    "execution": {
     "iopub.execute_input": "2023-07-14T19:34:31.471473Z",
     "iopub.status.busy": "2023-07-14T19:34:31.471102Z",
     "iopub.status.idle": "2023-07-14T19:34:31.496343Z",
     "shell.execute_reply": "2023-07-14T19:34:31.495330Z",
     "shell.execute_reply.started": "2023-07-14T19:34:31.471420Z"
    }
   },
   "outputs": [
    {
     "name": "stdout",
     "output_type": "stream",
     "text": [
      "['Diameter', 'Shucked Weight', 'Viscera Weight', 'Shell Weight']\n"
     ]
    }
   ],
   "source": [
    "corr_matrix=train.corr().abs()\n",
    "\n",
    "# Select upper triangle of coorelation matrix\n",
    "upper=corr_matrix.where(np.triu(np.ones(corr_matrix.shape),k=1).astype(bool))\n",
    "\n",
    "#Find index of feature columns with coorelation greater then 0.95\n",
    "to_drop=[column for column in upper.columns if any(upper[column]>0.95)]\n",
    "print(to_drop)\n",
    "\n",
    "train.drop(to_drop,axis=1,inplace=True)\n"
   ]
  },
  {
   "cell_type": "code",
   "execution_count": 100,
   "metadata": {
    "execution": {
     "iopub.execute_input": "2023-07-14T19:34:31.612838Z",
     "iopub.status.busy": "2023-07-14T19:34:31.612262Z",
     "iopub.status.idle": "2023-07-14T19:34:31.636056Z",
     "shell.execute_reply": "2023-07-14T19:34:31.634679Z",
     "shell.execute_reply.started": "2023-07-14T19:34:31.612797Z"
    }
   },
   "outputs": [
    {
     "name": "stdout",
     "output_type": "stream",
     "text": [
      "<class 'pandas.core.frame.DataFrame'>\n",
      "RangeIndex: 74051 entries, 0 to 74050\n",
      "Data columns (total 5 columns):\n",
      " #   Column  Non-Null Count  Dtype  \n",
      "---  ------  --------------  -----  \n",
      " 0   Sex     74051 non-null  object \n",
      " 1   Length  74051 non-null  float64\n",
      " 2   Height  74051 non-null  float64\n",
      " 3   Weight  74051 non-null  float64\n",
      " 4   Age     74051 non-null  int64  \n",
      "dtypes: float64(3), int64(1), object(1)\n",
      "memory usage: 2.8+ MB\n"
     ]
    }
   ],
   "source": [
    "train.info()"
   ]
  },
  {
   "cell_type": "code",
   "execution_count": 101,
   "metadata": {
    "execution": {
     "iopub.execute_input": "2023-07-14T19:34:31.779556Z",
     "iopub.status.busy": "2023-07-14T19:34:31.779183Z",
     "iopub.status.idle": "2023-07-14T19:34:32.017997Z",
     "shell.execute_reply": "2023-07-14T19:34:32.017125Z",
     "shell.execute_reply.started": "2023-07-14T19:34:31.779528Z"
    }
   },
   "outputs": [
    {
     "data": {
      "text/plain": [
       "<AxesSubplot:>"
      ]
     },
     "execution_count": 101,
     "metadata": {},
     "output_type": "execute_result"
    },
    {
     "data": {
      "image/png": "[encoded data removed]",
      "text/plain": [
       "<Figure size 640x480 with 1 Axes>"
      ]
     },
     "metadata": {},
     "output_type": "display_data"
    }
   ],
   "source": [
    "sns.boxplot(data=train)"
   ]
  },
  {
   "cell_type": "markdown",
   "metadata": {},
   "source": [
    "### Dealing with Outliers"
   ]
  },
  {
   "cell_type": "code",
   "execution_count": 102,
   "metadata": {
    "execution": {
     "iopub.execute_input": "2023-07-14T19:34:32.088136Z",
     "iopub.status.busy": "2023-07-14T19:34:32.087736Z",
     "iopub.status.idle": "2023-07-14T19:34:32.098090Z",
     "shell.execute_reply": "2023-07-14T19:34:32.096630Z",
     "shell.execute_reply.started": "2023-07-14T19:34:32.088105Z"
    }
   },
   "outputs": [],
   "source": [
    "Q3=train[\"Length\"].quantile(0.75)"
   ]
  },
  {
   "cell_type": "code",
   "execution_count": 103,
   "metadata": {
    "execution": {
     "iopub.execute_input": "2023-07-14T19:34:32.346216Z",
     "iopub.status.busy": "2023-07-14T19:34:32.345828Z",
     "iopub.status.idle": "2023-07-14T19:34:32.354658Z",
     "shell.execute_reply": "2023-07-14T19:34:32.353204Z",
     "shell.execute_reply.started": "2023-07-14T19:34:32.346187Z"
    }
   },
   "outputs": [],
   "source": [
    "Q1=train[\"Length\"].quantile(0.25)"
   ]
  },
  {
   "cell_type": "code",
   "execution_count": 104,
   "metadata": {
    "execution": {
     "iopub.execute_input": "2023-07-14T19:34:32.422506Z",
     "iopub.status.busy": "2023-07-14T19:34:32.421893Z",
     "iopub.status.idle": "2023-07-14T19:34:32.427303Z",
     "shell.execute_reply": "2023-07-14T19:34:32.425877Z",
     "shell.execute_reply.started": "2023-07-14T19:34:32.422474Z"
    }
   },
   "outputs": [],
   "source": [
    "IQR=Q3-Q1"
   ]
  },
  {
   "cell_type": "code",
   "execution_count": 105,
   "metadata": {
    "execution": {
     "iopub.execute_input": "2023-07-14T19:34:32.621237Z",
     "iopub.status.busy": "2023-07-14T19:34:32.620718Z",
     "iopub.status.idle": "2023-07-14T19:34:32.626041Z",
     "shell.execute_reply": "2023-07-14T19:34:32.624558Z",
     "shell.execute_reply.started": "2023-07-14T19:34:32.621208Z"
    }
   },
   "outputs": [],
   "source": [
    "lower_limit=Q1-(1.5*IQR)"
   ]
  },
  {
   "cell_type": "code",
   "execution_count": 106,
   "metadata": {
    "execution": {
     "iopub.execute_input": "2023-07-14T19:34:32.847656Z",
     "iopub.status.busy": "2023-07-14T19:34:32.846368Z",
     "iopub.status.idle": "2023-07-14T19:34:32.851952Z",
     "shell.execute_reply": "2023-07-14T19:34:32.851171Z",
     "shell.execute_reply.started": "2023-07-14T19:34:32.847619Z"
    }
   },
   "outputs": [],
   "source": [
    "upper_limit=Q3-(1.5*IQR)"
   ]
  },
  {
   "cell_type": "code",
   "execution_count": 107,
   "metadata": {
    "execution": {
     "iopub.execute_input": "2023-07-14T19:34:33.793832Z",
     "iopub.status.busy": "2023-07-14T19:34:33.793319Z",
     "iopub.status.idle": "2023-07-14T19:34:33.804062Z",
     "shell.execute_reply": "2023-07-14T19:34:33.802257Z",
     "shell.execute_reply.started": "2023-07-14T19:34:33.793797Z"
    }
   },
   "outputs": [],
   "source": [
    "train[\"replaced_Length\"]=pd.DataFrame(np.where(train[\"Length\"]>upper_limit,upper_limit,np.where(train[\"Length\"]<lower_limit,lower_limit,train[\"Length\"])))"
   ]
  },
  {
   "cell_type": "code",
   "execution_count": 108,
   "metadata": {
    "execution": {
     "iopub.execute_input": "2023-07-14T19:34:33.969600Z",
     "iopub.status.busy": "2023-07-14T19:34:33.969044Z",
     "iopub.status.idle": "2023-07-14T19:34:33.981500Z",
     "shell.execute_reply": "2023-07-14T19:34:33.980295Z",
     "shell.execute_reply.started": "2023-07-14T19:34:33.969561Z"
    }
   },
   "outputs": [],
   "source": [
    "train.drop([\"Length\"],axis=1,inplace=True)"
   ]
  },
  {
   "cell_type": "code",
   "execution_count": 109,
   "metadata": {
    "execution": {
     "iopub.execute_input": "2023-07-14T19:34:34.140120Z",
     "iopub.status.busy": "2023-07-14T19:34:34.139421Z",
     "iopub.status.idle": "2023-07-14T19:34:34.145909Z",
     "shell.execute_reply": "2023-07-14T19:34:34.145031Z",
     "shell.execute_reply.started": "2023-07-14T19:34:34.140075Z"
    }
   },
   "outputs": [],
   "source": [
    "train.rename(columns={\"replaced_Lenght\": \"Lenght\"},inplace=True)"
   ]
  },
  {
   "cell_type": "code",
   "execution_count": 110,
   "metadata": {
    "execution": {
     "iopub.execute_input": "2023-07-14T19:34:34.298517Z",
     "iopub.status.busy": "2023-07-14T19:34:34.297810Z",
     "iopub.status.idle": "2023-07-14T19:34:34.311802Z",
     "shell.execute_reply": "2023-07-14T19:34:34.310810Z",
     "shell.execute_reply.started": "2023-07-14T19:34:34.298467Z"
    }
   },
   "outputs": [],
   "source": [
    "Q3=train[\"Weight\"].quantile(0.75)\n",
    "Q1=train[\"Weight\"].quantile(0.25)\n",
    "IQR=Q3-Q1"
   ]
  },
  {
   "cell_type": "code",
   "execution_count": 111,
   "metadata": {
    "execution": {
     "iopub.execute_input": "2023-07-14T19:34:34.462608Z",
     "iopub.status.busy": "2023-07-14T19:34:34.462223Z",
     "iopub.status.idle": "2023-07-14T19:34:34.468547Z",
     "shell.execute_reply": "2023-07-14T19:34:34.466657Z",
     "shell.execute_reply.started": "2023-07-14T19:34:34.462580Z"
    }
   },
   "outputs": [],
   "source": [
    "lower_limit=Q1-(1.5*IQR)\n",
    "upper_limit=Q3-(1.5*IQR)"
   ]
  },
  {
   "cell_type": "code",
   "execution_count": 112,
   "metadata": {
    "execution": {
     "iopub.execute_input": "2023-07-14T19:34:34.631307Z",
     "iopub.status.busy": "2023-07-14T19:34:34.630972Z",
     "iopub.status.idle": "2023-07-14T19:34:34.643823Z",
     "shell.execute_reply": "2023-07-14T19:34:34.642013Z",
     "shell.execute_reply.started": "2023-07-14T19:34:34.631282Z"
    }
   },
   "outputs": [],
   "source": [
    "train[\"replaced_Weight\"]=pd.DataFrame(np.where(train[\"Weight\"]>upper_limit,upper_limit,np.where(train[\"Weight\"]<lower_limit,lower_limit,train[\"Weight\"])))\n",
    "train.drop([\"Weight\"],axis=1,inplace=True)\n",
    "train.rename(columns={\"replaced_Weight\": \"Weight\"},inplace=True)"
   ]
  },
  {
   "cell_type": "code",
   "execution_count": 113,
   "metadata": {
    "execution": {
     "iopub.execute_input": "2023-07-14T19:34:34.802951Z",
     "iopub.status.busy": "2023-07-14T19:34:34.802591Z",
     "iopub.status.idle": "2023-07-14T19:34:34.813603Z",
     "shell.execute_reply": "2023-07-14T19:34:34.812130Z",
     "shell.execute_reply.started": "2023-07-14T19:34:34.802920Z"
    }
   },
   "outputs": [],
   "source": [
    "Q3=train[\"Age\"].quantile(0.75)\n",
    "Q1=train[\"Age\"].quantile(0.25)\n",
    "IQR=Q3-Q1"
   ]
  },
  {
   "cell_type": "code",
   "execution_count": 114,
   "metadata": {
    "execution": {
     "iopub.execute_input": "2023-07-14T19:34:34.990376Z",
     "iopub.status.busy": "2023-07-14T19:34:34.989996Z",
     "iopub.status.idle": "2023-07-14T19:34:34.995623Z",
     "shell.execute_reply": "2023-07-14T19:34:34.994519Z",
     "shell.execute_reply.started": "2023-07-14T19:34:34.990348Z"
    }
   },
   "outputs": [],
   "source": [
    "lower_limit=Q1-(1.5*IQR)\n",
    "upper_limit=Q3-(1.5*IQR)"
   ]
  },
  {
   "cell_type": "code",
   "execution_count": 115,
   "metadata": {
    "execution": {
     "iopub.execute_input": "2023-07-14T19:34:35.148834Z",
     "iopub.status.busy": "2023-07-14T19:34:35.147724Z",
     "iopub.status.idle": "2023-07-14T19:34:35.159895Z",
     "shell.execute_reply": "2023-07-14T19:34:35.158584Z",
     "shell.execute_reply.started": "2023-07-14T19:34:35.148786Z"
    }
   },
   "outputs": [],
   "source": [
    "train[\"replaced_Age\"]=pd.DataFrame(np.where(train[\"Age\"]>upper_limit,upper_limit,np.where(train[\"Age\"]<lower_limit,lower_limit,train[\"Age\"])))\n",
    "train.drop([\"Age\"],axis=1,inplace=True)\n",
    "train.rename(columns={\"replaced_Age\": \"Age\"},inplace=True)"
   ]
  },
  {
   "cell_type": "code",
   "execution_count": 116,
   "metadata": {
    "execution": {
     "iopub.execute_input": "2023-07-14T19:34:35.307149Z",
     "iopub.status.busy": "2023-07-14T19:34:35.306234Z",
     "iopub.status.idle": "2023-07-14T19:34:35.317116Z",
     "shell.execute_reply": "2023-07-14T19:34:35.315995Z",
     "shell.execute_reply.started": "2023-07-14T19:34:35.307110Z"
    }
   },
   "outputs": [],
   "source": [
    "Q3=train[\"Height\"].quantile(0.75)\n",
    "Q1=train[\"Height\"].quantile(0.25)\n",
    "IQR=Q3-Q1"
   ]
  },
  {
   "cell_type": "code",
   "execution_count": 117,
   "metadata": {
    "execution": {
     "iopub.execute_input": "2023-07-14T19:34:35.474175Z",
     "iopub.status.busy": "2023-07-14T19:34:35.473657Z",
     "iopub.status.idle": "2023-07-14T19:34:35.478867Z",
     "shell.execute_reply": "2023-07-14T19:34:35.476963Z",
     "shell.execute_reply.started": "2023-07-14T19:34:35.474146Z"
    }
   },
   "outputs": [],
   "source": [
    "lower_limit=Q1-(1.5*IQR)\n",
    "upper_limit=Q3-(1.5*IQR)"
   ]
  },
  {
   "cell_type": "code",
   "execution_count": 118,
   "metadata": {
    "execution": {
     "iopub.execute_input": "2023-07-14T19:34:35.635243Z",
     "iopub.status.busy": "2023-07-14T19:34:35.634908Z",
     "iopub.status.idle": "2023-07-14T19:34:35.646457Z",
     "shell.execute_reply": "2023-07-14T19:34:35.645585Z",
     "shell.execute_reply.started": "2023-07-14T19:34:35.635215Z"
    }
   },
   "outputs": [],
   "source": [
    "train[\"replaced_Height\"]=pd.DataFrame(np.where(train[\"Height\"]>upper_limit,upper_limit,np.where(train[\"Height\"]<lower_limit,lower_limit,train[\"Height\"])))\n",
    "train.drop([\"Height\"],axis=1,inplace=True)\n",
    "train.rename(columns={\"replaced_Height\": \"Height\"},inplace=True)"
   ]
  },
  {
   "cell_type": "code",
   "execution_count": 119,
   "metadata": {
    "execution": {
     "iopub.execute_input": "2023-07-14T19:34:35.817915Z",
     "iopub.status.busy": "2023-07-14T19:34:35.817550Z",
     "iopub.status.idle": "2023-07-14T19:34:35.830321Z",
     "shell.execute_reply": "2023-07-14T19:34:35.829184Z",
     "shell.execute_reply.started": "2023-07-14T19:34:35.817889Z"
    }
   },
   "outputs": [
    {
     "data": {
      "text/html": [
       "<div>\n",
       "<style scoped>\n",
       "    .dataframe tbody tr th:only-of-type {\n",
       "        vertical-align: middle;\n",
       "    }\n",
       "\n",
       "    .dataframe tbody tr th {\n",
       "        vertical-align: top;\n",
       "    }\n",
       "\n",
       "    .dataframe thead th {\n",
       "        text-align: right;\n",
       "    }\n",
       "</style>\n",
       "<table border=\"1\" class=\"dataframe\">\n",
       "  <thead>\n",
       "    <tr style=\"text-align: right;\">\n",
       "      <th></th>\n",
       "      <th>Sex</th>\n",
       "      <th>replaced_Length</th>\n",
       "      <th>Weight</th>\n",
       "      <th>Age</th>\n",
       "      <th>Height</th>\n",
       "    </tr>\n",
       "  </thead>\n",
       "  <tbody>\n",
       "    <tr>\n",
       "      <th>0</th>\n",
       "      <td>I</td>\n",
       "      <td>0.95625</td>\n",
       "      <td>4.075241</td>\n",
       "      <td>6.5</td>\n",
       "      <td>0.24375</td>\n",
       "    </tr>\n",
       "    <tr>\n",
       "      <th>1</th>\n",
       "      <td>I</td>\n",
       "      <td>0.95625</td>\n",
       "      <td>4.075241</td>\n",
       "      <td>6.5</td>\n",
       "      <td>0.24375</td>\n",
       "    </tr>\n",
       "    <tr>\n",
       "      <th>2</th>\n",
       "      <td>M</td>\n",
       "      <td>0.95625</td>\n",
       "      <td>4.075241</td>\n",
       "      <td>6.5</td>\n",
       "      <td>0.24375</td>\n",
       "    </tr>\n",
       "    <tr>\n",
       "      <th>3</th>\n",
       "      <td>F</td>\n",
       "      <td>0.95625</td>\n",
       "      <td>4.075241</td>\n",
       "      <td>6.5</td>\n",
       "      <td>0.24375</td>\n",
       "    </tr>\n",
       "    <tr>\n",
       "      <th>4</th>\n",
       "      <td>I</td>\n",
       "      <td>0.95625</td>\n",
       "      <td>4.075241</td>\n",
       "      <td>6.5</td>\n",
       "      <td>0.24375</td>\n",
       "    </tr>\n",
       "  </tbody>\n",
       "</table>\n",
       "</div>"
      ],
      "text/plain": [
       "  Sex  replaced_Length    Weight  Age   Height\n",
       "0   I          0.95625  4.075241  6.5  0.24375\n",
       "1   I          0.95625  4.075241  6.5  0.24375\n",
       "2   M          0.95625  4.075241  6.5  0.24375\n",
       "3   F          0.95625  4.075241  6.5  0.24375\n",
       "4   I          0.95625  4.075241  6.5  0.24375"
      ]
     },
     "execution_count": 119,
     "metadata": {},
     "output_type": "execute_result"
    }
   ],
   "source": [
    "train.head()"
   ]
  },
  {
   "cell_type": "code",
   "execution_count": 120,
   "metadata": {
    "execution": {
     "iopub.execute_input": "2023-07-14T19:34:36.203730Z",
     "iopub.status.busy": "2023-07-14T19:34:36.203293Z",
     "iopub.status.idle": "2023-07-14T19:34:36.210082Z",
     "shell.execute_reply": "2023-07-14T19:34:36.208773Z",
     "shell.execute_reply.started": "2023-07-14T19:34:36.203682Z"
    }
   },
   "outputs": [],
   "source": [
    "column_to_move = train.pop(train.columns[3])"
   ]
  },
  {
   "cell_type": "code",
   "execution_count": 121,
   "metadata": {
    "execution": {
     "iopub.execute_input": "2023-07-14T19:34:36.326209Z",
     "iopub.status.busy": "2023-07-14T19:34:36.325824Z",
     "iopub.status.idle": "2023-07-14T19:34:36.332785Z",
     "shell.execute_reply": "2023-07-14T19:34:36.331466Z",
     "shell.execute_reply.started": "2023-07-14T19:34:36.326180Z"
    }
   },
   "outputs": [],
   "source": [
    "train.insert(len(train.columns), column_to_move.name, column_to_move)"
   ]
  },
  {
   "cell_type": "code",
   "execution_count": 122,
   "metadata": {
    "execution": {
     "iopub.execute_input": "2023-07-14T19:34:36.498131Z",
     "iopub.status.busy": "2023-07-14T19:34:36.497748Z",
     "iopub.status.idle": "2023-07-14T19:34:36.511876Z",
     "shell.execute_reply": "2023-07-14T19:34:36.510461Z",
     "shell.execute_reply.started": "2023-07-14T19:34:36.498101Z"
    }
   },
   "outputs": [
    {
     "data": {
      "text/html": [
       "<div>\n",
       "<style scoped>\n",
       "    .dataframe tbody tr th:only-of-type {\n",
       "        vertical-align: middle;\n",
       "    }\n",
       "\n",
       "    .dataframe tbody tr th {\n",
       "        vertical-align: top;\n",
       "    }\n",
       "\n",
       "    .dataframe thead th {\n",
       "        text-align: right;\n",
       "    }\n",
       "</style>\n",
       "<table border=\"1\" class=\"dataframe\">\n",
       "  <thead>\n",
       "    <tr style=\"text-align: right;\">\n",
       "      <th></th>\n",
       "      <th>Sex</th>\n",
       "      <th>replaced_Length</th>\n",
       "      <th>Weight</th>\n",
       "      <th>Height</th>\n",
       "      <th>Age</th>\n",
       "    </tr>\n",
       "  </thead>\n",
       "  <tbody>\n",
       "    <tr>\n",
       "      <th>0</th>\n",
       "      <td>I</td>\n",
       "      <td>0.95625</td>\n",
       "      <td>4.075241</td>\n",
       "      <td>0.24375</td>\n",
       "      <td>6.5</td>\n",
       "    </tr>\n",
       "    <tr>\n",
       "      <th>1</th>\n",
       "      <td>I</td>\n",
       "      <td>0.95625</td>\n",
       "      <td>4.075241</td>\n",
       "      <td>0.24375</td>\n",
       "      <td>6.5</td>\n",
       "    </tr>\n",
       "    <tr>\n",
       "      <th>2</th>\n",
       "      <td>M</td>\n",
       "      <td>0.95625</td>\n",
       "      <td>4.075241</td>\n",
       "      <td>0.24375</td>\n",
       "      <td>6.5</td>\n",
       "    </tr>\n",
       "    <tr>\n",
       "      <th>3</th>\n",
       "      <td>F</td>\n",
       "      <td>0.95625</td>\n",
       "      <td>4.075241</td>\n",
       "      <td>0.24375</td>\n",
       "      <td>6.5</td>\n",
       "    </tr>\n",
       "    <tr>\n",
       "      <th>4</th>\n",
       "      <td>I</td>\n",
       "      <td>0.95625</td>\n",
       "      <td>4.075241</td>\n",
       "      <td>0.24375</td>\n",
       "      <td>6.5</td>\n",
       "    </tr>\n",
       "  </tbody>\n",
       "</table>\n",
       "</div>"
      ],
      "text/plain": [
       "  Sex  replaced_Length    Weight   Height  Age\n",
       "0   I          0.95625  4.075241  0.24375  6.5\n",
       "1   I          0.95625  4.075241  0.24375  6.5\n",
       "2   M          0.95625  4.075241  0.24375  6.5\n",
       "3   F          0.95625  4.075241  0.24375  6.5\n",
       "4   I          0.95625  4.075241  0.24375  6.5"
      ]
     },
     "execution_count": 122,
     "metadata": {},
     "output_type": "execute_result"
    }
   ],
   "source": [
    "train.head()"
   ]
  },
  {
   "cell_type": "code",
   "execution_count": 123,
   "metadata": {
    "execution": {
     "iopub.execute_input": "2023-07-14T19:34:36.678690Z",
     "iopub.status.busy": "2023-07-14T19:34:36.678287Z",
     "iopub.status.idle": "2023-07-14T19:34:36.684657Z",
     "shell.execute_reply": "2023-07-14T19:34:36.683561Z",
     "shell.execute_reply.started": "2023-07-14T19:34:36.678660Z"
    }
   },
   "outputs": [
    {
     "data": {
      "text/plain": [
       "(74051, 5)"
      ]
     },
     "execution_count": 123,
     "metadata": {},
     "output_type": "execute_result"
    }
   ],
   "source": [
    "train.shape"
   ]
  },
  {
   "cell_type": "code",
   "execution_count": 124,
   "metadata": {
    "execution": {
     "iopub.execute_input": "2023-07-14T19:34:39.530674Z",
     "iopub.status.busy": "2023-07-14T19:34:39.530259Z",
     "iopub.status.idle": "2023-07-14T19:34:39.541087Z",
     "shell.execute_reply": "2023-07-14T19:34:39.540207Z",
     "shell.execute_reply.started": "2023-07-14T19:34:39.530643Z"
    }
   },
   "outputs": [
    {
     "data": {
      "text/plain": [
       "M    27084\n",
       "I    23957\n",
       "F    23010\n",
       "Name: Sex, dtype: int64"
      ]
     },
     "execution_count": 124,
     "metadata": {},
     "output_type": "execute_result"
    }
   ],
   "source": [
    "train[\"Sex\"].value_counts()"
   ]
  },
  {
   "cell_type": "code",
   "execution_count": 125,
   "metadata": {
    "execution": {
     "iopub.execute_input": "2023-07-14T19:34:40.400711Z",
     "iopub.status.busy": "2023-07-14T19:34:40.399329Z",
     "iopub.status.idle": "2023-07-14T19:34:47.067697Z",
     "shell.execute_reply": "2023-07-14T19:34:47.066350Z",
     "shell.execute_reply.started": "2023-07-14T19:34:40.400671Z"
    }
   },
   "outputs": [
    {
     "data": {
      "text/plain": [
       "<seaborn.axisgrid.PairGrid at 0x1c909b8b490>"
      ]
     },
     "execution_count": 125,
     "metadata": {},
     "output_type": "execute_result"
    },
    {
     "data": {
      "image/png": "[encoded data removed]",
      "text/plain": [
       "<Figure size 1000x1000 with 20 Axes>"
      ]
     },
     "metadata": {},
     "output_type": "display_data"
    }
   ],
   "source": [
    "sns.pairplot(data=train)"
   ]
  },
  {
   "cell_type": "markdown",
   "metadata": {},
   "source": [
    "### Ordinal encode columns "
   ]
  },
  {
   "cell_type": "code",
   "execution_count": 126,
   "metadata": {
    "execution": {
     "iopub.execute_input": "2023-07-14T19:34:47.070661Z",
     "iopub.status.busy": "2023-07-14T19:34:47.070213Z",
     "iopub.status.idle": "2023-07-14T19:34:47.076677Z",
     "shell.execute_reply": "2023-07-14T19:34:47.075151Z",
     "shell.execute_reply.started": "2023-07-14T19:34:47.070626Z"
    }
   },
   "outputs": [],
   "source": [
    "from sklearn.preprocessing import OrdinalEncoder"
   ]
  },
  {
   "cell_type": "code",
   "execution_count": 127,
   "metadata": {
    "execution": {
     "iopub.execute_input": "2023-07-14T19:34:47.078322Z",
     "iopub.status.busy": "2023-07-14T19:34:47.077942Z",
     "iopub.status.idle": "2023-07-14T19:34:47.120643Z",
     "shell.execute_reply": "2023-07-14T19:34:47.118603Z",
     "shell.execute_reply.started": "2023-07-14T19:34:47.078289Z"
    }
   },
   "outputs": [
    {
     "data": {
      "text/html": [
       "<div>\n",
       "<style scoped>\n",
       "    .dataframe tbody tr th:only-of-type {\n",
       "        vertical-align: middle;\n",
       "    }\n",
       "\n",
       "    .dataframe tbody tr th {\n",
       "        vertical-align: top;\n",
       "    }\n",
       "\n",
       "    .dataframe thead th {\n",
       "        text-align: right;\n",
       "    }\n",
       "</style>\n",
       "<table border=\"1\" class=\"dataframe\">\n",
       "  <thead>\n",
       "    <tr style=\"text-align: right;\">\n",
       "      <th></th>\n",
       "      <th>Sex</th>\n",
       "      <th>replaced_Length</th>\n",
       "      <th>Weight</th>\n",
       "      <th>Height</th>\n",
       "      <th>Age</th>\n",
       "    </tr>\n",
       "  </thead>\n",
       "  <tbody>\n",
       "    <tr>\n",
       "      <th>0</th>\n",
       "      <td>1.0</td>\n",
       "      <td>0.95625</td>\n",
       "      <td>4.075241</td>\n",
       "      <td>0.24375</td>\n",
       "      <td>6.5</td>\n",
       "    </tr>\n",
       "    <tr>\n",
       "      <th>1</th>\n",
       "      <td>1.0</td>\n",
       "      <td>0.95625</td>\n",
       "      <td>4.075241</td>\n",
       "      <td>0.24375</td>\n",
       "      <td>6.5</td>\n",
       "    </tr>\n",
       "    <tr>\n",
       "      <th>2</th>\n",
       "      <td>2.0</td>\n",
       "      <td>0.95625</td>\n",
       "      <td>4.075241</td>\n",
       "      <td>0.24375</td>\n",
       "      <td>6.5</td>\n",
       "    </tr>\n",
       "    <tr>\n",
       "      <th>3</th>\n",
       "      <td>0.0</td>\n",
       "      <td>0.95625</td>\n",
       "      <td>4.075241</td>\n",
       "      <td>0.24375</td>\n",
       "      <td>6.5</td>\n",
       "    </tr>\n",
       "    <tr>\n",
       "      <th>4</th>\n",
       "      <td>1.0</td>\n",
       "      <td>0.95625</td>\n",
       "      <td>4.075241</td>\n",
       "      <td>0.24375</td>\n",
       "      <td>6.5</td>\n",
       "    </tr>\n",
       "    <tr>\n",
       "      <th>...</th>\n",
       "      <td>...</td>\n",
       "      <td>...</td>\n",
       "      <td>...</td>\n",
       "      <td>...</td>\n",
       "      <td>...</td>\n",
       "    </tr>\n",
       "    <tr>\n",
       "      <th>74046</th>\n",
       "      <td>0.0</td>\n",
       "      <td>0.95625</td>\n",
       "      <td>4.075241</td>\n",
       "      <td>0.24375</td>\n",
       "      <td>6.5</td>\n",
       "    </tr>\n",
       "    <tr>\n",
       "      <th>74047</th>\n",
       "      <td>1.0</td>\n",
       "      <td>0.95625</td>\n",
       "      <td>4.075241</td>\n",
       "      <td>0.24375</td>\n",
       "      <td>6.0</td>\n",
       "    </tr>\n",
       "    <tr>\n",
       "      <th>74048</th>\n",
       "      <td>0.0</td>\n",
       "      <td>0.95625</td>\n",
       "      <td>4.075241</td>\n",
       "      <td>0.24375</td>\n",
       "      <td>6.5</td>\n",
       "    </tr>\n",
       "    <tr>\n",
       "      <th>74049</th>\n",
       "      <td>1.0</td>\n",
       "      <td>0.95625</td>\n",
       "      <td>4.075241</td>\n",
       "      <td>0.24375</td>\n",
       "      <td>6.5</td>\n",
       "    </tr>\n",
       "    <tr>\n",
       "      <th>74050</th>\n",
       "      <td>1.0</td>\n",
       "      <td>0.91250</td>\n",
       "      <td>4.075241</td>\n",
       "      <td>0.20000</td>\n",
       "      <td>6.0</td>\n",
       "    </tr>\n",
       "  </tbody>\n",
       "</table>\n",
       "<p>74051 rows × 5 columns</p>\n",
       "</div>"
      ],
      "text/plain": [
       "       Sex  replaced_Length    Weight   Height  Age\n",
       "0      1.0          0.95625  4.075241  0.24375  6.5\n",
       "1      1.0          0.95625  4.075241  0.24375  6.5\n",
       "2      2.0          0.95625  4.075241  0.24375  6.5\n",
       "3      0.0          0.95625  4.075241  0.24375  6.5\n",
       "4      1.0          0.95625  4.075241  0.24375  6.5\n",
       "...    ...              ...       ...      ...  ...\n",
       "74046  0.0          0.95625  4.075241  0.24375  6.5\n",
       "74047  1.0          0.95625  4.075241  0.24375  6.0\n",
       "74048  0.0          0.95625  4.075241  0.24375  6.5\n",
       "74049  1.0          0.95625  4.075241  0.24375  6.5\n",
       "74050  1.0          0.91250  4.075241  0.20000  6.0\n",
       "\n",
       "[74051 rows x 5 columns]"
      ]
     },
     "execution_count": 127,
     "metadata": {},
     "output_type": "execute_result"
    }
   ],
   "source": [
    "enc=OrdinalEncoder()\n",
    "\n",
    "for col in train:\n",
    "    if train[col].dtype=='object':\n",
    "        train[col]=enc.fit_transform(train[col].values.reshape(-1,1))\n",
    "    \n",
    "train"
   ]
  },
  {
   "cell_type": "code",
   "execution_count": 128,
   "metadata": {
    "execution": {
     "iopub.execute_input": "2023-07-14T19:34:47.123619Z",
     "iopub.status.busy": "2023-07-14T19:34:47.123181Z",
     "iopub.status.idle": "2023-07-14T19:34:47.131009Z",
     "shell.execute_reply": "2023-07-14T19:34:47.130245Z",
     "shell.execute_reply.started": "2023-07-14T19:34:47.123580Z"
    }
   },
   "outputs": [
    {
     "name": "stdout",
     "output_type": "stream",
     "text": [
      "Index(['Sex', 'replaced_Length', 'Weight', 'Height', 'Age'], dtype='object')\n"
     ]
    }
   ],
   "source": [
    "print(train.columns)"
   ]
  },
  {
   "cell_type": "code",
   "execution_count": 129,
   "metadata": {
    "execution": {
     "iopub.execute_input": "2023-07-14T19:35:59.053637Z",
     "iopub.status.busy": "2023-07-14T19:35:59.053247Z",
     "iopub.status.idle": "2023-07-14T19:35:59.063771Z",
     "shell.execute_reply": "2023-07-14T19:35:59.061352Z",
     "shell.execute_reply.started": "2023-07-14T19:35:59.053608Z"
    }
   },
   "outputs": [],
   "source": [
    "X=train[['Sex','replaced_Length','Weight','Height']]"
   ]
  },
  {
   "cell_type": "code",
   "execution_count": 130,
   "metadata": {
    "execution": {
     "iopub.execute_input": "2023-07-14T19:36:06.836083Z",
     "iopub.status.busy": "2023-07-14T19:36:06.835683Z",
     "iopub.status.idle": "2023-07-14T19:36:06.841804Z",
     "shell.execute_reply": "2023-07-14T19:36:06.839976Z",
     "shell.execute_reply.started": "2023-07-14T19:36:06.836052Z"
    }
   },
   "outputs": [],
   "source": [
    "Y=train[\"Age\"]"
   ]
  },
  {
   "cell_type": "code",
   "execution_count": 200,
   "metadata": {},
   "outputs": [
    {
     "data": {
      "text/plain": [
       "(74051,)"
      ]
     },
     "execution_count": 200,
     "metadata": {},
     "output_type": "execute_result"
    }
   ],
   "source": [
    "Y.shape"
   ]
  },
  {
   "cell_type": "code",
   "execution_count": 131,
   "metadata": {},
   "outputs": [
    {
     "name": "stdout",
     "output_type": "stream",
     "text": [
      "<class 'pandas.core.frame.DataFrame'>\n",
      "RangeIndex: 74051 entries, 0 to 74050\n",
      "Data columns (total 5 columns):\n",
      " #   Column           Non-Null Count  Dtype  \n",
      "---  ------           --------------  -----  \n",
      " 0   Sex              74051 non-null  float64\n",
      " 1   replaced_Length  74051 non-null  float64\n",
      " 2   Weight           74051 non-null  float64\n",
      " 3   Height           74051 non-null  float64\n",
      " 4   Age              74051 non-null  float64\n",
      "dtypes: float64(5)\n",
      "memory usage: 2.8 MB\n"
     ]
    }
   ],
   "source": [
    "train.info()"
   ]
  },
  {
   "cell_type": "code",
   "execution_count": 153,
   "metadata": {},
   "outputs": [],
   "source": [
    "train[\"Age\"] = train[\"Age\"].round().astype(int)"
   ]
  },
  {
   "cell_type": "code",
   "execution_count": 154,
   "metadata": {},
   "outputs": [
    {
     "data": {
      "text/html": [
       "<div>\n",
       "<style scoped>\n",
       "    .dataframe tbody tr th:only-of-type {\n",
       "        vertical-align: middle;\n",
       "    }\n",
       "\n",
       "    .dataframe tbody tr th {\n",
       "        vertical-align: top;\n",
       "    }\n",
       "\n",
       "    .dataframe thead th {\n",
       "        text-align: right;\n",
       "    }\n",
       "</style>\n",
       "<table border=\"1\" class=\"dataframe\">\n",
       "  <thead>\n",
       "    <tr style=\"text-align: right;\">\n",
       "      <th></th>\n",
       "      <th>Sex</th>\n",
       "      <th>replaced_Length</th>\n",
       "      <th>Weight</th>\n",
       "      <th>Height</th>\n",
       "      <th>Age</th>\n",
       "    </tr>\n",
       "  </thead>\n",
       "  <tbody>\n",
       "    <tr>\n",
       "      <th>0</th>\n",
       "      <td>1.0</td>\n",
       "      <td>0.95625</td>\n",
       "      <td>4.075241</td>\n",
       "      <td>0.24375</td>\n",
       "      <td>6</td>\n",
       "    </tr>\n",
       "    <tr>\n",
       "      <th>1</th>\n",
       "      <td>1.0</td>\n",
       "      <td>0.95625</td>\n",
       "      <td>4.075241</td>\n",
       "      <td>0.24375</td>\n",
       "      <td>6</td>\n",
       "    </tr>\n",
       "    <tr>\n",
       "      <th>2</th>\n",
       "      <td>2.0</td>\n",
       "      <td>0.95625</td>\n",
       "      <td>4.075241</td>\n",
       "      <td>0.24375</td>\n",
       "      <td>6</td>\n",
       "    </tr>\n",
       "    <tr>\n",
       "      <th>3</th>\n",
       "      <td>0.0</td>\n",
       "      <td>0.95625</td>\n",
       "      <td>4.075241</td>\n",
       "      <td>0.24375</td>\n",
       "      <td>6</td>\n",
       "    </tr>\n",
       "    <tr>\n",
       "      <th>4</th>\n",
       "      <td>1.0</td>\n",
       "      <td>0.95625</td>\n",
       "      <td>4.075241</td>\n",
       "      <td>0.24375</td>\n",
       "      <td>6</td>\n",
       "    </tr>\n",
       "  </tbody>\n",
       "</table>\n",
       "</div>"
      ],
      "text/plain": [
       "   Sex  replaced_Length    Weight   Height  Age\n",
       "0  1.0          0.95625  4.075241  0.24375    6\n",
       "1  1.0          0.95625  4.075241  0.24375    6\n",
       "2  2.0          0.95625  4.075241  0.24375    6\n",
       "3  0.0          0.95625  4.075241  0.24375    6\n",
       "4  1.0          0.95625  4.075241  0.24375    6"
      ]
     },
     "execution_count": 154,
     "metadata": {},
     "output_type": "execute_result"
    }
   ],
   "source": [
    "train.head()"
   ]
  },
  {
   "cell_type": "markdown",
   "metadata": {},
   "source": [
    "#### Spliting the Data"
   ]
  },
  {
   "cell_type": "code",
   "execution_count": 155,
   "metadata": {
    "execution": {
     "iopub.execute_input": "2023-07-14T19:37:51.953930Z",
     "iopub.status.busy": "2023-07-14T19:37:51.953508Z",
     "iopub.status.idle": "2023-07-14T19:37:52.119643Z",
     "shell.execute_reply": "2023-07-14T19:37:52.118341Z",
     "shell.execute_reply.started": "2023-07-14T19:37:51.953900Z"
    }
   },
   "outputs": [],
   "source": [
    "from sklearn.model_selection import train_test_split"
   ]
  },
  {
   "cell_type": "code",
   "execution_count": 156,
   "metadata": {
    "execution": {
     "iopub.execute_input": "2023-07-14T19:41:02.480311Z",
     "iopub.status.busy": "2023-07-14T19:41:02.477217Z",
     "iopub.status.idle": "2023-07-14T19:41:02.508724Z",
     "shell.execute_reply": "2023-07-14T19:41:02.506500Z",
     "shell.execute_reply.started": "2023-07-14T19:41:02.480204Z"
    }
   },
   "outputs": [],
   "source": [
    "X_train,X_test,y_train,y_test = train_test_split(X, Y, test_size=0.2, random_state=42)"
   ]
  },
  {
   "cell_type": "code",
   "execution_count": 157,
   "metadata": {
    "execution": {
     "iopub.execute_input": "2023-07-14T19:41:04.247556Z",
     "iopub.status.busy": "2023-07-14T19:41:04.247012Z",
     "iopub.status.idle": "2023-07-14T19:41:04.254810Z",
     "shell.execute_reply": "2023-07-14T19:41:04.253145Z",
     "shell.execute_reply.started": "2023-07-14T19:41:04.247515Z"
    }
   },
   "outputs": [],
   "source": [
    "from sklearn.linear_model import LinearRegression"
   ]
  },
  {
   "cell_type": "code",
   "execution_count": 158,
   "metadata": {
    "execution": {
     "iopub.execute_input": "2023-07-14T19:41:05.696383Z",
     "iopub.status.busy": "2023-07-14T19:41:05.695582Z",
     "iopub.status.idle": "2023-07-14T19:41:05.702349Z",
     "shell.execute_reply": "2023-07-14T19:41:05.700341Z",
     "shell.execute_reply.started": "2023-07-14T19:41:05.696346Z"
    }
   },
   "outputs": [],
   "source": [
    "model=LinearRegression()"
   ]
  },
  {
   "cell_type": "code",
   "execution_count": 159,
   "metadata": {
    "execution": {
     "iopub.execute_input": "2023-07-14T19:41:09.671225Z",
     "iopub.status.busy": "2023-07-14T19:41:09.670681Z",
     "iopub.status.idle": "2023-07-14T19:41:09.680889Z",
     "shell.execute_reply": "2023-07-14T19:41:09.678897Z",
     "shell.execute_reply.started": "2023-07-14T19:41:09.671181Z"
    }
   },
   "outputs": [
    {
     "data": {
      "text/plain": [
       "(59240, 4)"
      ]
     },
     "execution_count": 159,
     "metadata": {},
     "output_type": "execute_result"
    }
   ],
   "source": [
    "X_train.shape"
   ]
  },
  {
   "cell_type": "code",
   "execution_count": 160,
   "metadata": {
    "execution": {
     "iopub.execute_input": "2023-07-14T19:41:11.062172Z",
     "iopub.status.busy": "2023-07-14T19:41:11.061766Z",
     "iopub.status.idle": "2023-07-14T19:41:11.067864Z",
     "shell.execute_reply": "2023-07-14T19:41:11.067027Z",
     "shell.execute_reply.started": "2023-07-14T19:41:11.062141Z"
    }
   },
   "outputs": [
    {
     "data": {
      "text/plain": [
       "(14811, 4)"
      ]
     },
     "execution_count": 160,
     "metadata": {},
     "output_type": "execute_result"
    }
   ],
   "source": [
    "X_test.shape"
   ]
  },
  {
   "cell_type": "code",
   "execution_count": 161,
   "metadata": {
    "execution": {
     "iopub.execute_input": "2023-07-14T19:41:12.594936Z",
     "iopub.status.busy": "2023-07-14T19:41:12.594545Z",
     "iopub.status.idle": "2023-07-14T19:41:12.603733Z",
     "shell.execute_reply": "2023-07-14T19:41:12.601957Z",
     "shell.execute_reply.started": "2023-07-14T19:41:12.594904Z"
    }
   },
   "outputs": [
    {
     "data": {
      "text/plain": [
       "(59240,)"
      ]
     },
     "execution_count": 161,
     "metadata": {},
     "output_type": "execute_result"
    }
   ],
   "source": [
    "y_train.shape"
   ]
  },
  {
   "cell_type": "code",
   "execution_count": 162,
   "metadata": {
    "execution": {
     "iopub.execute_input": "2023-07-14T19:41:14.889464Z",
     "iopub.status.busy": "2023-07-14T19:41:14.888633Z",
     "iopub.status.idle": "2023-07-14T19:41:14.895637Z",
     "shell.execute_reply": "2023-07-14T19:41:14.894781Z",
     "shell.execute_reply.started": "2023-07-14T19:41:14.889404Z"
    }
   },
   "outputs": [
    {
     "data": {
      "text/plain": [
       "(14811,)"
      ]
     },
     "execution_count": 162,
     "metadata": {},
     "output_type": "execute_result"
    }
   ],
   "source": [
    "y_test.shape"
   ]
  },
  {
   "cell_type": "code",
   "execution_count": 163,
   "metadata": {
    "execution": {
     "iopub.execute_input": "2023-07-14T19:41:18.346918Z",
     "iopub.status.busy": "2023-07-14T19:41:18.346312Z",
     "iopub.status.idle": "2023-07-14T19:41:18.389997Z",
     "shell.execute_reply": "2023-07-14T19:41:18.389109Z",
     "shell.execute_reply.started": "2023-07-14T19:41:18.346887Z"
    }
   },
   "outputs": [
    {
     "data": {
      "text/plain": [
       "LinearRegression()"
      ]
     },
     "execution_count": 163,
     "metadata": {},
     "output_type": "execute_result"
    }
   ],
   "source": [
    "model.fit(X_train,y_train)"
   ]
  },
  {
   "cell_type": "code",
   "execution_count": 164,
   "metadata": {
    "execution": {
     "iopub.execute_input": "2023-07-14T19:53:04.520394Z",
     "iopub.status.busy": "2023-07-14T19:53:04.519994Z",
     "iopub.status.idle": "2023-07-14T19:53:04.527010Z",
     "shell.execute_reply": "2023-07-14T19:53:04.526113Z",
     "shell.execute_reply.started": "2023-07-14T19:53:04.520354Z"
    }
   },
   "outputs": [],
   "source": [
    "# Make predictions on the validation set\n",
    "train_lr_pred = model.predict(X_train)"
   ]
  },
  {
   "cell_type": "code",
   "execution_count": 165,
   "metadata": {
    "execution": {
     "iopub.execute_input": "2023-07-14T19:53:05.336147Z",
     "iopub.status.busy": "2023-07-14T19:53:05.335728Z",
     "iopub.status.idle": "2023-07-14T19:53:05.343506Z",
     "shell.execute_reply": "2023-07-14T19:53:05.341535Z",
     "shell.execute_reply.started": "2023-07-14T19:53:05.336121Z"
    }
   },
   "outputs": [],
   "source": [
    "from sklearn.metrics import mean_squared_error"
   ]
  },
  {
   "cell_type": "code",
   "execution_count": 166,
   "metadata": {
    "execution": {
     "iopub.execute_input": "2023-07-14T19:54:15.109983Z",
     "iopub.status.busy": "2023-07-14T19:54:15.109614Z",
     "iopub.status.idle": "2023-07-14T19:54:15.117471Z",
     "shell.execute_reply": "2023-07-14T19:54:15.116351Z",
     "shell.execute_reply.started": "2023-07-14T19:54:15.109953Z"
    }
   },
   "outputs": [
    {
     "name": "stdout",
     "output_type": "stream",
     "text": [
      "Mean Squared Error: 0.04863750886924437\n"
     ]
    }
   ],
   "source": [
    "# Evaluate the model using mean squared error\n",
    "mse = mean_squared_error(y_train,train_lr_pred)\n",
    "print(\"Mean Squared Error:\", mse)\n"
   ]
  },
  {
   "cell_type": "code",
   "execution_count": 167,
   "metadata": {
    "execution": {
     "iopub.execute_input": "2023-07-14T19:56:57.602927Z",
     "iopub.status.busy": "2023-07-14T19:56:57.602595Z",
     "iopub.status.idle": "2023-07-14T19:56:57.613385Z",
     "shell.execute_reply": "2023-07-14T19:56:57.612341Z",
     "shell.execute_reply.started": "2023-07-14T19:56:57.602894Z"
    }
   },
   "outputs": [
    {
     "data": {
      "text/plain": [
       "array([6.48915054, 5.24223497, 6.49143939, ..., 6.49143939, 5.48127682,\n",
       "       6.49143939])"
      ]
     },
     "execution_count": 167,
     "metadata": {},
     "output_type": "execute_result"
    }
   ],
   "source": [
    "# Make predictions on the test set\n",
    "test_lr_pred = model.predict(X_test)\n",
    "test_lr_pred"
   ]
  },
  {
   "cell_type": "code",
   "execution_count": 168,
   "metadata": {
    "execution": {
     "iopub.execute_input": "2023-07-14T19:54:19.922970Z",
     "iopub.status.busy": "2023-07-14T19:54:19.922504Z",
     "iopub.status.idle": "2023-07-14T19:54:19.933184Z",
     "shell.execute_reply": "2023-07-14T19:54:19.931484Z",
     "shell.execute_reply.started": "2023-07-14T19:54:19.922941Z"
    },
    "scrolled": true
   },
   "outputs": [
    {
     "name": "stdout",
     "output_type": "stream",
     "text": [
      "Mean Squared Error: 0.051748181963239014\n"
     ]
    }
   ],
   "source": [
    "# Evaluate the model using mean squared error\n",
    "mse = mean_squared_error(y_test,test_lr_pred)\n",
    "print(\"Mean Squared Error:\", mse)\n"
   ]
  },
  {
   "cell_type": "code",
   "execution_count": 190,
   "metadata": {},
   "outputs": [],
   "source": [
    "import statsmodels.formula.api as smf"
   ]
  },
  {
   "cell_type": "code",
   "execution_count": 191,
   "metadata": {},
   "outputs": [],
   "source": [
    "smf_ml=smf.ols(\"Age ~ Height+Weight+replaced_Length+Sex\",data=train).fit()"
   ]
  },
  {
   "cell_type": "code",
   "execution_count": 192,
   "metadata": {},
   "outputs": [
    {
     "data": {
      "text/html": [
       "<table class=\"simpletable\">\n",
       "<caption>OLS Regression Results</caption>\n",
       "<tr>\n",
       "  <th>Dep. Variable:</th>           <td>Age</td>       <th>  R-squared:         </th>  <td>   0.659</td> \n",
       "</tr>\n",
       "<tr>\n",
       "  <th>Model:</th>                   <td>OLS</td>       <th>  Adj. R-squared:    </th>  <td>   0.659</td> \n",
       "</tr>\n",
       "<tr>\n",
       "  <th>Method:</th>             <td>Least Squares</td>  <th>  F-statistic:       </th>  <td>3.578e+04</td>\n",
       "</tr>\n",
       "<tr>\n",
       "  <th>Date:</th>             <td>Sat, 15 Jul 2023</td> <th>  Prob (F-statistic):</th>   <td>  0.00</td>  \n",
       "</tr>\n",
       "<tr>\n",
       "  <th>Time:</th>                 <td>01:57:44</td>     <th>  Log-Likelihood:    </th>  <td>  25262.</td> \n",
       "</tr>\n",
       "<tr>\n",
       "  <th>No. Observations:</th>      <td> 74051</td>      <th>  AIC:               </th> <td>-5.051e+04</td>\n",
       "</tr>\n",
       "<tr>\n",
       "  <th>Df Residuals:</th>          <td> 74046</td>      <th>  BIC:               </th> <td>-5.047e+04</td>\n",
       "</tr>\n",
       "<tr>\n",
       "  <th>Df Model:</th>              <td>     4</td>      <th>                     </th>      <td> </td>    \n",
       "</tr>\n",
       "<tr>\n",
       "  <th>Covariance Type:</th>      <td>nonrobust</td>    <th>                     </th>      <td> </td>    \n",
       "</tr>\n",
       "</table>\n",
       "<table class=\"simpletable\">\n",
       "<tr>\n",
       "         <td></td>            <th>coef</th>     <th>std err</th>      <th>t</th>      <th>P>|t|</th>  <th>[0.025</th>    <th>0.975]</th>  \n",
       "</tr>\n",
       "<tr>\n",
       "  <th>Intercept</th>       <td>    3.6376</td> <td>    0.009</td> <td>  411.360</td> <td> 0.000</td> <td>    3.620</td> <td>    3.655</td>\n",
       "</tr>\n",
       "<tr>\n",
       "  <th>Height</th>          <td>    0.9450</td> <td>    0.082</td> <td>   11.542</td> <td> 0.000</td> <td>    0.785</td> <td>    1.105</td>\n",
       "</tr>\n",
       "<tr>\n",
       "  <th>Weight</th>          <td>    0.3581</td> <td>    0.003</td> <td>  125.044</td> <td> 0.000</td> <td>    0.352</td> <td>    0.364</td>\n",
       "</tr>\n",
       "<tr>\n",
       "  <th>replaced_Length</th> <td>    0.7036</td> <td>    0.028</td> <td>   24.875</td> <td> 0.000</td> <td>    0.648</td> <td>    0.759</td>\n",
       "</tr>\n",
       "<tr>\n",
       "  <th>Sex</th>             <td>    0.0011</td> <td>    0.001</td> <td>    1.425</td> <td> 0.154</td> <td>   -0.000</td> <td>    0.003</td>\n",
       "</tr>\n",
       "</table>\n",
       "<table class=\"simpletable\">\n",
       "<tr>\n",
       "  <th>Omnibus:</th>       <td>30551.250</td> <th>  Durbin-Watson:     </th>  <td>   2.006</td>  \n",
       "</tr>\n",
       "<tr>\n",
       "  <th>Prob(Omnibus):</th>  <td> 0.000</td>   <th>  Jarque-Bera (JB):  </th> <td>4071735.751</td>\n",
       "</tr>\n",
       "<tr>\n",
       "  <th>Skew:</th>           <td>-0.962</td>   <th>  Prob(JB):          </th>  <td>    0.00</td>  \n",
       "</tr>\n",
       "<tr>\n",
       "  <th>Kurtosis:</th>       <td>39.276</td>   <th>  Cond. No.          </th>  <td>    586.</td>  \n",
       "</tr>\n",
       "</table><br/><br/>Notes:<br/>[1] Standard Errors assume that the covariance matrix of the errors is correctly specified."
      ],
      "text/plain": [
       "<class 'statsmodels.iolib.summary.Summary'>\n",
       "\"\"\"\n",
       "                            OLS Regression Results                            \n",
       "==============================================================================\n",
       "Dep. Variable:                    Age   R-squared:                       0.659\n",
       "Model:                            OLS   Adj. R-squared:                  0.659\n",
       "Method:                 Least Squares   F-statistic:                 3.578e+04\n",
       "Date:                Sat, 15 Jul 2023   Prob (F-statistic):               0.00\n",
       "Time:                        01:57:44   Log-Likelihood:                 25262.\n",
       "No. Observations:               74051   AIC:                        -5.051e+04\n",
       "Df Residuals:                   74046   BIC:                        -5.047e+04\n",
       "Df Model:                           4                                         \n",
       "Covariance Type:            nonrobust                                         \n",
       "===================================================================================\n",
       "                      coef    std err          t      P>|t|      [0.025      0.975]\n",
       "-----------------------------------------------------------------------------------\n",
       "Intercept           3.6376      0.009    411.360      0.000       3.620       3.655\n",
       "Height              0.9450      0.082     11.542      0.000       0.785       1.105\n",
       "Weight              0.3581      0.003    125.044      0.000       0.352       0.364\n",
       "replaced_Length     0.7036      0.028     24.875      0.000       0.648       0.759\n",
       "Sex                 0.0011      0.001      1.425      0.154      -0.000       0.003\n",
       "==============================================================================\n",
       "Omnibus:                    30551.250   Durbin-Watson:                   2.006\n",
       "Prob(Omnibus):                  0.000   Jarque-Bera (JB):          4071735.751\n",
       "Skew:                          -0.962   Prob(JB):                         0.00\n",
       "Kurtosis:                      39.276   Cond. No.                         586.\n",
       "==============================================================================\n",
       "\n",
       "Notes:\n",
       "[1] Standard Errors assume that the covariance matrix of the errors is correctly specified.\n",
       "\"\"\""
      ]
     },
     "execution_count": 192,
     "metadata": {},
     "output_type": "execute_result"
    }
   ],
   "source": [
    "smf_ml.summary()"
   ]
  },
  {
   "cell_type": "code",
   "execution_count": 193,
   "metadata": {},
   "outputs": [],
   "source": [
    "smf_pred=smf_ml.predict(train)"
   ]
  },
  {
   "cell_type": "code",
   "execution_count": 197,
   "metadata": {},
   "outputs": [],
   "source": [
    "smf_predicted_values = smf_ml.fittedvalues"
   ]
  },
  {
   "cell_type": "code",
   "execution_count": 198,
   "metadata": {},
   "outputs": [
    {
     "name": "stdout",
     "output_type": "stream",
     "text": [
      "0        6.001120\n",
      "1        6.001120\n",
      "2        6.002218\n",
      "3        6.000022\n",
      "4        6.001120\n",
      "           ...   \n",
      "74046    6.000022\n",
      "74047    6.001120\n",
      "74048    6.000022\n",
      "74049    6.001120\n",
      "74050    5.928993\n",
      "Length: 74051, dtype: float64\n"
     ]
    }
   ],
   "source": [
    "print(smf_predicted_values)"
   ]
  },
  {
   "cell_type": "code",
   "execution_count": 201,
   "metadata": {},
   "outputs": [
    {
     "data": {
      "text/plain": [
       "(74051,)"
      ]
     },
     "execution_count": 201,
     "metadata": {},
     "output_type": "execute_result"
    }
   ],
   "source": [
    "smf_predicted_values.shape"
   ]
  },
  {
   "cell_type": "code",
   "execution_count": 207,
   "metadata": {
    "execution": {
     "iopub.execute_input": "2023-07-14T19:57:19.031602Z",
     "iopub.status.busy": "2023-07-14T19:57:19.031214Z",
     "iopub.status.idle": "2023-07-14T19:57:19.040114Z",
     "shell.execute_reply": "2023-07-14T19:57:19.038542Z",
     "shell.execute_reply.started": "2023-07-14T19:57:19.031565Z"
    }
   },
   "outputs": [],
   "source": [
    "new_df=pd.DataFrame({\"Actual_1\":y_test,\"Lr_predicted\":test_lr_pred})"
   ]
  },
  {
   "cell_type": "code",
   "execution_count": 206,
   "metadata": {},
   "outputs": [],
   "source": [
    "new_df2=pd.DataFrame({\"Actual_2\":Y,\"smf_pred\":smf_predicted_values})"
   ]
  },
  {
   "cell_type": "code",
   "execution_count": 208,
   "metadata": {
    "execution": {
     "iopub.execute_input": "2023-07-14T19:57:21.496814Z",
     "iopub.status.busy": "2023-07-14T19:57:21.496201Z",
     "iopub.status.idle": "2023-07-14T19:57:21.504370Z",
     "shell.execute_reply": "2023-07-14T19:57:21.503249Z",
     "shell.execute_reply.started": "2023-07-14T19:57:21.496774Z"
    }
   },
   "outputs": [
    {
     "data": {
      "text/html": [
       "<div>\n",
       "<style scoped>\n",
       "    .dataframe tbody tr th:only-of-type {\n",
       "        vertical-align: middle;\n",
       "    }\n",
       "\n",
       "    .dataframe tbody tr th {\n",
       "        vertical-align: top;\n",
       "    }\n",
       "\n",
       "    .dataframe thead th {\n",
       "        text-align: right;\n",
       "    }\n",
       "</style>\n",
       "<table border=\"1\" class=\"dataframe\">\n",
       "  <thead>\n",
       "    <tr style=\"text-align: right;\">\n",
       "      <th></th>\n",
       "      <th>Actual_1</th>\n",
       "      <th>Lr_predicted</th>\n",
       "    </tr>\n",
       "  </thead>\n",
       "  <tbody>\n",
       "    <tr>\n",
       "      <th>27233</th>\n",
       "      <td>6.5</td>\n",
       "      <td>6.489151</td>\n",
       "    </tr>\n",
       "    <tr>\n",
       "      <th>55493</th>\n",
       "      <td>6.0</td>\n",
       "      <td>5.242235</td>\n",
       "    </tr>\n",
       "    <tr>\n",
       "      <th>49980</th>\n",
       "      <td>6.5</td>\n",
       "      <td>6.491439</td>\n",
       "    </tr>\n",
       "    <tr>\n",
       "      <th>28319</th>\n",
       "      <td>6.5</td>\n",
       "      <td>6.489151</td>\n",
       "    </tr>\n",
       "    <tr>\n",
       "      <th>20212</th>\n",
       "      <td>6.5</td>\n",
       "      <td>6.489151</td>\n",
       "    </tr>\n",
       "    <tr>\n",
       "      <th>5048</th>\n",
       "      <td>6.5</td>\n",
       "      <td>6.491439</td>\n",
       "    </tr>\n",
       "    <tr>\n",
       "      <th>57436</th>\n",
       "      <td>6.5</td>\n",
       "      <td>6.491439</td>\n",
       "    </tr>\n",
       "    <tr>\n",
       "      <th>52779</th>\n",
       "      <td>6.5</td>\n",
       "      <td>6.489151</td>\n",
       "    </tr>\n",
       "    <tr>\n",
       "      <th>454</th>\n",
       "      <td>6.5</td>\n",
       "      <td>6.491439</td>\n",
       "    </tr>\n",
       "    <tr>\n",
       "      <th>32248</th>\n",
       "      <td>6.5</td>\n",
       "      <td>6.491439</td>\n",
       "    </tr>\n",
       "    <tr>\n",
       "      <th>8378</th>\n",
       "      <td>6.0</td>\n",
       "      <td>6.172741</td>\n",
       "    </tr>\n",
       "    <tr>\n",
       "      <th>73971</th>\n",
       "      <td>6.5</td>\n",
       "      <td>6.489151</td>\n",
       "    </tr>\n",
       "    <tr>\n",
       "      <th>1518</th>\n",
       "      <td>6.5</td>\n",
       "      <td>6.491439</td>\n",
       "    </tr>\n",
       "    <tr>\n",
       "      <th>52682</th>\n",
       "      <td>6.5</td>\n",
       "      <td>6.491439</td>\n",
       "    </tr>\n",
       "    <tr>\n",
       "      <th>21965</th>\n",
       "      <td>6.5</td>\n",
       "      <td>6.491439</td>\n",
       "    </tr>\n",
       "    <tr>\n",
       "      <th>67438</th>\n",
       "      <td>6.5</td>\n",
       "      <td>6.486862</td>\n",
       "    </tr>\n",
       "    <tr>\n",
       "      <th>50417</th>\n",
       "      <td>6.5</td>\n",
       "      <td>6.489151</td>\n",
       "    </tr>\n",
       "    <tr>\n",
       "      <th>37833</th>\n",
       "      <td>6.5</td>\n",
       "      <td>6.491439</td>\n",
       "    </tr>\n",
       "    <tr>\n",
       "      <th>34995</th>\n",
       "      <td>6.5</td>\n",
       "      <td>6.489151</td>\n",
       "    </tr>\n",
       "    <tr>\n",
       "      <th>63267</th>\n",
       "      <td>6.5</td>\n",
       "      <td>6.491439</td>\n",
       "    </tr>\n",
       "  </tbody>\n",
       "</table>\n",
       "</div>"
      ],
      "text/plain": [
       "       Actual_1  Lr_predicted\n",
       "27233       6.5      6.489151\n",
       "55493       6.0      5.242235\n",
       "49980       6.5      6.491439\n",
       "28319       6.5      6.489151\n",
       "20212       6.5      6.489151\n",
       "5048        6.5      6.491439\n",
       "57436       6.5      6.491439\n",
       "52779       6.5      6.489151\n",
       "454         6.5      6.491439\n",
       "32248       6.5      6.491439\n",
       "8378        6.0      6.172741\n",
       "73971       6.5      6.489151\n",
       "1518        6.5      6.491439\n",
       "52682       6.5      6.491439\n",
       "21965       6.5      6.491439\n",
       "67438       6.5      6.486862\n",
       "50417       6.5      6.489151\n",
       "37833       6.5      6.491439\n",
       "34995       6.5      6.489151\n",
       "63267       6.5      6.491439"
      ]
     },
     "execution_count": 208,
     "metadata": {},
     "output_type": "execute_result"
    }
   ],
   "source": [
    "new_df.head(20) # LR Model"
   ]
  },
  {
   "cell_type": "code",
   "execution_count": 210,
   "metadata": {},
   "outputs": [
    {
     "data": {
      "text/html": [
       "<div>\n",
       "<style scoped>\n",
       "    .dataframe tbody tr th:only-of-type {\n",
       "        vertical-align: middle;\n",
       "    }\n",
       "\n",
       "    .dataframe tbody tr th {\n",
       "        vertical-align: top;\n",
       "    }\n",
       "\n",
       "    .dataframe thead th {\n",
       "        text-align: right;\n",
       "    }\n",
       "</style>\n",
       "<table border=\"1\" class=\"dataframe\">\n",
       "  <thead>\n",
       "    <tr style=\"text-align: right;\">\n",
       "      <th></th>\n",
       "      <th>Actual_2</th>\n",
       "      <th>smf_pred</th>\n",
       "    </tr>\n",
       "  </thead>\n",
       "  <tbody>\n",
       "    <tr>\n",
       "      <th>0</th>\n",
       "      <td>6.5</td>\n",
       "      <td>6.001120</td>\n",
       "    </tr>\n",
       "    <tr>\n",
       "      <th>1</th>\n",
       "      <td>6.5</td>\n",
       "      <td>6.001120</td>\n",
       "    </tr>\n",
       "    <tr>\n",
       "      <th>2</th>\n",
       "      <td>6.5</td>\n",
       "      <td>6.002218</td>\n",
       "    </tr>\n",
       "    <tr>\n",
       "      <th>3</th>\n",
       "      <td>6.5</td>\n",
       "      <td>6.000022</td>\n",
       "    </tr>\n",
       "    <tr>\n",
       "      <th>4</th>\n",
       "      <td>6.5</td>\n",
       "      <td>6.001120</td>\n",
       "    </tr>\n",
       "    <tr>\n",
       "      <th>5</th>\n",
       "      <td>6.5</td>\n",
       "      <td>6.002218</td>\n",
       "    </tr>\n",
       "    <tr>\n",
       "      <th>6</th>\n",
       "      <td>6.5</td>\n",
       "      <td>6.002218</td>\n",
       "    </tr>\n",
       "    <tr>\n",
       "      <th>7</th>\n",
       "      <td>6.5</td>\n",
       "      <td>6.001120</td>\n",
       "    </tr>\n",
       "    <tr>\n",
       "      <th>8</th>\n",
       "      <td>6.5</td>\n",
       "      <td>6.000022</td>\n",
       "    </tr>\n",
       "    <tr>\n",
       "      <th>9</th>\n",
       "      <td>6.5</td>\n",
       "      <td>6.002218</td>\n",
       "    </tr>\n",
       "    <tr>\n",
       "      <th>10</th>\n",
       "      <td>6.5</td>\n",
       "      <td>5.949601</td>\n",
       "    </tr>\n",
       "    <tr>\n",
       "      <th>11</th>\n",
       "      <td>6.5</td>\n",
       "      <td>6.000022</td>\n",
       "    </tr>\n",
       "    <tr>\n",
       "      <th>12</th>\n",
       "      <td>6.5</td>\n",
       "      <td>6.002218</td>\n",
       "    </tr>\n",
       "    <tr>\n",
       "      <th>13</th>\n",
       "      <td>6.5</td>\n",
       "      <td>6.001120</td>\n",
       "    </tr>\n",
       "    <tr>\n",
       "      <th>14</th>\n",
       "      <td>6.5</td>\n",
       "      <td>6.002218</td>\n",
       "    </tr>\n",
       "    <tr>\n",
       "      <th>15</th>\n",
       "      <td>6.5</td>\n",
       "      <td>5.946584</td>\n",
       "    </tr>\n",
       "    <tr>\n",
       "      <th>16</th>\n",
       "      <td>6.5</td>\n",
       "      <td>6.001120</td>\n",
       "    </tr>\n",
       "    <tr>\n",
       "      <th>17</th>\n",
       "      <td>6.5</td>\n",
       "      <td>6.000022</td>\n",
       "    </tr>\n",
       "    <tr>\n",
       "      <th>18</th>\n",
       "      <td>6.5</td>\n",
       "      <td>6.001120</td>\n",
       "    </tr>\n",
       "    <tr>\n",
       "      <th>19</th>\n",
       "      <td>5.0</td>\n",
       "      <td>4.983773</td>\n",
       "    </tr>\n",
       "  </tbody>\n",
       "</table>\n",
       "</div>"
      ],
      "text/plain": [
       "    Actual_2  smf_pred\n",
       "0        6.5  6.001120\n",
       "1        6.5  6.001120\n",
       "2        6.5  6.002218\n",
       "3        6.5  6.000022\n",
       "4        6.5  6.001120\n",
       "5        6.5  6.002218\n",
       "6        6.5  6.002218\n",
       "7        6.5  6.001120\n",
       "8        6.5  6.000022\n",
       "9        6.5  6.002218\n",
       "10       6.5  5.949601\n",
       "11       6.5  6.000022\n",
       "12       6.5  6.002218\n",
       "13       6.5  6.001120\n",
       "14       6.5  6.002218\n",
       "15       6.5  5.946584\n",
       "16       6.5  6.001120\n",
       "17       6.5  6.000022\n",
       "18       6.5  6.001120\n",
       "19       5.0  4.983773"
      ]
     },
     "execution_count": 210,
     "metadata": {},
     "output_type": "execute_result"
    }
   ],
   "source": [
    "new_df2.head(20) # smf model "
   ]
  },
  {
   "cell_type": "code",
   "execution_count": null,
   "metadata": {},
   "outputs": [],
   "source": []
  }
 ],
 "metadata": {
  "kernelspec": {
   "display_name": "Python 3 (ipykernel)",
   "language": "python",
   "name": "python3"
  },
  "language_info": {
   "codemirror_mode": {
    "name": "ipython",
    "version": 3
   },
   "file_extension": ".py",
   "mimetype": "text/x-python",
   "name": "python",
   "nbconvert_exporter": "python",
   "pygments_lexer": "ipython3",
   "version": "3.9.13"
  }
 },
 "nbformat": 4,
 "nbformat_minor": 4
}
