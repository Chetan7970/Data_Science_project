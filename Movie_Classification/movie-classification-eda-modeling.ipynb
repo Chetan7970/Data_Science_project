{
 "cells": [
  {
   "cell_type": "markdown",
   "id": "38204f11",
   "metadata": {
    "papermill": {
     "duration": 0.018886,
     "end_time": "2022-11-15T11:00:22.372014",
     "exception": false,
     "start_time": "2022-11-15T11:00:22.353128",
     "status": "completed"
    },
    "tags": []
   },
   "source": [
    "<div style='color: #216969;\n",
    "           background-color: #EAF6F6;\n",
    "           font-size: 200%;\n",
    "           border-radius:15px;\n",
    "           text-align:center;\n",
    "           font-weight:600;\n",
    "           border-style: solid;\n",
    "           border-color: dark green;\n",
    "           font-family: \"Cambria\";'>\n",
    "Notebook Imports\n",
    "<a class=\"anchor\" id=\"1\"></a>\n",
    "    "
   ]
  },
  {
   "cell_type": "code",
   "execution_count": 1,
   "id": "67c4f2c6",
   "metadata": {
    "execution": {
     "iopub.execute_input": "2022-11-15T11:00:22.406442Z",
     "iopub.status.busy": "2022-11-15T11:00:22.405526Z",
     "iopub.status.idle": "2022-11-15T11:00:25.908093Z",
     "shell.execute_reply": "2022-11-15T11:00:25.906702Z"
    },
    "papermill": {
     "duration": 3.523951,
     "end_time": "2022-11-15T11:00:25.912291",
     "exception": false,
     "start_time": "2022-11-15T11:00:22.388340",
     "status": "completed"
    },
    "tags": []
   },
   "outputs": [
    {
     "data": {
      "text/html": [
       "<style type='text/css'>\n",
       ".datatable table.frame { margin-bottom: 0; }\n",
       ".datatable table.frame thead { border-bottom: none; }\n",
       ".datatable table.frame tr.coltypes td {  color: #FFFFFF;  line-height: 6px;  padding: 0 0.5em;}\n",
       ".datatable .bool    { background: #DDDD99; }\n",
       ".datatable .object  { background: #565656; }\n",
       ".datatable .int     { background: #5D9E5D; }\n",
       ".datatable .float   { background: #4040CC; }\n",
       ".datatable .str     { background: #CC4040; }\n",
       ".datatable .time    { background: #40CC40; }\n",
       ".datatable .row_index {  background: var(--jp-border-color3);  border-right: 1px solid var(--jp-border-color0);  color: var(--jp-ui-font-color3);  font-size: 9px;}\n",
       ".datatable .frame tbody td { text-align: left; }\n",
       ".datatable .frame tr.coltypes .row_index {  background: var(--jp-border-color0);}\n",
       ".datatable th:nth-child(2) { padding-left: 12px; }\n",
       ".datatable .hellipsis {  color: var(--jp-cell-editor-border-color);}\n",
       ".datatable .vellipsis {  background: var(--jp-layout-color0);  color: var(--jp-cell-editor-border-color);}\n",
       ".datatable .na {  color: var(--jp-cell-editor-border-color);  font-size: 80%;}\n",
       ".datatable .sp {  opacity: 0.25;}\n",
       ".datatable .footer { font-size: 9px; }\n",
       ".datatable .frame_dimensions {  background: var(--jp-border-color3);  border-top: 1px solid var(--jp-border-color0);  color: var(--jp-ui-font-color3);  display: inline-block;  opacity: 0.6;  padding: 1px 10px 1px 5px;}\n",
       "</style>\n"
      ],
      "text/plain": [
       "<IPython.core.display.HTML object>"
      ]
     },
     "metadata": {},
     "output_type": "display_data"
    }
   ],
   "source": [
    "import pandas as pd\n",
    "import numpy as np\n",
    "import matplotlib.pyplot as plt\n",
    "import seaborn as sns\n",
    "sns.set()\n",
    "\n",
    "from scipy.stats import skew\n",
    "\n",
    "from sklearn.preprocessing import StandardScaler\n",
    "from sklearn.model_selection import train_test_split, cross_val_score, KFold\n",
    "from sklearn.linear_model import LogisticRegression\n",
    "from sklearn.ensemble import RandomForestClassifier, GradientBoostingClassifier\n",
    "from sklearn.neighbors import KNeighborsRegressor\n",
    "from sklearn.naive_bayes import GaussianNB\n",
    "from lightgbm import LGBMClassifier\n",
    "from xgboost import XGBClassifier\n",
    "from catboost import CatBoostClassifier\n",
    "from sklearn.metrics import accuracy_score, classification_report, roc_auc_score, roc_curve\n",
    "import scikitplot as skplt\n",
    "\n",
    "import optuna"
   ]
  },
  {
   "cell_type": "markdown",
   "id": "761d10fb",
   "metadata": {
    "papermill": {
     "duration": 0.019135,
     "end_time": "2022-11-15T11:00:25.952033",
     "exception": false,
     "start_time": "2022-11-15T11:00:25.932898",
     "status": "completed"
    },
    "tags": []
   },
   "source": [
    "<div style='color: #216969;\n",
    "           background-color: #EAF6F6;\n",
    "           font-size: 200%;\n",
    "           border-radius:15px;\n",
    "           text-align:center;\n",
    "           font-weight:600;\n",
    "           border-style: solid;\n",
    "           border-color: dark green;\n",
    "           font-family: \"Cambria\";'>\n",
    "Data information\n",
    "<a class=\"anchor\" id=\"1\"></a>"
   ]
  },
  {
   "cell_type": "code",
   "execution_count": 2,
   "id": "c00089a9",
   "metadata": {
    "execution": {
     "iopub.execute_input": "2022-11-15T11:00:25.989875Z",
     "iopub.status.busy": "2022-11-15T11:00:25.988287Z",
     "iopub.status.idle": "2022-11-15T11:00:26.016288Z",
     "shell.execute_reply": "2022-11-15T11:00:26.015455Z"
    },
    "papermill": {
     "duration": 0.049433,
     "end_time": "2022-11-15T11:00:26.019274",
     "exception": false,
     "start_time": "2022-11-15T11:00:25.969841",
     "status": "completed"
    },
    "tags": []
   },
   "outputs": [],
   "source": [
    "data = pd.read_csv(\"../input/others/Movie_classification.csv\")"
   ]
  },
  {
   "cell_type": "code",
   "execution_count": 3,
   "id": "e4ee3e37",
   "metadata": {
    "execution": {
     "iopub.execute_input": "2022-11-15T11:00:26.057010Z",
     "iopub.status.busy": "2022-11-15T11:00:26.055624Z",
     "iopub.status.idle": "2022-11-15T11:00:26.086340Z",
     "shell.execute_reply": "2022-11-15T11:00:26.085464Z"
    },
    "papermill": {
     "duration": 0.052879,
     "end_time": "2022-11-15T11:00:26.089456",
     "exception": false,
     "start_time": "2022-11-15T11:00:26.036577",
     "status": "completed"
    },
    "tags": []
   },
   "outputs": [
    {
     "data": {
      "text/html": [
       "<div>\n",
       "<style scoped>\n",
       "    .dataframe tbody tr th:only-of-type {\n",
       "        vertical-align: middle;\n",
       "    }\n",
       "\n",
       "    .dataframe tbody tr th {\n",
       "        vertical-align: top;\n",
       "    }\n",
       "\n",
       "    .dataframe thead th {\n",
       "        text-align: right;\n",
       "    }\n",
       "</style>\n",
       "<table border=\"1\" class=\"dataframe\">\n",
       "  <thead>\n",
       "    <tr style=\"text-align: right;\">\n",
       "      <th></th>\n",
       "      <th>Marketing expense</th>\n",
       "      <th>Production expense</th>\n",
       "      <th>Multiplex coverage</th>\n",
       "      <th>Budget</th>\n",
       "      <th>Movie_length</th>\n",
       "      <th>Lead_ Actor_Rating</th>\n",
       "      <th>Lead_Actress_rating</th>\n",
       "      <th>Director_rating</th>\n",
       "      <th>Producer_rating</th>\n",
       "      <th>Critic_rating</th>\n",
       "      <th>Trailer_views</th>\n",
       "      <th>3D_available</th>\n",
       "      <th>Time_taken</th>\n",
       "      <th>Twitter_hastags</th>\n",
       "      <th>Genre</th>\n",
       "      <th>Avg_age_actors</th>\n",
       "      <th>Num_multiplex</th>\n",
       "      <th>Collection</th>\n",
       "      <th>Start_Tech_Oscar</th>\n",
       "    </tr>\n",
       "  </thead>\n",
       "  <tbody>\n",
       "    <tr>\n",
       "      <th>0</th>\n",
       "      <td>20.1264</td>\n",
       "      <td>59.62</td>\n",
       "      <td>0.462</td>\n",
       "      <td>36524.125</td>\n",
       "      <td>138.7</td>\n",
       "      <td>7.825</td>\n",
       "      <td>8.095</td>\n",
       "      <td>7.910</td>\n",
       "      <td>7.995</td>\n",
       "      <td>7.94</td>\n",
       "      <td>527367</td>\n",
       "      <td>YES</td>\n",
       "      <td>109.60</td>\n",
       "      <td>223.840</td>\n",
       "      <td>Thriller</td>\n",
       "      <td>23</td>\n",
       "      <td>494</td>\n",
       "      <td>48000</td>\n",
       "      <td>1</td>\n",
       "    </tr>\n",
       "    <tr>\n",
       "      <th>1</th>\n",
       "      <td>20.5462</td>\n",
       "      <td>69.14</td>\n",
       "      <td>0.531</td>\n",
       "      <td>35668.655</td>\n",
       "      <td>152.4</td>\n",
       "      <td>7.505</td>\n",
       "      <td>7.650</td>\n",
       "      <td>7.440</td>\n",
       "      <td>7.470</td>\n",
       "      <td>7.44</td>\n",
       "      <td>494055</td>\n",
       "      <td>NO</td>\n",
       "      <td>146.64</td>\n",
       "      <td>243.456</td>\n",
       "      <td>Drama</td>\n",
       "      <td>42</td>\n",
       "      <td>462</td>\n",
       "      <td>43200</td>\n",
       "      <td>0</td>\n",
       "    </tr>\n",
       "    <tr>\n",
       "      <th>2</th>\n",
       "      <td>20.5458</td>\n",
       "      <td>69.14</td>\n",
       "      <td>0.531</td>\n",
       "      <td>39912.675</td>\n",
       "      <td>134.6</td>\n",
       "      <td>7.485</td>\n",
       "      <td>7.570</td>\n",
       "      <td>7.495</td>\n",
       "      <td>7.515</td>\n",
       "      <td>7.44</td>\n",
       "      <td>547051</td>\n",
       "      <td>NO</td>\n",
       "      <td>147.88</td>\n",
       "      <td>2022.400</td>\n",
       "      <td>Comedy</td>\n",
       "      <td>38</td>\n",
       "      <td>458</td>\n",
       "      <td>69400</td>\n",
       "      <td>1</td>\n",
       "    </tr>\n",
       "    <tr>\n",
       "      <th>3</th>\n",
       "      <td>20.6474</td>\n",
       "      <td>59.36</td>\n",
       "      <td>0.542</td>\n",
       "      <td>38873.890</td>\n",
       "      <td>119.3</td>\n",
       "      <td>6.895</td>\n",
       "      <td>7.035</td>\n",
       "      <td>6.920</td>\n",
       "      <td>7.020</td>\n",
       "      <td>8.26</td>\n",
       "      <td>516279</td>\n",
       "      <td>YES</td>\n",
       "      <td>185.36</td>\n",
       "      <td>225.344</td>\n",
       "      <td>Drama</td>\n",
       "      <td>45</td>\n",
       "      <td>472</td>\n",
       "      <td>66800</td>\n",
       "      <td>1</td>\n",
       "    </tr>\n",
       "    <tr>\n",
       "      <th>4</th>\n",
       "      <td>21.3810</td>\n",
       "      <td>59.36</td>\n",
       "      <td>0.542</td>\n",
       "      <td>39701.585</td>\n",
       "      <td>127.7</td>\n",
       "      <td>6.920</td>\n",
       "      <td>7.070</td>\n",
       "      <td>6.815</td>\n",
       "      <td>7.070</td>\n",
       "      <td>8.26</td>\n",
       "      <td>531448</td>\n",
       "      <td>NO</td>\n",
       "      <td>176.48</td>\n",
       "      <td>225.792</td>\n",
       "      <td>Drama</td>\n",
       "      <td>55</td>\n",
       "      <td>395</td>\n",
       "      <td>72400</td>\n",
       "      <td>1</td>\n",
       "    </tr>\n",
       "  </tbody>\n",
       "</table>\n",
       "</div>"
      ],
      "text/plain": [
       "   Marketing expense  Production expense  Multiplex coverage     Budget  \\\n",
       "0            20.1264               59.62               0.462  36524.125   \n",
       "1            20.5462               69.14               0.531  35668.655   \n",
       "2            20.5458               69.14               0.531  39912.675   \n",
       "3            20.6474               59.36               0.542  38873.890   \n",
       "4            21.3810               59.36               0.542  39701.585   \n",
       "\n",
       "   Movie_length  Lead_ Actor_Rating  Lead_Actress_rating  Director_rating  \\\n",
       "0         138.7               7.825                8.095            7.910   \n",
       "1         152.4               7.505                7.650            7.440   \n",
       "2         134.6               7.485                7.570            7.495   \n",
       "3         119.3               6.895                7.035            6.920   \n",
       "4         127.7               6.920                7.070            6.815   \n",
       "\n",
       "   Producer_rating  Critic_rating  Trailer_views 3D_available  Time_taken  \\\n",
       "0            7.995           7.94         527367          YES      109.60   \n",
       "1            7.470           7.44         494055           NO      146.64   \n",
       "2            7.515           7.44         547051           NO      147.88   \n",
       "3            7.020           8.26         516279          YES      185.36   \n",
       "4            7.070           8.26         531448           NO      176.48   \n",
       "\n",
       "   Twitter_hastags     Genre  Avg_age_actors  Num_multiplex  Collection  \\\n",
       "0          223.840  Thriller              23            494       48000   \n",
       "1          243.456     Drama              42            462       43200   \n",
       "2         2022.400    Comedy              38            458       69400   \n",
       "3          225.344     Drama              45            472       66800   \n",
       "4          225.792     Drama              55            395       72400   \n",
       "\n",
       "   Start_Tech_Oscar  \n",
       "0                 1  \n",
       "1                 0  \n",
       "2                 1  \n",
       "3                 1  \n",
       "4                 1  "
      ]
     },
     "execution_count": 3,
     "metadata": {},
     "output_type": "execute_result"
    }
   ],
   "source": [
    "data.head()"
   ]
  },
  {
   "cell_type": "code",
   "execution_count": 4,
   "id": "aaec23f6",
   "metadata": {
    "execution": {
     "iopub.execute_input": "2022-11-15T11:00:26.126779Z",
     "iopub.status.busy": "2022-11-15T11:00:26.126110Z",
     "iopub.status.idle": "2022-11-15T11:00:26.155556Z",
     "shell.execute_reply": "2022-11-15T11:00:26.154130Z"
    },
    "papermill": {
     "duration": 0.051877,
     "end_time": "2022-11-15T11:00:26.158796",
     "exception": false,
     "start_time": "2022-11-15T11:00:26.106919",
     "status": "completed"
    },
    "tags": []
   },
   "outputs": [
    {
     "name": "stdout",
     "output_type": "stream",
     "text": [
      "<class 'pandas.core.frame.DataFrame'>\n",
      "RangeIndex: 506 entries, 0 to 505\n",
      "Data columns (total 19 columns):\n",
      " #   Column               Non-Null Count  Dtype  \n",
      "---  ------               --------------  -----  \n",
      " 0   Marketing expense    506 non-null    float64\n",
      " 1   Production expense   506 non-null    float64\n",
      " 2   Multiplex coverage   506 non-null    float64\n",
      " 3   Budget               506 non-null    float64\n",
      " 4   Movie_length         506 non-null    float64\n",
      " 5   Lead_ Actor_Rating   506 non-null    float64\n",
      " 6   Lead_Actress_rating  506 non-null    float64\n",
      " 7   Director_rating      506 non-null    float64\n",
      " 8   Producer_rating      506 non-null    float64\n",
      " 9   Critic_rating        506 non-null    float64\n",
      " 10  Trailer_views        506 non-null    int64  \n",
      " 11  3D_available         506 non-null    object \n",
      " 12  Time_taken           494 non-null    float64\n",
      " 13  Twitter_hastags      506 non-null    float64\n",
      " 14  Genre                506 non-null    object \n",
      " 15  Avg_age_actors       506 non-null    int64  \n",
      " 16  Num_multiplex        506 non-null    int64  \n",
      " 17  Collection           506 non-null    int64  \n",
      " 18  Start_Tech_Oscar     506 non-null    int64  \n",
      "dtypes: float64(12), int64(5), object(2)\n",
      "memory usage: 75.2+ KB\n"
     ]
    }
   ],
   "source": [
    "data.info()"
   ]
  },
  {
   "cell_type": "code",
   "execution_count": 5,
   "id": "bbe5b3b1",
   "metadata": {
    "execution": {
     "iopub.execute_input": "2022-11-15T11:00:26.195600Z",
     "iopub.status.busy": "2022-11-15T11:00:26.195156Z",
     "iopub.status.idle": "2022-11-15T11:00:26.206756Z",
     "shell.execute_reply": "2022-11-15T11:00:26.205242Z"
    },
    "papermill": {
     "duration": 0.033715,
     "end_time": "2022-11-15T11:00:26.209472",
     "exception": false,
     "start_time": "2022-11-15T11:00:26.175757",
     "status": "completed"
    },
    "tags": []
   },
   "outputs": [
    {
     "data": {
      "text/plain": [
       "Marketing expense       0\n",
       "Production expense      0\n",
       "Multiplex coverage      0\n",
       "Budget                  0\n",
       "Movie_length            0\n",
       "Lead_ Actor_Rating      0\n",
       "Lead_Actress_rating     0\n",
       "Director_rating         0\n",
       "Producer_rating         0\n",
       "Critic_rating           0\n",
       "Trailer_views           0\n",
       "3D_available            0\n",
       "Time_taken             12\n",
       "Twitter_hastags         0\n",
       "Genre                   0\n",
       "Avg_age_actors          0\n",
       "Num_multiplex           0\n",
       "Collection              0\n",
       "Start_Tech_Oscar        0\n",
       "dtype: int64"
      ]
     },
     "execution_count": 5,
     "metadata": {},
     "output_type": "execute_result"
    }
   ],
   "source": [
    "data.isna().sum()"
   ]
  },
  {
   "cell_type": "markdown",
   "id": "939a0dc9",
   "metadata": {
    "papermill": {
     "duration": 0.015536,
     "end_time": "2022-11-15T11:00:26.241519",
     "exception": false,
     "start_time": "2022-11-15T11:00:26.225983",
     "status": "completed"
    },
    "tags": []
   },
   "source": [
    "We have missing values in **Time_taken** column."
   ]
  },
  {
   "cell_type": "markdown",
   "id": "29c2f8f6",
   "metadata": {
    "papermill": {
     "duration": 0.016066,
     "end_time": "2022-11-15T11:00:26.273477",
     "exception": false,
     "start_time": "2022-11-15T11:00:26.257411",
     "status": "completed"
    },
    "tags": []
   },
   "source": [
    "<div style='color: #216969;\n",
    "           background-color: #EAF6F6;\n",
    "           font-size: 200%;\n",
    "           border-radius:15px;\n",
    "           text-align:center;\n",
    "           font-weight:600;\n",
    "           border-style: solid;\n",
    "           border-color: dark green;\n",
    "           font-family: \"Cambria\";'>\n",
    "Data cleaning\n",
    "<a class=\"anchor\" id=\"1\"></a>"
   ]
  },
  {
   "cell_type": "markdown",
   "id": "6ed01cbe",
   "metadata": {
    "papermill": {
     "duration": 0.015323,
     "end_time": "2022-11-15T11:00:26.304298",
     "exception": false,
     "start_time": "2022-11-15T11:00:26.288975",
     "status": "completed"
    },
    "tags": []
   },
   "source": [
    "There are very less missing values so we will just deleat the rows."
   ]
  },
  {
   "cell_type": "code",
   "execution_count": 6,
   "id": "7153e3b6",
   "metadata": {
    "execution": {
     "iopub.execute_input": "2022-11-15T11:00:26.337811Z",
     "iopub.status.busy": "2022-11-15T11:00:26.337346Z",
     "iopub.status.idle": "2022-11-15T11:00:26.343833Z",
     "shell.execute_reply": "2022-11-15T11:00:26.342658Z"
    },
    "papermill": {
     "duration": 0.026543,
     "end_time": "2022-11-15T11:00:26.346381",
     "exception": false,
     "start_time": "2022-11-15T11:00:26.319838",
     "status": "completed"
    },
    "tags": []
   },
   "outputs": [],
   "source": [
    "data1 = data.copy()"
   ]
  },
  {
   "cell_type": "code",
   "execution_count": 7,
   "id": "275e976c",
   "metadata": {
    "execution": {
     "iopub.execute_input": "2022-11-15T11:00:26.380922Z",
     "iopub.status.busy": "2022-11-15T11:00:26.380465Z",
     "iopub.status.idle": "2022-11-15T11:00:26.397526Z",
     "shell.execute_reply": "2022-11-15T11:00:26.395927Z"
    },
    "papermill": {
     "duration": 0.037377,
     "end_time": "2022-11-15T11:00:26.400091",
     "exception": false,
     "start_time": "2022-11-15T11:00:26.362714",
     "status": "completed"
    },
    "tags": []
   },
   "outputs": [
    {
     "data": {
      "text/plain": [
       "0"
      ]
     },
     "execution_count": 7,
     "metadata": {},
     "output_type": "execute_result"
    }
   ],
   "source": [
    "data1 = data1.dropna()\n",
    "data1.reset_index(inplace=True,drop=True)\n",
    "\n",
    "data1.isna().sum().sum()"
   ]
  },
  {
   "cell_type": "markdown",
   "id": "ad5d18ce",
   "metadata": {
    "papermill": {
     "duration": 0.015503,
     "end_time": "2022-11-15T11:00:26.431439",
     "exception": false,
     "start_time": "2022-11-15T11:00:26.415936",
     "status": "completed"
    },
    "tags": []
   },
   "source": [
    "There are no missing values now."
   ]
  },
  {
   "cell_type": "code",
   "execution_count": 8,
   "id": "b866a44d",
   "metadata": {
    "execution": {
     "iopub.execute_input": "2022-11-15T11:00:26.465131Z",
     "iopub.status.busy": "2022-11-15T11:00:26.464614Z",
     "iopub.status.idle": "2022-11-15T11:00:26.490674Z",
     "shell.execute_reply": "2022-11-15T11:00:26.489183Z"
    },
    "papermill": {
     "duration": 0.045806,
     "end_time": "2022-11-15T11:00:26.493078",
     "exception": false,
     "start_time": "2022-11-15T11:00:26.447272",
     "status": "completed"
    },
    "tags": []
   },
   "outputs": [
    {
     "data": {
      "text/html": [
       "<div>\n",
       "<style scoped>\n",
       "    .dataframe tbody tr th:only-of-type {\n",
       "        vertical-align: middle;\n",
       "    }\n",
       "\n",
       "    .dataframe tbody tr th {\n",
       "        vertical-align: top;\n",
       "    }\n",
       "\n",
       "    .dataframe thead th {\n",
       "        text-align: right;\n",
       "    }\n",
       "</style>\n",
       "<table border=\"1\" class=\"dataframe\">\n",
       "  <thead>\n",
       "    <tr style=\"text-align: right;\">\n",
       "      <th></th>\n",
       "      <th>Marketing expense</th>\n",
       "      <th>Production expense</th>\n",
       "      <th>Multiplex coverage</th>\n",
       "      <th>Budget</th>\n",
       "      <th>Movie_length</th>\n",
       "      <th>Lead_ Actor_Rating</th>\n",
       "      <th>Lead_Actress_rating</th>\n",
       "      <th>Director_rating</th>\n",
       "      <th>Producer_rating</th>\n",
       "      <th>Critic_rating</th>\n",
       "      <th>Trailer_views</th>\n",
       "      <th>3D_available</th>\n",
       "      <th>Time_taken</th>\n",
       "      <th>Twitter_hastags</th>\n",
       "      <th>Genre</th>\n",
       "      <th>Avg_age_actors</th>\n",
       "      <th>Num_multiplex</th>\n",
       "      <th>Collection</th>\n",
       "      <th>Start_Tech_Oscar</th>\n",
       "    </tr>\n",
       "  </thead>\n",
       "  <tbody>\n",
       "    <tr>\n",
       "      <th>0</th>\n",
       "      <td>20.1264</td>\n",
       "      <td>59.62</td>\n",
       "      <td>0.462</td>\n",
       "      <td>36524.125</td>\n",
       "      <td>138.7</td>\n",
       "      <td>7.825</td>\n",
       "      <td>8.095</td>\n",
       "      <td>7.910</td>\n",
       "      <td>7.995</td>\n",
       "      <td>7.94</td>\n",
       "      <td>527367</td>\n",
       "      <td>YES</td>\n",
       "      <td>109.60</td>\n",
       "      <td>223.840</td>\n",
       "      <td>Thriller</td>\n",
       "      <td>23</td>\n",
       "      <td>494</td>\n",
       "      <td>48000</td>\n",
       "      <td>1</td>\n",
       "    </tr>\n",
       "    <tr>\n",
       "      <th>1</th>\n",
       "      <td>20.5462</td>\n",
       "      <td>69.14</td>\n",
       "      <td>0.531</td>\n",
       "      <td>35668.655</td>\n",
       "      <td>152.4</td>\n",
       "      <td>7.505</td>\n",
       "      <td>7.650</td>\n",
       "      <td>7.440</td>\n",
       "      <td>7.470</td>\n",
       "      <td>7.44</td>\n",
       "      <td>494055</td>\n",
       "      <td>NO</td>\n",
       "      <td>146.64</td>\n",
       "      <td>243.456</td>\n",
       "      <td>Drama</td>\n",
       "      <td>42</td>\n",
       "      <td>462</td>\n",
       "      <td>43200</td>\n",
       "      <td>0</td>\n",
       "    </tr>\n",
       "    <tr>\n",
       "      <th>2</th>\n",
       "      <td>20.5458</td>\n",
       "      <td>69.14</td>\n",
       "      <td>0.531</td>\n",
       "      <td>39912.675</td>\n",
       "      <td>134.6</td>\n",
       "      <td>7.485</td>\n",
       "      <td>7.570</td>\n",
       "      <td>7.495</td>\n",
       "      <td>7.515</td>\n",
       "      <td>7.44</td>\n",
       "      <td>547051</td>\n",
       "      <td>NO</td>\n",
       "      <td>147.88</td>\n",
       "      <td>2022.400</td>\n",
       "      <td>Comedy</td>\n",
       "      <td>38</td>\n",
       "      <td>458</td>\n",
       "      <td>69400</td>\n",
       "      <td>1</td>\n",
       "    </tr>\n",
       "    <tr>\n",
       "      <th>3</th>\n",
       "      <td>20.6474</td>\n",
       "      <td>59.36</td>\n",
       "      <td>0.542</td>\n",
       "      <td>38873.890</td>\n",
       "      <td>119.3</td>\n",
       "      <td>6.895</td>\n",
       "      <td>7.035</td>\n",
       "      <td>6.920</td>\n",
       "      <td>7.020</td>\n",
       "      <td>8.26</td>\n",
       "      <td>516279</td>\n",
       "      <td>YES</td>\n",
       "      <td>185.36</td>\n",
       "      <td>225.344</td>\n",
       "      <td>Drama</td>\n",
       "      <td>45</td>\n",
       "      <td>472</td>\n",
       "      <td>66800</td>\n",
       "      <td>1</td>\n",
       "    </tr>\n",
       "    <tr>\n",
       "      <th>4</th>\n",
       "      <td>21.3810</td>\n",
       "      <td>59.36</td>\n",
       "      <td>0.542</td>\n",
       "      <td>39701.585</td>\n",
       "      <td>127.7</td>\n",
       "      <td>6.920</td>\n",
       "      <td>7.070</td>\n",
       "      <td>6.815</td>\n",
       "      <td>7.070</td>\n",
       "      <td>8.26</td>\n",
       "      <td>531448</td>\n",
       "      <td>NO</td>\n",
       "      <td>176.48</td>\n",
       "      <td>225.792</td>\n",
       "      <td>Drama</td>\n",
       "      <td>55</td>\n",
       "      <td>395</td>\n",
       "      <td>72400</td>\n",
       "      <td>1</td>\n",
       "    </tr>\n",
       "  </tbody>\n",
       "</table>\n",
       "</div>"
      ],
      "text/plain": [
       "   Marketing expense  Production expense  Multiplex coverage     Budget  \\\n",
       "0            20.1264               59.62               0.462  36524.125   \n",
       "1            20.5462               69.14               0.531  35668.655   \n",
       "2            20.5458               69.14               0.531  39912.675   \n",
       "3            20.6474               59.36               0.542  38873.890   \n",
       "4            21.3810               59.36               0.542  39701.585   \n",
       "\n",
       "   Movie_length  Lead_ Actor_Rating  Lead_Actress_rating  Director_rating  \\\n",
       "0         138.7               7.825                8.095            7.910   \n",
       "1         152.4               7.505                7.650            7.440   \n",
       "2         134.6               7.485                7.570            7.495   \n",
       "3         119.3               6.895                7.035            6.920   \n",
       "4         127.7               6.920                7.070            6.815   \n",
       "\n",
       "   Producer_rating  Critic_rating  Trailer_views 3D_available  Time_taken  \\\n",
       "0            7.995           7.94         527367          YES      109.60   \n",
       "1            7.470           7.44         494055           NO      146.64   \n",
       "2            7.515           7.44         547051           NO      147.88   \n",
       "3            7.020           8.26         516279          YES      185.36   \n",
       "4            7.070           8.26         531448           NO      176.48   \n",
       "\n",
       "   Twitter_hastags     Genre  Avg_age_actors  Num_multiplex  Collection  \\\n",
       "0          223.840  Thriller              23            494       48000   \n",
       "1          243.456     Drama              42            462       43200   \n",
       "2         2022.400    Comedy              38            458       69400   \n",
       "3          225.344     Drama              45            472       66800   \n",
       "4          225.792     Drama              55            395       72400   \n",
       "\n",
       "   Start_Tech_Oscar  \n",
       "0                 1  \n",
       "1                 0  \n",
       "2                 1  \n",
       "3                 1  \n",
       "4                 1  "
      ]
     },
     "execution_count": 8,
     "metadata": {},
     "output_type": "execute_result"
    }
   ],
   "source": [
    "data1.head()"
   ]
  },
  {
   "cell_type": "code",
   "execution_count": 9,
   "id": "044ac83b",
   "metadata": {
    "execution": {
     "iopub.execute_input": "2022-11-15T11:00:26.529536Z",
     "iopub.status.busy": "2022-11-15T11:00:26.528304Z",
     "iopub.status.idle": "2022-11-15T11:00:26.534002Z",
     "shell.execute_reply": "2022-11-15T11:00:26.533015Z"
    },
    "papermill": {
     "duration": 0.027115,
     "end_time": "2022-11-15T11:00:26.536717",
     "exception": false,
     "start_time": "2022-11-15T11:00:26.509602",
     "status": "completed"
    },
    "tags": []
   },
   "outputs": [],
   "source": [
    "target= data1[\"Start_Tech_Oscar\"]"
   ]
  },
  {
   "cell_type": "markdown",
   "id": "eccc7753",
   "metadata": {
    "papermill": {
     "duration": 0.015749,
     "end_time": "2022-11-15T11:00:26.568517",
     "exception": false,
     "start_time": "2022-11-15T11:00:26.552768",
     "status": "completed"
    },
    "tags": []
   },
   "source": [
    "<div style='color: #216969;\n",
    "           background-color: #EAF6F6;\n",
    "           font-size: 200%;\n",
    "           border-radius:15px;\n",
    "           text-align:center;\n",
    "           font-weight:600;\n",
    "           border-style: solid;\n",
    "           border-color: dark green;\n",
    "           font-family: \"Cambria\";'>\n",
    "EDA\n",
    "<a class=\"anchor\" id=\"1\"></a>"
   ]
  },
  {
   "cell_type": "code",
   "execution_count": 10,
   "id": "6c7317b5",
   "metadata": {
    "execution": {
     "iopub.execute_input": "2022-11-15T11:00:26.604600Z",
     "iopub.status.busy": "2022-11-15T11:00:26.604110Z",
     "iopub.status.idle": "2022-11-15T11:00:26.609858Z",
     "shell.execute_reply": "2022-11-15T11:00:26.608695Z"
    },
    "papermill": {
     "duration": 0.026708,
     "end_time": "2022-11-15T11:00:26.612296",
     "exception": false,
     "start_time": "2022-11-15T11:00:26.585588",
     "status": "completed"
    },
    "tags": []
   },
   "outputs": [],
   "source": [
    "data2 = data1.copy()"
   ]
  },
  {
   "cell_type": "code",
   "execution_count": 11,
   "id": "189bbdd1",
   "metadata": {
    "execution": {
     "iopub.execute_input": "2022-11-15T11:00:26.647247Z",
     "iopub.status.busy": "2022-11-15T11:00:26.646743Z",
     "iopub.status.idle": "2022-11-15T11:00:26.912954Z",
     "shell.execute_reply": "2022-11-15T11:00:26.911448Z"
    },
    "papermill": {
     "duration": 0.287967,
     "end_time": "2022-11-15T11:00:26.916448",
     "exception": false,
     "start_time": "2022-11-15T11:00:26.628481",
     "status": "completed"
    },
    "tags": []
   },
   "outputs": [
    {
     "data": {
      "image/png": "[encoded data removed]",
      "text/plain": [
       "<Figure size 432x288 with 1 Axes>"
      ]
     },
     "metadata": {},
     "output_type": "display_data"
    }
   ],
   "source": [
    "sns.countplot(x = target, palette= 'winter')\n",
    "plt.xlabel(\"Oscar Rate\");"
   ]
  },
  {
   "cell_type": "markdown",
   "id": "f8dede87",
   "metadata": {
    "papermill": {
     "duration": 0.01736,
     "end_time": "2022-11-15T11:00:26.952969",
     "exception": false,
     "start_time": "2022-11-15T11:00:26.935609",
     "status": "completed"
    },
    "tags": []
   },
   "source": [
    "Our data is evenly distributed. Atleast 200 are there in both choices."
   ]
  },
  {
   "cell_type": "code",
   "execution_count": 12,
   "id": "31d5740a",
   "metadata": {
    "execution": {
     "iopub.execute_input": "2022-11-15T11:00:26.993316Z",
     "iopub.status.busy": "2022-11-15T11:00:26.992579Z",
     "iopub.status.idle": "2022-11-15T11:00:29.046607Z",
     "shell.execute_reply": "2022-11-15T11:00:29.045262Z"
    },
    "papermill": {
     "duration": 2.080091,
     "end_time": "2022-11-15T11:00:29.052273",
     "exception": false,
     "start_time": "2022-11-15T11:00:26.972182",
     "status": "completed"
    },
    "tags": []
   },
   "outputs": [
    {
     "data": {
      "text/plain": [
       "<AxesSubplot:>"
      ]
     },
     "execution_count": 12,
     "metadata": {},
     "output_type": "execute_result"
    },
    {
     "data": {
      "image/png": "[encoded data removed]",
      "text/plain": [
       "<Figure size 1152x576 with 2 Axes>"
      ]
     },
     "metadata": {},
     "output_type": "display_data"
    }
   ],
   "source": [
    "plt.figure(figsize= (16, 8))\n",
    "sns.heatmap(data.corr(), annot = True, cmap= 'YlGnBu', fmt= '.2f')"
   ]
  },
  {
   "cell_type": "markdown",
   "id": "2ff78bf0",
   "metadata": {
    "papermill": {
     "duration": 0.021639,
     "end_time": "2022-11-15T11:00:29.096216",
     "exception": false,
     "start_time": "2022-11-15T11:00:29.074577",
     "status": "completed"
    },
    "tags": []
   },
   "source": [
    "Observations:\n",
    "\n",
    "1) `Lead_ Actor_Rating` , `Lead_Actress_rating` , `Director_rating` and `Producer_rating` are correlated features.\n",
    "\n",
    "2) Creating a new feature from `Production expense` and `Marketing expense`.\n",
    "\n",
    "3) Creating a new feature from `Collection` and `Budget`."
   ]
  },
  {
   "cell_type": "code",
   "execution_count": 13,
   "id": "621049c8",
   "metadata": {
    "execution": {
     "iopub.execute_input": "2022-11-15T11:00:29.141084Z",
     "iopub.status.busy": "2022-11-15T11:00:29.140601Z",
     "iopub.status.idle": "2022-11-15T11:00:29.438385Z",
     "shell.execute_reply": "2022-11-15T11:00:29.437329Z"
    },
    "papermill": {
     "duration": 0.32314,
     "end_time": "2022-11-15T11:00:29.440619",
     "exception": false,
     "start_time": "2022-11-15T11:00:29.117479",
     "status": "completed"
    },
    "tags": []
   },
   "outputs": [
    {
     "data": {
      "image/png": "[encoded data removed]",
      "text/plain": [
       "<Figure size 432x288 with 1 Axes>"
      ]
     },
     "metadata": {},
     "output_type": "display_data"
    }
   ],
   "source": [
    "sns.countplot(x = 'Genre', data= data, hue= 'Start_Tech_Oscar', palette= 'pastel')\n",
    "plt.title('O chance based on Ticket Class', fontsize = 10);"
   ]
  },
  {
   "cell_type": "markdown",
   "id": "05d0dc92",
   "metadata": {
    "papermill": {
     "duration": 0.021033,
     "end_time": "2022-11-15T11:00:29.483087",
     "exception": false,
     "start_time": "2022-11-15T11:00:29.462054",
     "status": "completed"
    },
    "tags": []
   },
   "source": [
    "There are more chances of getting Oscar in Drama, Comedy and Action genre."
   ]
  },
  {
   "cell_type": "code",
   "execution_count": 14,
   "id": "2acc6431",
   "metadata": {
    "execution": {
     "iopub.execute_input": "2022-11-15T11:00:29.527269Z",
     "iopub.status.busy": "2022-11-15T11:00:29.525735Z",
     "iopub.status.idle": "2022-11-15T11:00:29.786550Z",
     "shell.execute_reply": "2022-11-15T11:00:29.785387Z"
    },
    "papermill": {
     "duration": 0.285523,
     "end_time": "2022-11-15T11:00:29.788958",
     "exception": false,
     "start_time": "2022-11-15T11:00:29.503435",
     "status": "completed"
    },
    "tags": []
   },
   "outputs": [
    {
     "data": {
      "image/png": "[encoded data removed]",
      "text/plain": [
       "<Figure size 432x288 with 1 Axes>"
      ]
     },
     "metadata": {},
     "output_type": "display_data"
    }
   ],
   "source": [
    "sns.countplot(x = '3D_available', data= data, hue= 'Start_Tech_Oscar', palette= 'pastel')\n",
    "plt.title('O chance based on Ticket Class', fontsize = 10);"
   ]
  },
  {
   "cell_type": "markdown",
   "id": "fa294fb8",
   "metadata": {
    "papermill": {
     "duration": 0.02161,
     "end_time": "2022-11-15T11:00:29.831764",
     "exception": false,
     "start_time": "2022-11-15T11:00:29.810154",
     "status": "completed"
    },
    "tags": []
   },
   "source": [
    "It is clear from the plot that if 3D is available the there is a chance of gatting Oscar."
   ]
  },
  {
   "cell_type": "code",
   "execution_count": 15,
   "id": "1311014c",
   "metadata": {
    "execution": {
     "iopub.execute_input": "2022-11-15T11:00:29.879050Z",
     "iopub.status.busy": "2022-11-15T11:00:29.877907Z",
     "iopub.status.idle": "2022-11-15T11:00:31.202310Z",
     "shell.execute_reply": "2022-11-15T11:00:31.200345Z"
    },
    "papermill": {
     "duration": 1.351951,
     "end_time": "2022-11-15T11:00:31.205451",
     "exception": false,
     "start_time": "2022-11-15T11:00:29.853500",
     "status": "completed"
    },
    "tags": []
   },
   "outputs": [
    {
     "data": {
      "image/png": "[encoded data removed]",
      "text/plain": [
       "<Figure size 1440x936 with 2 Axes>"
      ]
     },
     "metadata": {},
     "output_type": "display_data"
    }
   ],
   "source": [
    "sns.set_context('notebook', font_scale= 1.2)\n",
    "fig, ax = plt.subplots(2, figsize = (20, 13))\n",
    "\n",
    "plt.suptitle('Distribution of Twitter_hastags and Collection based on target variable', fontsize = 20)\n",
    "\n",
    "ax1 = sns.histplot(x ='Twitter_hastags', data= data, hue= 'Start_Tech_Oscar', kde= True, ax= ax[0], palette= 'winter')\n",
    "ax1.set(xlabel = 'Twitter_hastags', title= 'Distribution of Twitter_hastags based on target variable')\n",
    "\n",
    "ax2 = sns.histplot(x ='Collection', data= data, hue= 'Start_Tech_Oscar', kde= True, ax= ax[1], palette= 'viridis')\n",
    "ax2.set(xlabel = 'Collection', title= 'Distribution of Fare based on target variable')\n",
    "\n",
    "plt.show()"
   ]
  },
  {
   "cell_type": "code",
   "execution_count": 16,
   "id": "81ae09bb",
   "metadata": {
    "execution": {
     "iopub.execute_input": "2022-11-15T11:00:31.256668Z",
     "iopub.status.busy": "2022-11-15T11:00:31.256269Z",
     "iopub.status.idle": "2022-11-15T11:00:35.225926Z",
     "shell.execute_reply": "2022-11-15T11:00:35.224254Z"
    },
    "papermill": {
     "duration": 4.000013,
     "end_time": "2022-11-15T11:00:35.229255",
     "exception": false,
     "start_time": "2022-11-15T11:00:31.229242",
     "status": "completed"
    },
    "tags": []
   },
   "outputs": [
    {
     "data": {
      "image/png": "[encoded data removed]",
      "text/plain": [
       "<Figure size 1440x1080 with 20 Axes>"
      ]
     },
     "metadata": {},
     "output_type": "display_data"
    }
   ],
   "source": [
    "data.hist(bins = 30, figsize=(20, 15), color = '#005b96');"
   ]
  },
  {
   "cell_type": "markdown",
   "id": "fd53cdf4",
   "metadata": {
    "papermill": {
     "duration": 0.023609,
     "end_time": "2022-11-15T11:00:35.279721",
     "exception": false,
     "start_time": "2022-11-15T11:00:35.256112",
     "status": "completed"
    },
    "tags": []
   },
   "source": [
    "As we can see there are outliers in `Twitter_hastags`, `Marketing expense`, `Time_taken` and `Avg_age_actors`."
   ]
  },
  {
   "cell_type": "code",
   "execution_count": 17,
   "id": "4a21be8d",
   "metadata": {
    "execution": {
     "iopub.execute_input": "2022-11-15T11:00:35.332258Z",
     "iopub.status.busy": "2022-11-15T11:00:35.331848Z",
     "iopub.status.idle": "2022-11-15T11:00:35.579862Z",
     "shell.execute_reply": "2022-11-15T11:00:35.578725Z"
    },
    "papermill": {
     "duration": 0.276838,
     "end_time": "2022-11-15T11:00:35.582263",
     "exception": false,
     "start_time": "2022-11-15T11:00:35.305425",
     "status": "completed"
    },
    "tags": []
   },
   "outputs": [
    {
     "data": {
      "text/plain": [
       "<AxesSubplot:xlabel='Twitter_hastags'>"
      ]
     },
     "execution_count": 17,
     "metadata": {},
     "output_type": "execute_result"
    },
    {
     "data": {
      "image/png": "[encoded data removed]",
      "text/plain": [
       "<Figure size 432x288 with 1 Axes>"
      ]
     },
     "metadata": {},
     "output_type": "display_data"
    }
   ],
   "source": [
    "sns.boxplot(x=data[\"Twitter_hastags\"])"
   ]
  },
  {
   "cell_type": "code",
   "execution_count": 18,
   "id": "b28370da",
   "metadata": {
    "execution": {
     "iopub.execute_input": "2022-11-15T11:00:35.632764Z",
     "iopub.status.busy": "2022-11-15T11:00:35.632019Z",
     "iopub.status.idle": "2022-11-15T11:00:35.901732Z",
     "shell.execute_reply": "2022-11-15T11:00:35.900378Z"
    },
    "papermill": {
     "duration": 0.298195,
     "end_time": "2022-11-15T11:00:35.904665",
     "exception": false,
     "start_time": "2022-11-15T11:00:35.606470",
     "status": "completed"
    },
    "tags": []
   },
   "outputs": [
    {
     "data": {
      "text/plain": [
       "<AxesSubplot:xlabel='Marketing expense'>"
      ]
     },
     "execution_count": 18,
     "metadata": {},
     "output_type": "execute_result"
    },
    {
     "data": {
      "image/png": "[encoded data removed]",
      "text/plain": [
       "<Figure size 432x288 with 1 Axes>"
      ]
     },
     "metadata": {},
     "output_type": "display_data"
    }
   ],
   "source": [
    "sns.boxplot(x=data[\"Marketing expense\"])"
   ]
  },
  {
   "cell_type": "code",
   "execution_count": 19,
   "id": "8f573aaa",
   "metadata": {
    "execution": {
     "iopub.execute_input": "2022-11-15T11:00:35.981705Z",
     "iopub.status.busy": "2022-11-15T11:00:35.980750Z",
     "iopub.status.idle": "2022-11-15T11:00:36.229828Z",
     "shell.execute_reply": "2022-11-15T11:00:36.228350Z"
    },
    "papermill": {
     "duration": 0.292039,
     "end_time": "2022-11-15T11:00:36.232837",
     "exception": false,
     "start_time": "2022-11-15T11:00:35.940798",
     "status": "completed"
    },
    "tags": []
   },
   "outputs": [
    {
     "data": {
      "text/plain": [
       "<AxesSubplot:xlabel='Time_taken'>"
      ]
     },
     "execution_count": 19,
     "metadata": {},
     "output_type": "execute_result"
    },
    {
     "data": {
      "image/png": "[encoded data removed]",
      "text/plain": [
       "<Figure size 432x288 with 1 Axes>"
      ]
     },
     "metadata": {},
     "output_type": "display_data"
    }
   ],
   "source": [
    "sns.boxplot(x=data[\"Time_taken\"])"
   ]
  },
  {
   "cell_type": "code",
   "execution_count": 20,
   "id": "48e71b84",
   "metadata": {
    "execution": {
     "iopub.execute_input": "2022-11-15T11:00:36.284328Z",
     "iopub.status.busy": "2022-11-15T11:00:36.283827Z",
     "iopub.status.idle": "2022-11-15T11:00:36.557275Z",
     "shell.execute_reply": "2022-11-15T11:00:36.555477Z"
    },
    "papermill": {
     "duration": 0.30225,
     "end_time": "2022-11-15T11:00:36.559800",
     "exception": false,
     "start_time": "2022-11-15T11:00:36.257550",
     "status": "completed"
    },
    "tags": []
   },
   "outputs": [
    {
     "data": {
      "text/plain": [
       "<AxesSubplot:xlabel='Avg_age_actors'>"
      ]
     },
     "execution_count": 20,
     "metadata": {},
     "output_type": "execute_result"
    },
    {
     "data": {
      "image/png": "[encoded data removed]",
      "text/plain": [
       "<Figure size 432x288 with 1 Axes>"
      ]
     },
     "metadata": {},
     "output_type": "display_data"
    }
   ],
   "source": [
    "sns.boxplot(x=data[\"Avg_age_actors\"])"
   ]
  },
  {
   "cell_type": "markdown",
   "id": "f85baa4d",
   "metadata": {
    "papermill": {
     "duration": 0.024354,
     "end_time": "2022-11-15T11:00:36.609181",
     "exception": false,
     "start_time": "2022-11-15T11:00:36.584827",
     "status": "completed"
    },
    "tags": []
   },
   "source": [
    "<div style='color: #216969;\n",
    "           background-color: #EAF6F6;\n",
    "           font-size: 200%;\n",
    "           border-radius:15px;\n",
    "           text-align:center;\n",
    "           font-weight:600;\n",
    "           border-style: solid;\n",
    "           border-color: dark green;\n",
    "           font-family: \"Cambria\";'>\n",
    "Feature engineering\n",
    "<a class=\"anchor\" id=\"1\"></a>"
   ]
  },
  {
   "cell_type": "code",
   "execution_count": 21,
   "id": "34ab1c0c",
   "metadata": {
    "execution": {
     "iopub.execute_input": "2022-11-15T11:00:36.661348Z",
     "iopub.status.busy": "2022-11-15T11:00:36.660836Z",
     "iopub.status.idle": "2022-11-15T11:00:36.666962Z",
     "shell.execute_reply": "2022-11-15T11:00:36.665751Z"
    },
    "papermill": {
     "duration": 0.0353,
     "end_time": "2022-11-15T11:00:36.669763",
     "exception": false,
     "start_time": "2022-11-15T11:00:36.634463",
     "status": "completed"
    },
    "tags": []
   },
   "outputs": [],
   "source": [
    "data3 = data2.copy()"
   ]
  },
  {
   "cell_type": "markdown",
   "id": "b17c3346",
   "metadata": {
    "papermill": {
     "duration": 0.024788,
     "end_time": "2022-11-15T11:00:36.719539",
     "exception": false,
     "start_time": "2022-11-15T11:00:36.694751",
     "status": "completed"
    },
    "tags": []
   },
   "source": [
    "Creating new features from similar features."
   ]
  },
  {
   "cell_type": "code",
   "execution_count": 22,
   "id": "a7c021c5",
   "metadata": {
    "execution": {
     "iopub.execute_input": "2022-11-15T11:00:36.771799Z",
     "iopub.status.busy": "2022-11-15T11:00:36.771322Z",
     "iopub.status.idle": "2022-11-15T11:00:36.780664Z",
     "shell.execute_reply": "2022-11-15T11:00:36.779337Z"
    },
    "papermill": {
     "duration": 0.038819,
     "end_time": "2022-11-15T11:00:36.782956",
     "exception": false,
     "start_time": "2022-11-15T11:00:36.744137",
     "status": "completed"
    },
    "tags": []
   },
   "outputs": [],
   "source": [
    "data3[\"Expense\"] = data3[\"Marketing expense\"] + data3[\"Production expense\"]\n",
    "data3[\"Rating\"] = data3[\"Lead_ Actor_Rating\"] + data3[\"Lead_Actress_rating\"] + data3[\"Director_rating\"] + data3[\"Producer_rating\"]\n"
   ]
  },
  {
   "cell_type": "code",
   "execution_count": 23,
   "id": "8a198e48",
   "metadata": {
    "execution": {
     "iopub.execute_input": "2022-11-15T11:00:36.833937Z",
     "iopub.status.busy": "2022-11-15T11:00:36.833413Z",
     "iopub.status.idle": "2022-11-15T11:00:36.840630Z",
     "shell.execute_reply": "2022-11-15T11:00:36.839585Z"
    },
    "papermill": {
     "duration": 0.035544,
     "end_time": "2022-11-15T11:00:36.842766",
     "exception": false,
     "start_time": "2022-11-15T11:00:36.807222",
     "status": "completed"
    },
    "tags": []
   },
   "outputs": [],
   "source": [
    "data4 = data3.copy()"
   ]
  },
  {
   "cell_type": "markdown",
   "id": "34860b8c",
   "metadata": {
    "papermill": {
     "duration": 0.024231,
     "end_time": "2022-11-15T11:00:36.891417",
     "exception": false,
     "start_time": "2022-11-15T11:00:36.867186",
     "status": "completed"
    },
    "tags": []
   },
   "source": [
    "Droping similar features from dataset."
   ]
  },
  {
   "cell_type": "code",
   "execution_count": 24,
   "id": "e65a0ecf",
   "metadata": {
    "execution": {
     "iopub.execute_input": "2022-11-15T11:00:36.943914Z",
     "iopub.status.busy": "2022-11-15T11:00:36.943424Z",
     "iopub.status.idle": "2022-11-15T11:00:36.950357Z",
     "shell.execute_reply": "2022-11-15T11:00:36.949329Z"
    },
    "papermill": {
     "duration": 0.035971,
     "end_time": "2022-11-15T11:00:36.952558",
     "exception": false,
     "start_time": "2022-11-15T11:00:36.916587",
     "status": "completed"
    },
    "tags": []
   },
   "outputs": [],
   "source": [
    "data4 = data4.drop([\"Marketing expense\",\"Production expense\",\"Lead_ Actor_Rating\",\"Lead_Actress_rating\",\"Director_rating\",\"Producer_rating\"],axis = 1)"
   ]
  },
  {
   "cell_type": "markdown",
   "id": "59e1124c",
   "metadata": {
    "papermill": {
     "duration": 0.024765,
     "end_time": "2022-11-15T11:00:37.001789",
     "exception": false,
     "start_time": "2022-11-15T11:00:36.977024",
     "status": "completed"
    },
    "tags": []
   },
   "source": [
    "Droping outliers."
   ]
  },
  {
   "cell_type": "code",
   "execution_count": 25,
   "id": "51048a89",
   "metadata": {
    "execution": {
     "iopub.execute_input": "2022-11-15T11:00:37.057154Z",
     "iopub.status.busy": "2022-11-15T11:00:37.056351Z",
     "iopub.status.idle": "2022-11-15T11:00:37.066723Z",
     "shell.execute_reply": "2022-11-15T11:00:37.064693Z"
    },
    "papermill": {
     "duration": 0.041662,
     "end_time": "2022-11-15T11:00:37.069986",
     "exception": false,
     "start_time": "2022-11-15T11:00:37.028324",
     "status": "completed"
    },
    "tags": []
   },
   "outputs": [],
   "source": [
    "data4.drop(data4[data4['Time_taken'] < 100].index, inplace = True)\n",
    "data4.drop(data4[data4['Twitter_hastags'] > 500].index, inplace = True)\n",
    "\n",
    "data4.reset_index(drop=True,inplace = True)"
   ]
  },
  {
   "cell_type": "code",
   "execution_count": 26,
   "id": "d452d326",
   "metadata": {
    "execution": {
     "iopub.execute_input": "2022-11-15T11:00:37.123295Z",
     "iopub.status.busy": "2022-11-15T11:00:37.122492Z",
     "iopub.status.idle": "2022-11-15T11:00:37.144644Z",
     "shell.execute_reply": "2022-11-15T11:00:37.143359Z"
    },
    "papermill": {
     "duration": 0.05172,
     "end_time": "2022-11-15T11:00:37.147043",
     "exception": false,
     "start_time": "2022-11-15T11:00:37.095323",
     "status": "completed"
    },
    "tags": []
   },
   "outputs": [
    {
     "data": {
      "text/html": [
       "<div>\n",
       "<style scoped>\n",
       "    .dataframe tbody tr th:only-of-type {\n",
       "        vertical-align: middle;\n",
       "    }\n",
       "\n",
       "    .dataframe tbody tr th {\n",
       "        vertical-align: top;\n",
       "    }\n",
       "\n",
       "    .dataframe thead th {\n",
       "        text-align: right;\n",
       "    }\n",
       "</style>\n",
       "<table border=\"1\" class=\"dataframe\">\n",
       "  <thead>\n",
       "    <tr style=\"text-align: right;\">\n",
       "      <th></th>\n",
       "      <th>Multiplex coverage</th>\n",
       "      <th>Budget</th>\n",
       "      <th>Movie_length</th>\n",
       "      <th>Critic_rating</th>\n",
       "      <th>Trailer_views</th>\n",
       "      <th>3D_available</th>\n",
       "      <th>Time_taken</th>\n",
       "      <th>Twitter_hastags</th>\n",
       "      <th>Genre</th>\n",
       "      <th>Avg_age_actors</th>\n",
       "      <th>Num_multiplex</th>\n",
       "      <th>Collection</th>\n",
       "      <th>Start_Tech_Oscar</th>\n",
       "      <th>Expense</th>\n",
       "      <th>Rating</th>\n",
       "    </tr>\n",
       "  </thead>\n",
       "  <tbody>\n",
       "    <tr>\n",
       "      <th>0</th>\n",
       "      <td>0.462</td>\n",
       "      <td>36524.125</td>\n",
       "      <td>138.7</td>\n",
       "      <td>7.94</td>\n",
       "      <td>527367</td>\n",
       "      <td>YES</td>\n",
       "      <td>109.60</td>\n",
       "      <td>223.840</td>\n",
       "      <td>Thriller</td>\n",
       "      <td>23</td>\n",
       "      <td>494</td>\n",
       "      <td>48000</td>\n",
       "      <td>1</td>\n",
       "      <td>79.7464</td>\n",
       "      <td>31.825</td>\n",
       "    </tr>\n",
       "    <tr>\n",
       "      <th>1</th>\n",
       "      <td>0.531</td>\n",
       "      <td>35668.655</td>\n",
       "      <td>152.4</td>\n",
       "      <td>7.44</td>\n",
       "      <td>494055</td>\n",
       "      <td>NO</td>\n",
       "      <td>146.64</td>\n",
       "      <td>243.456</td>\n",
       "      <td>Drama</td>\n",
       "      <td>42</td>\n",
       "      <td>462</td>\n",
       "      <td>43200</td>\n",
       "      <td>0</td>\n",
       "      <td>89.6862</td>\n",
       "      <td>30.065</td>\n",
       "    </tr>\n",
       "    <tr>\n",
       "      <th>2</th>\n",
       "      <td>0.542</td>\n",
       "      <td>38873.890</td>\n",
       "      <td>119.3</td>\n",
       "      <td>8.26</td>\n",
       "      <td>516279</td>\n",
       "      <td>YES</td>\n",
       "      <td>185.36</td>\n",
       "      <td>225.344</td>\n",
       "      <td>Drama</td>\n",
       "      <td>45</td>\n",
       "      <td>472</td>\n",
       "      <td>66800</td>\n",
       "      <td>1</td>\n",
       "      <td>80.0074</td>\n",
       "      <td>27.870</td>\n",
       "    </tr>\n",
       "    <tr>\n",
       "      <th>3</th>\n",
       "      <td>0.542</td>\n",
       "      <td>39701.585</td>\n",
       "      <td>127.7</td>\n",
       "      <td>8.26</td>\n",
       "      <td>531448</td>\n",
       "      <td>NO</td>\n",
       "      <td>176.48</td>\n",
       "      <td>225.792</td>\n",
       "      <td>Drama</td>\n",
       "      <td>55</td>\n",
       "      <td>395</td>\n",
       "      <td>72400</td>\n",
       "      <td>1</td>\n",
       "      <td>80.7410</td>\n",
       "      <td>27.875</td>\n",
       "    </tr>\n",
       "    <tr>\n",
       "      <th>4</th>\n",
       "      <td>0.542</td>\n",
       "      <td>35718.650</td>\n",
       "      <td>132.2</td>\n",
       "      <td>7.26</td>\n",
       "      <td>498425</td>\n",
       "      <td>YES</td>\n",
       "      <td>143.48</td>\n",
       "      <td>284.592</td>\n",
       "      <td>Comedy</td>\n",
       "      <td>53</td>\n",
       "      <td>460</td>\n",
       "      <td>57400</td>\n",
       "      <td>0</td>\n",
       "      <td>79.9570</td>\n",
       "      <td>27.880</td>\n",
       "    </tr>\n",
       "  </tbody>\n",
       "</table>\n",
       "</div>"
      ],
      "text/plain": [
       "   Multiplex coverage     Budget  Movie_length  Critic_rating  Trailer_views  \\\n",
       "0               0.462  36524.125         138.7           7.94         527367   \n",
       "1               0.531  35668.655         152.4           7.44         494055   \n",
       "2               0.542  38873.890         119.3           8.26         516279   \n",
       "3               0.542  39701.585         127.7           8.26         531448   \n",
       "4               0.542  35718.650         132.2           7.26         498425   \n",
       "\n",
       "  3D_available  Time_taken  Twitter_hastags     Genre  Avg_age_actors  \\\n",
       "0          YES      109.60          223.840  Thriller              23   \n",
       "1           NO      146.64          243.456     Drama              42   \n",
       "2          YES      185.36          225.344     Drama              45   \n",
       "3           NO      176.48          225.792     Drama              55   \n",
       "4          YES      143.48          284.592    Comedy              53   \n",
       "\n",
       "   Num_multiplex  Collection  Start_Tech_Oscar  Expense  Rating  \n",
       "0            494       48000                 1  79.7464  31.825  \n",
       "1            462       43200                 0  89.6862  30.065  \n",
       "2            472       66800                 1  80.0074  27.870  \n",
       "3            395       72400                 1  80.7410  27.875  \n",
       "4            460       57400                 0  79.9570  27.880  "
      ]
     },
     "execution_count": 26,
     "metadata": {},
     "output_type": "execute_result"
    }
   ],
   "source": [
    "data4.head()"
   ]
  },
  {
   "cell_type": "markdown",
   "id": "c8b0adc4",
   "metadata": {
    "papermill": {
     "duration": 0.024403,
     "end_time": "2022-11-15T11:00:37.196920",
     "exception": false,
     "start_time": "2022-11-15T11:00:37.172517",
     "status": "completed"
    },
    "tags": []
   },
   "source": [
    "<div style='color: #216969;\n",
    "           background-color: #EAF6F6;\n",
    "           font-size: 200%;\n",
    "           border-radius:15px;\n",
    "           text-align:center;\n",
    "           font-weight:600;\n",
    "           border-style: solid;\n",
    "           border-color: dark green;\n",
    "           font-family: \"Cambria\";'>\n",
    "Checking for skewness\n",
    "<a class=\"anchor\" id=\"1\"></a>"
   ]
  },
  {
   "cell_type": "code",
   "execution_count": 27,
   "id": "d11d5c95",
   "metadata": {
    "execution": {
     "iopub.execute_input": "2022-11-15T11:00:37.249720Z",
     "iopub.status.busy": "2022-11-15T11:00:37.249220Z",
     "iopub.status.idle": "2022-11-15T11:00:37.277146Z",
     "shell.execute_reply": "2022-11-15T11:00:37.276255Z"
    },
    "papermill": {
     "duration": 0.057129,
     "end_time": "2022-11-15T11:00:37.279224",
     "exception": false,
     "start_time": "2022-11-15T11:00:37.222095",
     "status": "completed"
    },
    "tags": []
   },
   "outputs": [
    {
     "data": {
      "text/html": [
       "<div>\n",
       "<style scoped>\n",
       "    .dataframe tbody tr th:only-of-type {\n",
       "        vertical-align: middle;\n",
       "    }\n",
       "\n",
       "    .dataframe tbody tr th {\n",
       "        vertical-align: top;\n",
       "    }\n",
       "\n",
       "    .dataframe thead th {\n",
       "        text-align: right;\n",
       "    }\n",
       "</style>\n",
       "<table border=\"1\" class=\"dataframe\">\n",
       "  <thead>\n",
       "    <tr style=\"text-align: right;\">\n",
       "      <th></th>\n",
       "      <th>Feature</th>\n",
       "      <th>Skew</th>\n",
       "      <th>Absolute Skew</th>\n",
       "      <th>Skewed</th>\n",
       "    </tr>\n",
       "  </thead>\n",
       "  <tbody>\n",
       "    <tr>\n",
       "      <th>0</th>\n",
       "      <td>Multiplex coverage</td>\n",
       "      <td>-0.736768</td>\n",
       "      <td>0.736768</td>\n",
       "      <td>True</td>\n",
       "    </tr>\n",
       "    <tr>\n",
       "      <th>1</th>\n",
       "      <td>Budget</td>\n",
       "      <td>0.386061</td>\n",
       "      <td>0.386061</td>\n",
       "      <td>False</td>\n",
       "    </tr>\n",
       "    <tr>\n",
       "      <th>2</th>\n",
       "      <td>Movie_length</td>\n",
       "      <td>-0.581770</td>\n",
       "      <td>0.581770</td>\n",
       "      <td>True</td>\n",
       "    </tr>\n",
       "    <tr>\n",
       "      <th>3</th>\n",
       "      <td>Critic_rating</td>\n",
       "      <td>0.137840</td>\n",
       "      <td>0.137840</td>\n",
       "      <td>False</td>\n",
       "    </tr>\n",
       "    <tr>\n",
       "      <th>4</th>\n",
       "      <td>Trailer_views</td>\n",
       "      <td>-0.879177</td>\n",
       "      <td>0.879177</td>\n",
       "      <td>True</td>\n",
       "    </tr>\n",
       "    <tr>\n",
       "      <th>5</th>\n",
       "      <td>Time_taken</td>\n",
       "      <td>-0.012897</td>\n",
       "      <td>0.012897</td>\n",
       "      <td>False</td>\n",
       "    </tr>\n",
       "    <tr>\n",
       "      <th>6</th>\n",
       "      <td>Twitter_hastags</td>\n",
       "      <td>-0.020841</td>\n",
       "      <td>0.020841</td>\n",
       "      <td>False</td>\n",
       "    </tr>\n",
       "    <tr>\n",
       "      <th>7</th>\n",
       "      <td>Avg_age_actors</td>\n",
       "      <td>-0.009889</td>\n",
       "      <td>0.009889</td>\n",
       "      <td>False</td>\n",
       "    </tr>\n",
       "    <tr>\n",
       "      <th>8</th>\n",
       "      <td>Num_multiplex</td>\n",
       "      <td>0.541919</td>\n",
       "      <td>0.541919</td>\n",
       "      <td>True</td>\n",
       "    </tr>\n",
       "    <tr>\n",
       "      <th>9</th>\n",
       "      <td>Collection</td>\n",
       "      <td>1.115652</td>\n",
       "      <td>1.115652</td>\n",
       "      <td>True</td>\n",
       "    </tr>\n",
       "    <tr>\n",
       "      <th>10</th>\n",
       "      <td>Start_Tech_Oscar</td>\n",
       "      <td>-0.180320</td>\n",
       "      <td>0.180320</td>\n",
       "      <td>False</td>\n",
       "    </tr>\n",
       "    <tr>\n",
       "      <th>11</th>\n",
       "      <td>Expense</td>\n",
       "      <td>4.963830</td>\n",
       "      <td>4.963830</td>\n",
       "      <td>True</td>\n",
       "    </tr>\n",
       "    <tr>\n",
       "      <th>12</th>\n",
       "      <td>Rating</td>\n",
       "      <td>-1.006243</td>\n",
       "      <td>1.006243</td>\n",
       "      <td>True</td>\n",
       "    </tr>\n",
       "  </tbody>\n",
       "</table>\n",
       "</div>"
      ],
      "text/plain": [
       "               Feature      Skew  Absolute Skew  Skewed\n",
       "0   Multiplex coverage -0.736768       0.736768    True\n",
       "1               Budget  0.386061       0.386061   False\n",
       "2         Movie_length -0.581770       0.581770    True\n",
       "3        Critic_rating  0.137840       0.137840   False\n",
       "4        Trailer_views -0.879177       0.879177    True\n",
       "5           Time_taken -0.012897       0.012897   False\n",
       "6      Twitter_hastags -0.020841       0.020841   False\n",
       "7       Avg_age_actors -0.009889       0.009889   False\n",
       "8        Num_multiplex  0.541919       0.541919    True\n",
       "9           Collection  1.115652       1.115652    True\n",
       "10    Start_Tech_Oscar -0.180320       0.180320   False\n",
       "11             Expense  4.963830       4.963830    True\n",
       "12              Rating -1.006243       1.006243    True"
      ]
     },
     "execution_count": 27,
     "metadata": {},
     "output_type": "execute_result"
    }
   ],
   "source": [
    "skew_df = pd.DataFrame(data4.select_dtypes(np.number).columns, columns=['Feature'])\n",
    "skew_df['Skew'] = skew_df['Feature'].apply(lambda feature: skew(data4[feature]))\n",
    "skew_df['Absolute Skew'] = skew_df['Skew'].apply(abs)\n",
    "skew_df['Skewed'] = skew_df['Absolute Skew'].apply(lambda x: True if x >= 0.5 else False)\n",
    "skew_df"
   ]
  },
  {
   "cell_type": "markdown",
   "id": "2b0091bf",
   "metadata": {
    "papermill": {
     "duration": 0.025293,
     "end_time": "2022-11-15T11:00:37.329153",
     "exception": false,
     "start_time": "2022-11-15T11:00:37.303860",
     "status": "completed"
    },
    "tags": []
   },
   "source": [
    "Total Charges column is clearly skewed as we also saw in the histogram, so lets apply log transformation to it."
   ]
  },
  {
   "cell_type": "code",
   "execution_count": 28,
   "id": "71296c7b",
   "metadata": {
    "execution": {
     "iopub.execute_input": "2022-11-15T11:00:37.383342Z",
     "iopub.status.busy": "2022-11-15T11:00:37.382451Z",
     "iopub.status.idle": "2022-11-15T11:00:37.396460Z",
     "shell.execute_reply": "2022-11-15T11:00:37.395374Z"
    },
    "papermill": {
     "duration": 0.044037,
     "end_time": "2022-11-15T11:00:37.398977",
     "exception": false,
     "start_time": "2022-11-15T11:00:37.354940",
     "status": "completed"
    },
    "tags": []
   },
   "outputs": [],
   "source": [
    "for column in skew_df.query(\"Skewed == True\")['Feature'].values:\n",
    "    data4[column] = np.log1p(data4[column])"
   ]
  },
  {
   "cell_type": "code",
   "execution_count": 29,
   "id": "c39f7123",
   "metadata": {
    "execution": {
     "iopub.execute_input": "2022-11-15T11:00:37.451412Z",
     "iopub.status.busy": "2022-11-15T11:00:37.450546Z",
     "iopub.status.idle": "2022-11-15T11:00:37.473756Z",
     "shell.execute_reply": "2022-11-15T11:00:37.472238Z"
    },
    "papermill": {
     "duration": 0.05203,
     "end_time": "2022-11-15T11:00:37.476168",
     "exception": false,
     "start_time": "2022-11-15T11:00:37.424138",
     "status": "completed"
    },
    "tags": []
   },
   "outputs": [
    {
     "data": {
      "text/html": [
       "<div>\n",
       "<style scoped>\n",
       "    .dataframe tbody tr th:only-of-type {\n",
       "        vertical-align: middle;\n",
       "    }\n",
       "\n",
       "    .dataframe tbody tr th {\n",
       "        vertical-align: top;\n",
       "    }\n",
       "\n",
       "    .dataframe thead th {\n",
       "        text-align: right;\n",
       "    }\n",
       "</style>\n",
       "<table border=\"1\" class=\"dataframe\">\n",
       "  <thead>\n",
       "    <tr style=\"text-align: right;\">\n",
       "      <th></th>\n",
       "      <th>Multiplex coverage</th>\n",
       "      <th>Budget</th>\n",
       "      <th>Movie_length</th>\n",
       "      <th>Critic_rating</th>\n",
       "      <th>Trailer_views</th>\n",
       "      <th>3D_available</th>\n",
       "      <th>Time_taken</th>\n",
       "      <th>Twitter_hastags</th>\n",
       "      <th>Genre</th>\n",
       "      <th>Avg_age_actors</th>\n",
       "      <th>Num_multiplex</th>\n",
       "      <th>Collection</th>\n",
       "      <th>Start_Tech_Oscar</th>\n",
       "      <th>Expense</th>\n",
       "      <th>Rating</th>\n",
       "    </tr>\n",
       "  </thead>\n",
       "  <tbody>\n",
       "    <tr>\n",
       "      <th>0</th>\n",
       "      <td>0.379805</td>\n",
       "      <td>36524.125</td>\n",
       "      <td>4.939497</td>\n",
       "      <td>7.94</td>\n",
       "      <td>13.175654</td>\n",
       "      <td>YES</td>\n",
       "      <td>109.60</td>\n",
       "      <td>223.840</td>\n",
       "      <td>Thriller</td>\n",
       "      <td>23</td>\n",
       "      <td>6.204558</td>\n",
       "      <td>10.778977</td>\n",
       "      <td>1</td>\n",
       "      <td>4.391313</td>\n",
       "      <td>3.491190</td>\n",
       "    </tr>\n",
       "    <tr>\n",
       "      <th>1</th>\n",
       "      <td>0.425921</td>\n",
       "      <td>35668.655</td>\n",
       "      <td>5.033049</td>\n",
       "      <td>7.44</td>\n",
       "      <td>13.110404</td>\n",
       "      <td>NO</td>\n",
       "      <td>146.64</td>\n",
       "      <td>243.456</td>\n",
       "      <td>Drama</td>\n",
       "      <td>42</td>\n",
       "      <td>6.137727</td>\n",
       "      <td>10.673619</td>\n",
       "      <td>0</td>\n",
       "      <td>4.507405</td>\n",
       "      <td>3.436082</td>\n",
       "    </tr>\n",
       "    <tr>\n",
       "      <th>2</th>\n",
       "      <td>0.433080</td>\n",
       "      <td>38873.890</td>\n",
       "      <td>4.789989</td>\n",
       "      <td>8.26</td>\n",
       "      <td>13.154405</td>\n",
       "      <td>YES</td>\n",
       "      <td>185.36</td>\n",
       "      <td>225.344</td>\n",
       "      <td>Drama</td>\n",
       "      <td>45</td>\n",
       "      <td>6.159095</td>\n",
       "      <td>11.109473</td>\n",
       "      <td>1</td>\n",
       "      <td>4.394541</td>\n",
       "      <td>3.362803</td>\n",
       "    </tr>\n",
       "    <tr>\n",
       "      <th>3</th>\n",
       "      <td>0.433080</td>\n",
       "      <td>39701.585</td>\n",
       "      <td>4.857484</td>\n",
       "      <td>8.26</td>\n",
       "      <td>13.183363</td>\n",
       "      <td>NO</td>\n",
       "      <td>176.48</td>\n",
       "      <td>225.792</td>\n",
       "      <td>Drama</td>\n",
       "      <td>55</td>\n",
       "      <td>5.981414</td>\n",
       "      <td>11.189975</td>\n",
       "      <td>1</td>\n",
       "      <td>4.403556</td>\n",
       "      <td>3.362976</td>\n",
       "    </tr>\n",
       "    <tr>\n",
       "      <th>4</th>\n",
       "      <td>0.433080</td>\n",
       "      <td>35718.650</td>\n",
       "      <td>4.891852</td>\n",
       "      <td>7.26</td>\n",
       "      <td>13.119210</td>\n",
       "      <td>YES</td>\n",
       "      <td>143.48</td>\n",
       "      <td>284.592</td>\n",
       "      <td>Comedy</td>\n",
       "      <td>53</td>\n",
       "      <td>6.133398</td>\n",
       "      <td>10.957817</td>\n",
       "      <td>0</td>\n",
       "      <td>4.393918</td>\n",
       "      <td>3.363149</td>\n",
       "    </tr>\n",
       "  </tbody>\n",
       "</table>\n",
       "</div>"
      ],
      "text/plain": [
       "   Multiplex coverage     Budget  Movie_length  Critic_rating  Trailer_views  \\\n",
       "0            0.379805  36524.125      4.939497           7.94      13.175654   \n",
       "1            0.425921  35668.655      5.033049           7.44      13.110404   \n",
       "2            0.433080  38873.890      4.789989           8.26      13.154405   \n",
       "3            0.433080  39701.585      4.857484           8.26      13.183363   \n",
       "4            0.433080  35718.650      4.891852           7.26      13.119210   \n",
       "\n",
       "  3D_available  Time_taken  Twitter_hastags     Genre  Avg_age_actors  \\\n",
       "0          YES      109.60          223.840  Thriller              23   \n",
       "1           NO      146.64          243.456     Drama              42   \n",
       "2          YES      185.36          225.344     Drama              45   \n",
       "3           NO      176.48          225.792     Drama              55   \n",
       "4          YES      143.48          284.592    Comedy              53   \n",
       "\n",
       "   Num_multiplex  Collection  Start_Tech_Oscar   Expense    Rating  \n",
       "0       6.204558   10.778977                 1  4.391313  3.491190  \n",
       "1       6.137727   10.673619                 0  4.507405  3.436082  \n",
       "2       6.159095   11.109473                 1  4.394541  3.362803  \n",
       "3       5.981414   11.189975                 1  4.403556  3.362976  \n",
       "4       6.133398   10.957817                 0  4.393918  3.363149  "
      ]
     },
     "execution_count": 29,
     "metadata": {},
     "output_type": "execute_result"
    }
   ],
   "source": [
    "data4.head()"
   ]
  },
  {
   "cell_type": "markdown",
   "id": "1b83d3a1",
   "metadata": {
    "papermill": {
     "duration": 0.025748,
     "end_time": "2022-11-15T11:00:37.526865",
     "exception": false,
     "start_time": "2022-11-15T11:00:37.501117",
     "status": "completed"
    },
    "tags": []
   },
   "source": [
    "<div style='color: #216969;\n",
    "           background-color: #EAF6F6;\n",
    "           font-size: 200%;\n",
    "           border-radius:15px;\n",
    "           text-align:center;\n",
    "           font-weight:600;\n",
    "           border-style: solid;\n",
    "           border-color: dark green;\n",
    "           font-family: \"Cambria\";'>\n",
    "Encoding\n",
    "<a class=\"anchor\" id=\"1\"></a>"
   ]
  },
  {
   "cell_type": "code",
   "execution_count": 30,
   "id": "07685ca3",
   "metadata": {
    "execution": {
     "iopub.execute_input": "2022-11-15T11:00:37.580956Z",
     "iopub.status.busy": "2022-11-15T11:00:37.580194Z",
     "iopub.status.idle": "2022-11-15T11:00:37.587288Z",
     "shell.execute_reply": "2022-11-15T11:00:37.586081Z"
    },
    "papermill": {
     "duration": 0.037124,
     "end_time": "2022-11-15T11:00:37.589765",
     "exception": false,
     "start_time": "2022-11-15T11:00:37.552641",
     "status": "completed"
    },
    "tags": []
   },
   "outputs": [],
   "source": [
    "data5=data4.copy()"
   ]
  },
  {
   "cell_type": "code",
   "execution_count": 31,
   "id": "9dc01d8c",
   "metadata": {
    "execution": {
     "iopub.execute_input": "2022-11-15T11:00:37.642977Z",
     "iopub.status.busy": "2022-11-15T11:00:37.642449Z",
     "iopub.status.idle": "2022-11-15T11:00:37.657138Z",
     "shell.execute_reply": "2022-11-15T11:00:37.655572Z"
    },
    "papermill": {
     "duration": 0.04457,
     "end_time": "2022-11-15T11:00:37.659715",
     "exception": false,
     "start_time": "2022-11-15T11:00:37.615145",
     "status": "completed"
    },
    "tags": []
   },
   "outputs": [],
   "source": [
    "data5 = pd.get_dummies(data5)"
   ]
  },
  {
   "cell_type": "code",
   "execution_count": 32,
   "id": "a081f0cc",
   "metadata": {
    "execution": {
     "iopub.execute_input": "2022-11-15T11:00:37.713365Z",
     "iopub.status.busy": "2022-11-15T11:00:37.712824Z",
     "iopub.status.idle": "2022-11-15T11:00:37.739376Z",
     "shell.execute_reply": "2022-11-15T11:00:37.737634Z"
    },
    "papermill": {
     "duration": 0.057409,
     "end_time": "2022-11-15T11:00:37.742344",
     "exception": false,
     "start_time": "2022-11-15T11:00:37.684935",
     "status": "completed"
    },
    "tags": []
   },
   "outputs": [
    {
     "data": {
      "text/html": [
       "<div>\n",
       "<style scoped>\n",
       "    .dataframe tbody tr th:only-of-type {\n",
       "        vertical-align: middle;\n",
       "    }\n",
       "\n",
       "    .dataframe tbody tr th {\n",
       "        vertical-align: top;\n",
       "    }\n",
       "\n",
       "    .dataframe thead th {\n",
       "        text-align: right;\n",
       "    }\n",
       "</style>\n",
       "<table border=\"1\" class=\"dataframe\">\n",
       "  <thead>\n",
       "    <tr style=\"text-align: right;\">\n",
       "      <th></th>\n",
       "      <th>Multiplex coverage</th>\n",
       "      <th>Budget</th>\n",
       "      <th>Movie_length</th>\n",
       "      <th>Critic_rating</th>\n",
       "      <th>Trailer_views</th>\n",
       "      <th>Time_taken</th>\n",
       "      <th>Twitter_hastags</th>\n",
       "      <th>Avg_age_actors</th>\n",
       "      <th>Num_multiplex</th>\n",
       "      <th>Collection</th>\n",
       "      <th>Start_Tech_Oscar</th>\n",
       "      <th>Expense</th>\n",
       "      <th>Rating</th>\n",
       "      <th>3D_available_NO</th>\n",
       "      <th>3D_available_YES</th>\n",
       "      <th>Genre_Action</th>\n",
       "      <th>Genre_Comedy</th>\n",
       "      <th>Genre_Drama</th>\n",
       "      <th>Genre_Thriller</th>\n",
       "    </tr>\n",
       "  </thead>\n",
       "  <tbody>\n",
       "    <tr>\n",
       "      <th>0</th>\n",
       "      <td>0.379805</td>\n",
       "      <td>36524.125</td>\n",
       "      <td>4.939497</td>\n",
       "      <td>7.94</td>\n",
       "      <td>13.175654</td>\n",
       "      <td>109.60</td>\n",
       "      <td>223.840</td>\n",
       "      <td>23</td>\n",
       "      <td>6.204558</td>\n",
       "      <td>10.778977</td>\n",
       "      <td>1</td>\n",
       "      <td>4.391313</td>\n",
       "      <td>3.491190</td>\n",
       "      <td>0</td>\n",
       "      <td>1</td>\n",
       "      <td>0</td>\n",
       "      <td>0</td>\n",
       "      <td>0</td>\n",
       "      <td>1</td>\n",
       "    </tr>\n",
       "    <tr>\n",
       "      <th>1</th>\n",
       "      <td>0.425921</td>\n",
       "      <td>35668.655</td>\n",
       "      <td>5.033049</td>\n",
       "      <td>7.44</td>\n",
       "      <td>13.110404</td>\n",
       "      <td>146.64</td>\n",
       "      <td>243.456</td>\n",
       "      <td>42</td>\n",
       "      <td>6.137727</td>\n",
       "      <td>10.673619</td>\n",
       "      <td>0</td>\n",
       "      <td>4.507405</td>\n",
       "      <td>3.436082</td>\n",
       "      <td>1</td>\n",
       "      <td>0</td>\n",
       "      <td>0</td>\n",
       "      <td>0</td>\n",
       "      <td>1</td>\n",
       "      <td>0</td>\n",
       "    </tr>\n",
       "    <tr>\n",
       "      <th>2</th>\n",
       "      <td>0.433080</td>\n",
       "      <td>38873.890</td>\n",
       "      <td>4.789989</td>\n",
       "      <td>8.26</td>\n",
       "      <td>13.154405</td>\n",
       "      <td>185.36</td>\n",
       "      <td>225.344</td>\n",
       "      <td>45</td>\n",
       "      <td>6.159095</td>\n",
       "      <td>11.109473</td>\n",
       "      <td>1</td>\n",
       "      <td>4.394541</td>\n",
       "      <td>3.362803</td>\n",
       "      <td>0</td>\n",
       "      <td>1</td>\n",
       "      <td>0</td>\n",
       "      <td>0</td>\n",
       "      <td>1</td>\n",
       "      <td>0</td>\n",
       "    </tr>\n",
       "    <tr>\n",
       "      <th>3</th>\n",
       "      <td>0.433080</td>\n",
       "      <td>39701.585</td>\n",
       "      <td>4.857484</td>\n",
       "      <td>8.26</td>\n",
       "      <td>13.183363</td>\n",
       "      <td>176.48</td>\n",
       "      <td>225.792</td>\n",
       "      <td>55</td>\n",
       "      <td>5.981414</td>\n",
       "      <td>11.189975</td>\n",
       "      <td>1</td>\n",
       "      <td>4.403556</td>\n",
       "      <td>3.362976</td>\n",
       "      <td>1</td>\n",
       "      <td>0</td>\n",
       "      <td>0</td>\n",
       "      <td>0</td>\n",
       "      <td>1</td>\n",
       "      <td>0</td>\n",
       "    </tr>\n",
       "    <tr>\n",
       "      <th>4</th>\n",
       "      <td>0.433080</td>\n",
       "      <td>35718.650</td>\n",
       "      <td>4.891852</td>\n",
       "      <td>7.26</td>\n",
       "      <td>13.119210</td>\n",
       "      <td>143.48</td>\n",
       "      <td>284.592</td>\n",
       "      <td>53</td>\n",
       "      <td>6.133398</td>\n",
       "      <td>10.957817</td>\n",
       "      <td>0</td>\n",
       "      <td>4.393918</td>\n",
       "      <td>3.363149</td>\n",
       "      <td>0</td>\n",
       "      <td>1</td>\n",
       "      <td>0</td>\n",
       "      <td>1</td>\n",
       "      <td>0</td>\n",
       "      <td>0</td>\n",
       "    </tr>\n",
       "  </tbody>\n",
       "</table>\n",
       "</div>"
      ],
      "text/plain": [
       "   Multiplex coverage     Budget  Movie_length  Critic_rating  Trailer_views  \\\n",
       "0            0.379805  36524.125      4.939497           7.94      13.175654   \n",
       "1            0.425921  35668.655      5.033049           7.44      13.110404   \n",
       "2            0.433080  38873.890      4.789989           8.26      13.154405   \n",
       "3            0.433080  39701.585      4.857484           8.26      13.183363   \n",
       "4            0.433080  35718.650      4.891852           7.26      13.119210   \n",
       "\n",
       "   Time_taken  Twitter_hastags  Avg_age_actors  Num_multiplex  Collection  \\\n",
       "0      109.60          223.840              23       6.204558   10.778977   \n",
       "1      146.64          243.456              42       6.137727   10.673619   \n",
       "2      185.36          225.344              45       6.159095   11.109473   \n",
       "3      176.48          225.792              55       5.981414   11.189975   \n",
       "4      143.48          284.592              53       6.133398   10.957817   \n",
       "\n",
       "   Start_Tech_Oscar   Expense    Rating  3D_available_NO  3D_available_YES  \\\n",
       "0                 1  4.391313  3.491190                0                 1   \n",
       "1                 0  4.507405  3.436082                1                 0   \n",
       "2                 1  4.394541  3.362803                0                 1   \n",
       "3                 1  4.403556  3.362976                1                 0   \n",
       "4                 0  4.393918  3.363149                0                 1   \n",
       "\n",
       "   Genre_Action  Genre_Comedy  Genre_Drama  Genre_Thriller  \n",
       "0             0             0            0               1  \n",
       "1             0             0            1               0  \n",
       "2             0             0            1               0  \n",
       "3             0             0            1               0  \n",
       "4             0             1            0               0  "
      ]
     },
     "execution_count": 32,
     "metadata": {},
     "output_type": "execute_result"
    }
   ],
   "source": [
    "data5.head()"
   ]
  },
  {
   "cell_type": "markdown",
   "id": "3990be32",
   "metadata": {
    "papermill": {
     "duration": 0.024974,
     "end_time": "2022-11-15T11:00:37.793050",
     "exception": false,
     "start_time": "2022-11-15T11:00:37.768076",
     "status": "completed"
    },
    "tags": []
   },
   "source": [
    "<div style='color: #216969;\n",
    "           background-color: #EAF6F6;\n",
    "           font-size: 200%;\n",
    "           border-radius:15px;\n",
    "           text-align:center;\n",
    "           font-weight:600;\n",
    "           border-style: solid;\n",
    "           border-color: dark green;\n",
    "           font-family: \"Cambria\";'>\n",
    "Scaling\n",
    "<a class=\"anchor\" id=\"1\"></a>"
   ]
  },
  {
   "cell_type": "code",
   "execution_count": 33,
   "id": "4bfa57ea",
   "metadata": {
    "execution": {
     "iopub.execute_input": "2022-11-15T11:00:37.846696Z",
     "iopub.status.busy": "2022-11-15T11:00:37.846290Z",
     "iopub.status.idle": "2022-11-15T11:00:37.853000Z",
     "shell.execute_reply": "2022-11-15T11:00:37.852150Z"
    },
    "papermill": {
     "duration": 0.036368,
     "end_time": "2022-11-15T11:00:37.855246",
     "exception": false,
     "start_time": "2022-11-15T11:00:37.818878",
     "status": "completed"
    },
    "tags": []
   },
   "outputs": [],
   "source": [
    "data6 = data5.copy()"
   ]
  },
  {
   "cell_type": "code",
   "execution_count": 34,
   "id": "88612a31",
   "metadata": {
    "execution": {
     "iopub.execute_input": "2022-11-15T11:00:37.907927Z",
     "iopub.status.busy": "2022-11-15T11:00:37.907536Z",
     "iopub.status.idle": "2022-11-15T11:00:37.922573Z",
     "shell.execute_reply": "2022-11-15T11:00:37.921281Z"
    },
    "papermill": {
     "duration": 0.044528,
     "end_time": "2022-11-15T11:00:37.924932",
     "exception": false,
     "start_time": "2022-11-15T11:00:37.880404",
     "status": "completed"
    },
    "tags": []
   },
   "outputs": [],
   "source": [
    "sc = StandardScaler()\n",
    "data6[data4.select_dtypes(np.number).columns] = sc.fit_transform(data6[data4.select_dtypes(np.number).columns])"
   ]
  },
  {
   "cell_type": "code",
   "execution_count": 35,
   "id": "b8c260fb",
   "metadata": {
    "execution": {
     "iopub.execute_input": "2022-11-15T11:00:37.980367Z",
     "iopub.status.busy": "2022-11-15T11:00:37.978809Z",
     "iopub.status.idle": "2022-11-15T11:00:38.005194Z",
     "shell.execute_reply": "2022-11-15T11:00:38.003318Z"
    },
    "papermill": {
     "duration": 0.057422,
     "end_time": "2022-11-15T11:00:38.008183",
     "exception": false,
     "start_time": "2022-11-15T11:00:37.950761",
     "status": "completed"
    },
    "tags": []
   },
   "outputs": [
    {
     "data": {
      "text/html": [
       "<div>\n",
       "<style scoped>\n",
       "    .dataframe tbody tr th:only-of-type {\n",
       "        vertical-align: middle;\n",
       "    }\n",
       "\n",
       "    .dataframe tbody tr th {\n",
       "        vertical-align: top;\n",
       "    }\n",
       "\n",
       "    .dataframe thead th {\n",
       "        text-align: right;\n",
       "    }\n",
       "</style>\n",
       "<table border=\"1\" class=\"dataframe\">\n",
       "  <thead>\n",
       "    <tr style=\"text-align: right;\">\n",
       "      <th></th>\n",
       "      <th>Multiplex coverage</th>\n",
       "      <th>Budget</th>\n",
       "      <th>Movie_length</th>\n",
       "      <th>Critic_rating</th>\n",
       "      <th>Trailer_views</th>\n",
       "      <th>Time_taken</th>\n",
       "      <th>Twitter_hastags</th>\n",
       "      <th>Avg_age_actors</th>\n",
       "      <th>Num_multiplex</th>\n",
       "      <th>Collection</th>\n",
       "      <th>Expense</th>\n",
       "      <th>Rating</th>\n",
       "      <th>3D_available_NO</th>\n",
       "      <th>3D_available_YES</th>\n",
       "      <th>Genre_Action</th>\n",
       "      <th>Genre_Comedy</th>\n",
       "      <th>Genre_Drama</th>\n",
       "      <th>Genre_Thriller</th>\n",
       "    </tr>\n",
       "  </thead>\n",
       "  <tbody>\n",
       "    <tr>\n",
       "      <th>0</th>\n",
       "      <td>0.173643</td>\n",
       "      <td>0.402450</td>\n",
       "      <td>0.000267</td>\n",
       "      <td>0.180195</td>\n",
       "      <td>0.998781</td>\n",
       "      <td>-1.629537</td>\n",
       "      <td>-0.920102</td>\n",
       "      <td>-1.307596</td>\n",
       "      <td>-0.410469</td>\n",
       "      <td>0.340594</td>\n",
       "      <td>-0.863030</td>\n",
       "      <td>-0.059366</td>\n",
       "      <td>0</td>\n",
       "      <td>1</td>\n",
       "      <td>0</td>\n",
       "      <td>0</td>\n",
       "      <td>0</td>\n",
       "      <td>1</td>\n",
       "    </tr>\n",
       "    <tr>\n",
       "      <th>1</th>\n",
       "      <td>0.726879</td>\n",
       "      <td>0.184281</td>\n",
       "      <td>0.431080</td>\n",
       "      <td>-0.580711</td>\n",
       "      <td>0.616224</td>\n",
       "      <td>-0.383424</td>\n",
       "      <td>-0.334914</td>\n",
       "      <td>0.209189</td>\n",
       "      <td>-0.759252</td>\n",
       "      <td>0.081224</td>\n",
       "      <td>-0.665773</td>\n",
       "      <td>-0.459068</td>\n",
       "      <td>1</td>\n",
       "      <td>0</td>\n",
       "      <td>0</td>\n",
       "      <td>0</td>\n",
       "      <td>1</td>\n",
       "      <td>0</td>\n",
       "    </tr>\n",
       "    <tr>\n",
       "      <th>2</th>\n",
       "      <td>0.812766</td>\n",
       "      <td>1.001707</td>\n",
       "      <td>-0.688232</td>\n",
       "      <td>0.667174</td>\n",
       "      <td>0.874197</td>\n",
       "      <td>0.919208</td>\n",
       "      <td>-0.875234</td>\n",
       "      <td>0.448682</td>\n",
       "      <td>-0.647733</td>\n",
       "      <td>1.154208</td>\n",
       "      <td>-0.857547</td>\n",
       "      <td>-0.990558</td>\n",
       "      <td>0</td>\n",
       "      <td>1</td>\n",
       "      <td>0</td>\n",
       "      <td>0</td>\n",
       "      <td>1</td>\n",
       "      <td>0</td>\n",
       "    </tr>\n",
       "    <tr>\n",
       "      <th>3</th>\n",
       "      <td>0.812766</td>\n",
       "      <td>1.212793</td>\n",
       "      <td>-0.377410</td>\n",
       "      <td>0.667174</td>\n",
       "      <td>1.043976</td>\n",
       "      <td>0.620464</td>\n",
       "      <td>-0.861870</td>\n",
       "      <td>1.246990</td>\n",
       "      <td>-1.575033</td>\n",
       "      <td>1.352388</td>\n",
       "      <td>-0.842229</td>\n",
       "      <td>-0.989302</td>\n",
       "      <td>1</td>\n",
       "      <td>0</td>\n",
       "      <td>0</td>\n",
       "      <td>0</td>\n",
       "      <td>1</td>\n",
       "      <td>0</td>\n",
       "    </tr>\n",
       "    <tr>\n",
       "      <th>4</th>\n",
       "      <td>0.812766</td>\n",
       "      <td>0.197032</td>\n",
       "      <td>-0.219144</td>\n",
       "      <td>-0.854637</td>\n",
       "      <td>0.667855</td>\n",
       "      <td>-0.489734</td>\n",
       "      <td>0.892264</td>\n",
       "      <td>1.087328</td>\n",
       "      <td>-0.781845</td>\n",
       "      <td>0.780861</td>\n",
       "      <td>-0.858605</td>\n",
       "      <td>-0.988046</td>\n",
       "      <td>0</td>\n",
       "      <td>1</td>\n",
       "      <td>0</td>\n",
       "      <td>1</td>\n",
       "      <td>0</td>\n",
       "      <td>0</td>\n",
       "    </tr>\n",
       "  </tbody>\n",
       "</table>\n",
       "</div>"
      ],
      "text/plain": [
       "   Multiplex coverage    Budget  Movie_length  Critic_rating  Trailer_views  \\\n",
       "0            0.173643  0.402450      0.000267       0.180195       0.998781   \n",
       "1            0.726879  0.184281      0.431080      -0.580711       0.616224   \n",
       "2            0.812766  1.001707     -0.688232       0.667174       0.874197   \n",
       "3            0.812766  1.212793     -0.377410       0.667174       1.043976   \n",
       "4            0.812766  0.197032     -0.219144      -0.854637       0.667855   \n",
       "\n",
       "   Time_taken  Twitter_hastags  Avg_age_actors  Num_multiplex  Collection  \\\n",
       "0   -1.629537        -0.920102       -1.307596      -0.410469    0.340594   \n",
       "1   -0.383424        -0.334914        0.209189      -0.759252    0.081224   \n",
       "2    0.919208        -0.875234        0.448682      -0.647733    1.154208   \n",
       "3    0.620464        -0.861870        1.246990      -1.575033    1.352388   \n",
       "4   -0.489734         0.892264        1.087328      -0.781845    0.780861   \n",
       "\n",
       "    Expense    Rating  3D_available_NO  3D_available_YES  Genre_Action  \\\n",
       "0 -0.863030 -0.059366                0                 1             0   \n",
       "1 -0.665773 -0.459068                1                 0             0   \n",
       "2 -0.857547 -0.990558                0                 1             0   \n",
       "3 -0.842229 -0.989302                1                 0             0   \n",
       "4 -0.858605 -0.988046                0                 1             0   \n",
       "\n",
       "   Genre_Comedy  Genre_Drama  Genre_Thriller  \n",
       "0             0            0               1  \n",
       "1             0            1               0  \n",
       "2             0            1               0  \n",
       "3             0            1               0  \n",
       "4             1            0               0  "
      ]
     },
     "execution_count": 35,
     "metadata": {},
     "output_type": "execute_result"
    }
   ],
   "source": [
    "data6.drop([\"Start_Tech_Oscar\"],axis =1, inplace = True)\n",
    "data6.head()"
   ]
  },
  {
   "cell_type": "markdown",
   "id": "d99aad18",
   "metadata": {
    "papermill": {
     "duration": 0.026046,
     "end_time": "2022-11-15T11:00:38.060216",
     "exception": false,
     "start_time": "2022-11-15T11:00:38.034170",
     "status": "completed"
    },
    "tags": []
   },
   "source": [
    "<div style='color: #216969;\n",
    "           background-color: #EAF6F6;\n",
    "           font-size: 200%;\n",
    "           border-radius:15px;\n",
    "           text-align:center;\n",
    "           font-weight:600;\n",
    "           border-style: solid;\n",
    "           border-color: dark green;\n",
    "           font-family: \"Cambria\";'>\n",
    "Splitting\n",
    "<a class=\"anchor\" id=\"1\"></a>"
   ]
  },
  {
   "cell_type": "code",
   "execution_count": 36,
   "id": "7f1a120e",
   "metadata": {
    "execution": {
     "iopub.execute_input": "2022-11-15T11:00:38.114611Z",
     "iopub.status.busy": "2022-11-15T11:00:38.114147Z",
     "iopub.status.idle": "2022-11-15T11:00:38.119441Z",
     "shell.execute_reply": "2022-11-15T11:00:38.118426Z"
    },
    "papermill": {
     "duration": 0.035173,
     "end_time": "2022-11-15T11:00:38.121489",
     "exception": false,
     "start_time": "2022-11-15T11:00:38.086316",
     "status": "completed"
    },
    "tags": []
   },
   "outputs": [],
   "source": [
    "data_f = data6.copy()"
   ]
  },
  {
   "cell_type": "code",
   "execution_count": 37,
   "id": "9f439aa0",
   "metadata": {
    "execution": {
     "iopub.execute_input": "2022-11-15T11:00:38.177592Z",
     "iopub.status.busy": "2022-11-15T11:00:38.176807Z",
     "iopub.status.idle": "2022-11-15T11:00:38.186788Z",
     "shell.execute_reply": "2022-11-15T11:00:38.185641Z"
    },
    "papermill": {
     "duration": 0.041517,
     "end_time": "2022-11-15T11:00:38.189259",
     "exception": false,
     "start_time": "2022-11-15T11:00:38.147742",
     "status": "completed"
    },
    "tags": []
   },
   "outputs": [
    {
     "data": {
      "text/plain": [
       "0      1\n",
       "1      0\n",
       "2      1\n",
       "3      1\n",
       "4      0\n",
       "      ..\n",
       "485    0\n",
       "486    0\n",
       "487    0\n",
       "488    0\n",
       "489    0\n",
       "Name: Start_Tech_Oscar, Length: 490, dtype: int64"
      ]
     },
     "execution_count": 37,
     "metadata": {},
     "output_type": "execute_result"
    }
   ],
   "source": [
    "target = data4[\"Start_Tech_Oscar\"]\n",
    "target = target.astype(int)\n",
    "target"
   ]
  },
  {
   "cell_type": "code",
   "execution_count": 38,
   "id": "c587bfa4",
   "metadata": {
    "execution": {
     "iopub.execute_input": "2022-11-15T11:00:38.244715Z",
     "iopub.status.busy": "2022-11-15T11:00:38.243924Z",
     "iopub.status.idle": "2022-11-15T11:00:38.252301Z",
     "shell.execute_reply": "2022-11-15T11:00:38.251119Z"
    },
    "papermill": {
     "duration": 0.039625,
     "end_time": "2022-11-15T11:00:38.254961",
     "exception": false,
     "start_time": "2022-11-15T11:00:38.215336",
     "status": "completed"
    },
    "tags": []
   },
   "outputs": [],
   "source": [
    "X_train, X_test, y_train, y_test = train_test_split(data_f, target, test_size= 0.2, stratify= target, random_state= 42)"
   ]
  },
  {
   "cell_type": "markdown",
   "id": "ca341676",
   "metadata": {
    "papermill": {
     "duration": 0.026299,
     "end_time": "2022-11-15T11:00:38.306906",
     "exception": false,
     "start_time": "2022-11-15T11:00:38.280607",
     "status": "completed"
    },
    "tags": []
   },
   "source": [
    "<div style='color: #216969;\n",
    "           background-color: #EAF6F6;\n",
    "           font-size: 200%;\n",
    "           border-radius:15px;\n",
    "           text-align:center;\n",
    "           font-weight:600;\n",
    "           border-style: solid;\n",
    "           border-color: dark green;\n",
    "           font-family: \"Cambria\";'>\n",
    "Modeling\n",
    "<a class=\"anchor\" id=\"1\"></a>"
   ]
  },
  {
   "cell_type": "code",
   "execution_count": 39,
   "id": "24c02a09",
   "metadata": {
    "execution": {
     "iopub.execute_input": "2022-11-15T11:00:38.362560Z",
     "iopub.status.busy": "2022-11-15T11:00:38.361984Z",
     "iopub.status.idle": "2022-11-15T11:00:38.374520Z",
     "shell.execute_reply": "2022-11-15T11:00:38.373360Z"
    },
    "papermill": {
     "duration": 0.043559,
     "end_time": "2022-11-15T11:00:38.376669",
     "exception": false,
     "start_time": "2022-11-15T11:00:38.333110",
     "status": "completed"
    },
    "tags": []
   },
   "outputs": [],
   "source": [
    "models = {\n",
    "    'xgboost' : XGBClassifier(),\n",
    "    'catboost' : CatBoostClassifier(verbose=0),\n",
    "    'lightgbm' : LGBMClassifier(),\n",
    "    'gradient boosing' : GradientBoostingClassifier(),\n",
    "    'random forest' : RandomForestClassifier(),\n",
    "    'logistic regression': LogisticRegression(),\n",
    "    'naive bayes': GaussianNB(),\n",
    "}"
   ]
  },
  {
   "cell_type": "code",
   "execution_count": 40,
   "id": "16b7aea0",
   "metadata": {
    "execution": {
     "iopub.execute_input": "2022-11-15T11:00:38.432056Z",
     "iopub.status.busy": "2022-11-15T11:00:38.430470Z",
     "iopub.status.idle": "2022-11-15T11:00:42.398944Z",
     "shell.execute_reply": "2022-11-15T11:00:42.397271Z"
    },
    "papermill": {
     "duration": 4.00033,
     "end_time": "2022-11-15T11:00:42.402632",
     "exception": false,
     "start_time": "2022-11-15T11:00:38.402302",
     "status": "completed"
    },
    "tags": []
   },
   "outputs": [
    {
     "name": "stdout",
     "output_type": "stream",
     "text": [
      "xgboost trained\n",
      "catboost trained\n",
      "lightgbm trained\n",
      "gradient boosing trained\n",
      "random forest trained\n",
      "logistic regression trained\n",
      "naive bayes trained\n"
     ]
    }
   ],
   "source": [
    "for name, model in models.items():\n",
    "    model.fit(data_f, target)\n",
    "    print(f'{name} trained')"
   ]
  },
  {
   "cell_type": "markdown",
   "id": "ca34398e",
   "metadata": {
    "papermill": {
     "duration": 0.027642,
     "end_time": "2022-11-15T11:00:42.457778",
     "exception": false,
     "start_time": "2022-11-15T11:00:42.430136",
     "status": "completed"
    },
    "tags": []
   },
   "source": [
    "<div style='color: #216969;\n",
    "           background-color: #EAF6F6;\n",
    "           font-size: 200%;\n",
    "           border-radius:15px;\n",
    "           text-align:center;\n",
    "           font-weight:600;\n",
    "           border-style: solid;\n",
    "           border-color: dark green;\n",
    "           font-family: \"Cambria\";'>\n",
    "Evaluation\n",
    "<a class=\"anchor\" id=\"1\"></a>"
   ]
  },
  {
   "cell_type": "code",
   "execution_count": 41,
   "id": "7d35dcc7",
   "metadata": {
    "execution": {
     "iopub.execute_input": "2022-11-15T11:00:42.517602Z",
     "iopub.status.busy": "2022-11-15T11:00:42.517095Z",
     "iopub.status.idle": "2022-11-15T11:01:17.317738Z",
     "shell.execute_reply": "2022-11-15T11:01:17.316283Z"
    },
    "papermill": {
     "duration": 34.834996,
     "end_time": "2022-11-15T11:01:17.320829",
     "exception": false,
     "start_time": "2022-11-15T11:00:42.485833",
     "status": "completed"
    },
    "tags": []
   },
   "outputs": [],
   "source": [
    "results = {}\n",
    "\n",
    "kf = KFold(n_splits= 10)\n",
    "\n",
    "for name, model in models.items():\n",
    "    result = cross_val_score(model, X_train, y_train, scoring= 'roc_auc', cv= kf)\n",
    "    results[name] = result\n"
   ]
  },
  {
   "cell_type": "code",
   "execution_count": 42,
   "id": "9d04dff6",
   "metadata": {
    "execution": {
     "iopub.execute_input": "2022-11-15T11:01:17.378237Z",
     "iopub.status.busy": "2022-11-15T11:01:17.377789Z",
     "iopub.status.idle": "2022-11-15T11:01:17.384619Z",
     "shell.execute_reply": "2022-11-15T11:01:17.383461Z"
    },
    "papermill": {
     "duration": 0.039079,
     "end_time": "2022-11-15T11:01:17.387984",
     "exception": false,
     "start_time": "2022-11-15T11:01:17.348905",
     "status": "completed"
    },
    "tags": []
   },
   "outputs": [
    {
     "name": "stdout",
     "output_type": "stream",
     "text": [
      "----------------\n",
      "xgboost : 0.6695451590755803\n",
      "----------------\n",
      "catboost : 0.6811158640420317\n",
      "----------------\n",
      "lightgbm : 0.6913001618140264\n",
      "----------------\n",
      "gradient boosing : 0.6271791488525235\n",
      "----------------\n",
      "random forest : 0.6783703112569717\n",
      "----------------\n",
      "logistic regression : 0.679578130820088\n",
      "----------------\n",
      "naive bayes : 0.6156002207137622\n"
     ]
    }
   ],
   "source": [
    "for name, result in results.items():\n",
    "    print(\"----------------\")\n",
    "    print(f'{name} : {np.mean(result)}')"
   ]
  },
  {
   "cell_type": "markdown",
   "id": "45d02f97",
   "metadata": {
    "papermill": {
     "duration": 0.025735,
     "end_time": "2022-11-15T11:01:17.439961",
     "exception": false,
     "start_time": "2022-11-15T11:01:17.414226",
     "status": "completed"
    },
    "tags": []
   },
   "source": [
    "Lightgbm and catboost are the most efficient models here!"
   ]
  },
  {
   "cell_type": "markdown",
   "id": "4fdcd491",
   "metadata": {
    "papermill": {
     "duration": 0.025738,
     "end_time": "2022-11-15T11:01:17.492303",
     "exception": false,
     "start_time": "2022-11-15T11:01:17.466565",
     "status": "completed"
    },
    "tags": []
   },
   "source": [
    "<div style='color: #216969;\n",
    "           background-color: #EAF6F6;\n",
    "           font-size: 200%;\n",
    "           border-radius:15px;\n",
    "           text-align:center;\n",
    "           font-weight:600;\n",
    "           border-style: solid;\n",
    "           border-color: dark green;\n",
    "           font-family: \"Cambria\";'>\n",
    "Hyperparameter Optimization\n",
    "<a class=\"anchor\" id=\"1\"></a>"
   ]
  },
  {
   "cell_type": "code",
   "execution_count": 43,
   "id": "57fc919e",
   "metadata": {
    "execution": {
     "iopub.execute_input": "2022-11-15T11:01:17.552075Z",
     "iopub.status.busy": "2022-11-15T11:01:17.551224Z",
     "iopub.status.idle": "2022-11-15T11:01:17.558531Z",
     "shell.execute_reply": "2022-11-15T11:01:17.557477Z"
    },
    "papermill": {
     "duration": 0.03927,
     "end_time": "2022-11-15T11:01:17.560586",
     "exception": false,
     "start_time": "2022-11-15T11:01:17.521316",
     "status": "completed"
    },
    "tags": []
   },
   "outputs": [
    {
     "data": {
      "text/plain": [
       "\"\\ndef catboost_objective(trial):\\n    learning_rate = trial.suggest_float('learning_rate', 0, 0.5)\\n    depth = trial.suggest_int('depth', 3, 10)\\n    n_estimators = trial.suggest_int('n_estimators', 50, 600)\\n    \\n    model = CatBoostClassifier(\\n        learning_rate= learning_rate,\\n        depth= depth,\\n        n_estimators= n_estimators,\\n        verbose= 0\\n    )\\n\\n    model.fit(data_f, target)\\n    cv_score = cross_val_score(model, data_f, target, scoring= 'roc_auc', cv= kf)\\n\\n    return np.mean(cv_score)\\n\\nstudy = optuna.create_study(direction= 'maximize')\\nstudy.optimize(catboost_objective, n_trials= 100)\\n\""
      ]
     },
     "execution_count": 43,
     "metadata": {},
     "output_type": "execute_result"
    }
   ],
   "source": [
    "'''\n",
    "def catboost_objective(trial):\n",
    "    learning_rate = trial.suggest_float('learning_rate', 0, 0.5)\n",
    "    depth = trial.suggest_int('depth', 3, 10)\n",
    "    n_estimators = trial.suggest_int('n_estimators', 50, 600)\n",
    "    \n",
    "    model = CatBoostClassifier(\n",
    "        learning_rate= learning_rate,\n",
    "        depth= depth,\n",
    "        n_estimators= n_estimators,\n",
    "        verbose= 0\n",
    "    )\n",
    "\n",
    "    model.fit(data_f, target)\n",
    "    cv_score = cross_val_score(model, data_f, target, scoring= 'roc_auc', cv= kf)\n",
    "\n",
    "    return np.mean(cv_score)\n",
    "\n",
    "study = optuna.create_study(direction= 'maximize')\n",
    "study.optimize(catboost_objective, n_trials= 100)\n",
    "'''"
   ]
  },
  {
   "cell_type": "code",
   "execution_count": 44,
   "id": "d8e91c22",
   "metadata": {
    "execution": {
     "iopub.execute_input": "2022-11-15T11:01:17.616585Z",
     "iopub.status.busy": "2022-11-15T11:01:17.616028Z",
     "iopub.status.idle": "2022-11-15T11:01:17.621953Z",
     "shell.execute_reply": "2022-11-15T11:01:17.620480Z"
    },
    "papermill": {
     "duration": 0.03742,
     "end_time": "2022-11-15T11:01:17.624736",
     "exception": false,
     "start_time": "2022-11-15T11:01:17.587316",
     "status": "completed"
    },
    "tags": []
   },
   "outputs": [],
   "source": [
    "#study.best_params"
   ]
  },
  {
   "cell_type": "code",
   "execution_count": 45,
   "id": "57f188bc",
   "metadata": {
    "execution": {
     "iopub.execute_input": "2022-11-15T11:01:17.679162Z",
     "iopub.status.busy": "2022-11-15T11:01:17.678651Z",
     "iopub.status.idle": "2022-11-15T11:01:17.684463Z",
     "shell.execute_reply": "2022-11-15T11:01:17.683186Z"
    },
    "papermill": {
     "duration": 0.0364,
     "end_time": "2022-11-15T11:01:17.687110",
     "exception": false,
     "start_time": "2022-11-15T11:01:17.650710",
     "status": "completed"
    },
    "tags": []
   },
   "outputs": [],
   "source": [
    "catboost_para = {\n",
    "    'learning_rate': 0.2608976083773448, \n",
    "     'depth': 7, \n",
    "     'n_estimators': 67,\n",
    "     'verbose':0\n",
    "}"
   ]
  },
  {
   "cell_type": "code",
   "execution_count": 46,
   "id": "fd6ff90c",
   "metadata": {
    "execution": {
     "iopub.execute_input": "2022-11-15T11:01:17.742048Z",
     "iopub.status.busy": "2022-11-15T11:01:17.741558Z",
     "iopub.status.idle": "2022-11-15T11:01:18.049729Z",
     "shell.execute_reply": "2022-11-15T11:01:18.047529Z"
    },
    "papermill": {
     "duration": 0.34034,
     "end_time": "2022-11-15T11:01:18.053647",
     "exception": false,
     "start_time": "2022-11-15T11:01:17.713307",
     "status": "completed"
    },
    "tags": []
   },
   "outputs": [],
   "source": [
    "cb = CatBoostClassifier(**catboost_para)\n",
    "cb.fit(X_train, y_train)\n",
    "y_pred = cb.predict(X_test)"
   ]
  },
  {
   "cell_type": "markdown",
   "id": "5184c12a",
   "metadata": {
    "papermill": {
     "duration": 0.028636,
     "end_time": "2022-11-15T11:01:18.109777",
     "exception": false,
     "start_time": "2022-11-15T11:01:18.081141",
     "status": "completed"
    },
    "tags": []
   },
   "source": [
    "<div style='color: #216969;\n",
    "           background-color: #EAF6F6;\n",
    "           font-size: 200%;\n",
    "           border-radius:15px;\n",
    "           text-align:center;\n",
    "           font-weight:600;\n",
    "           border-style: solid;\n",
    "           border-color: dark green;\n",
    "           font-family: \"Cambria\";'>\n",
    "Evaluation\n",
    "<a class=\"anchor\" id=\"1\"></a>"
   ]
  },
  {
   "cell_type": "code",
   "execution_count": 47,
   "id": "3c488072",
   "metadata": {
    "execution": {
     "iopub.execute_input": "2022-11-15T11:01:18.170367Z",
     "iopub.status.busy": "2022-11-15T11:01:18.169896Z",
     "iopub.status.idle": "2022-11-15T11:01:18.179866Z",
     "shell.execute_reply": "2022-11-15T11:01:18.178214Z"
    },
    "papermill": {
     "duration": 0.043832,
     "end_time": "2022-11-15T11:01:18.183999",
     "exception": false,
     "start_time": "2022-11-15T11:01:18.140167",
     "status": "completed"
    },
    "tags": []
   },
   "outputs": [
    {
     "name": "stdout",
     "output_type": "stream",
     "text": [
      "ROC AUC Score: 0.635\n"
     ]
    }
   ],
   "source": [
    "print('ROC AUC Score:', round(roc_auc_score(y_test, y_pred), 3))"
   ]
  },
  {
   "cell_type": "code",
   "execution_count": 48,
   "id": "b73c3b3c",
   "metadata": {
    "execution": {
     "iopub.execute_input": "2022-11-15T11:01:18.243525Z",
     "iopub.status.busy": "2022-11-15T11:01:18.243073Z",
     "iopub.status.idle": "2022-11-15T11:01:18.539800Z",
     "shell.execute_reply": "2022-11-15T11:01:18.538279Z"
    },
    "papermill": {
     "duration": 0.330569,
     "end_time": "2022-11-15T11:01:18.543035",
     "exception": false,
     "start_time": "2022-11-15T11:01:18.212466",
     "status": "completed"
    },
    "tags": []
   },
   "outputs": [
    {
     "data": {
      "image/png": "[encoded data removed]",
      "text/plain": [
       "<Figure size 432x432 with 2 Axes>"
      ]
     },
     "metadata": {},
     "output_type": "display_data"
    }
   ],
   "source": [
    "skplt.metrics.plot_confusion_matrix(y_test, y_pred, figsize=(6,6), cmap= 'Reds');"
   ]
  },
  {
   "cell_type": "code",
   "execution_count": 49,
   "id": "7d3f20b4",
   "metadata": {
    "execution": {
     "iopub.execute_input": "2022-11-15T11:01:18.601321Z",
     "iopub.status.busy": "2022-11-15T11:01:18.600901Z",
     "iopub.status.idle": "2022-11-15T11:01:18.608071Z",
     "shell.execute_reply": "2022-11-15T11:01:18.606677Z"
    },
    "papermill": {
     "duration": 0.039837,
     "end_time": "2022-11-15T11:01:18.610831",
     "exception": false,
     "start_time": "2022-11-15T11:01:18.570994",
     "status": "completed"
    },
    "tags": []
   },
   "outputs": [],
   "source": [
    "def accuracy(actual, pred):\n",
    "    c_predictions = 0\n",
    "    for i in range(len(actual)):\n",
    "        if actual[i] == pred[i]:\n",
    "            c_predictions += 1\n",
    "    return c_predictions / float(len(actual)) * 100"
   ]
  },
  {
   "cell_type": "code",
   "execution_count": 50,
   "id": "afa69dc9",
   "metadata": {
    "execution": {
     "iopub.execute_input": "2022-11-15T11:01:18.667397Z",
     "iopub.status.busy": "2022-11-15T11:01:18.665797Z",
     "iopub.status.idle": "2022-11-15T11:01:18.672611Z",
     "shell.execute_reply": "2022-11-15T11:01:18.671662Z"
    },
    "papermill": {
     "duration": 0.038291,
     "end_time": "2022-11-15T11:01:18.675949",
     "exception": false,
     "start_time": "2022-11-15T11:01:18.637658",
     "status": "completed"
    },
    "tags": []
   },
   "outputs": [
    {
     "name": "stdout",
     "output_type": "stream",
     "text": [
      "Accuracy: 63.26530612244898%\n"
     ]
    }
   ],
   "source": [
    "print(f'Accuracy: {accuracy(y_test.values, y_pred)}%')"
   ]
  }
 ],
 "metadata": {
  "kernelspec": {
   "display_name": "Python 3",
   "language": "python",
   "name": "python3"
  },
  "language_info": {
   "codemirror_mode": {
    "name": "ipython",
    "version": 3
   },
   "file_extension": ".py",
   "mimetype": "text/x-python",
   "name": "python",
   "nbconvert_exporter": "python",
   "pygments_lexer": "ipython3",
   "version": "3.7.12"
  },
  "papermill": {
   "default_parameters": {},
   "duration": 67.196827,
   "end_time": "2022-11-15T11:01:19.935622",
   "environment_variables": {},
   "exception": null,
   "input_path": "__notebook__.ipynb",
   "output_path": "__notebook__.ipynb",
   "parameters": {},
   "start_time": "2022-11-15T11:00:12.738795",
   "version": "2.3.4"
  }
 },
 "nbformat": 4,
 "nbformat_minor": 5
}
